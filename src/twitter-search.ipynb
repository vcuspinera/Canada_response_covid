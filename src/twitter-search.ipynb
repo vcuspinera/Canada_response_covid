{
 "cells": [
  {
   "cell_type": "markdown",
   "metadata": {},
   "source": [
    "# Search for tweets"
   ]
  },
  {
   "cell_type": "markdown",
   "metadata": {},
   "source": [
    "### Import libraries"
   ]
  },
  {
   "cell_type": "code",
   "execution_count": 1,
   "metadata": {},
   "outputs": [],
   "source": [
    "import numpy as np\n",
    "import pandas as pd\n",
    "import twitter\n",
    "import time\n",
    "import collections\n",
    "from datetime import datetime, timedelta\n",
    "from pytz import timezone"
   ]
  },
  {
   "cell_type": "markdown",
   "metadata": {},
   "source": [
    "### Bring your twitter's keys"
   ]
  },
  {
   "cell_type": "code",
   "execution_count": 2,
   "metadata": {},
   "outputs": [],
   "source": [
    "# Call your twitter keys\n",
    "keys = ! ../keys/twitter_config.py\n",
    "\n",
    "# Save keys to use them later\n",
    "api = twitter.Api(consumer_key = keys[0],\n",
    "                  consumer_secret = keys[1],\n",
    "                  access_token_key = keys[2],\n",
    "                  access_token_secret = keys[3],\n",
    "                  sleep_on_rate_limit=True #\n",
    "                 )"
   ]
  },
  {
   "cell_type": "markdown",
   "metadata": {},
   "source": [
    "### Parameters"
   ]
  },
  {
   "cell_type": "code",
   "execution_count": 3,
   "metadata": {},
   "outputs": [],
   "source": [
    "# twitter accounts\n",
    "accounts = (\"CanadianPM\", \"Canada\", \"OpenGovCan\", \"GovCanHealth\")\n",
    "\n",
    "# dates\n",
    "# format YYYY-MM-DD, and has a 7-day limit (no tweets will be found \n",
    "# for a date older than one week.)\n",
    "today = datetime.now()#timezone('US/Pacific'))\n",
    "dates = list()\n",
    "for d in range(7, -2, -1):\n",
    "    aux = today - timedelta(days=d)\n",
    "    dates.append(aux.strftime(\"%Y-%m-%d\"))\n",
    "\n",
    "today = today.strftime(\"%Y-%m-%d\")\n",
    "\n",
    "# tweets\n",
    "num_tweets = 100\n",
    "max_tweets = 180\n",
    "time_epoc = 900 # 15 minutes = 900 seconds\n",
    "time_waiting = time_epoc / max_tweets"
   ]
  },
  {
   "cell_type": "markdown",
   "metadata": {},
   "source": [
    "### Restrictions\n",
    "The standard API rate limits described in the [Twitter developer's documents](https://developer.twitter.com/en/docs/tweets/search/api-reference/get-search-tweets) related with GET (read) endpoints are shown in the next table.  \n",
    "\n",
    "Note that endpoints not listed in the chart default to 15 requests per allotted user. All request windows are *15 minutes in length*.  These rate limits apply to the standard API endpoints only.\n",
    "\n",
    "| Endpoint | Resource family | Requests / window (user auth) | Requests / window (app auth) |\n",
    "|---|:--:|:---:|:---:|\n",
    "|GET search/tweets | search | 180 | 450 |\n",
    "\n",
    "Also, the search index has a 7-day limit, which means that no tweets will be found for a date older than one week."
   ]
  },
  {
   "cell_type": "markdown",
   "metadata": {},
   "source": [
    "### Retrieve tweets"
   ]
  },
  {
   "cell_type": "code",
   "execution_count": 4,
   "metadata": {},
   "outputs": [
    {
     "name": "stdout",
     "output_type": "stream",
     "text": [
      "--- Retrieving tweets ---\n",
      "\n",
      "DATE       : ACCOUNT\n",
      "---------- : -------\n",
      "2020-08-06 : CanadianPM\n",
      "2020-08-07 : CanadianPM\n",
      "2020-08-08 : CanadianPM\n",
      "2020-08-09 : CanadianPM\n",
      "2020-08-10 : CanadianPM\n",
      "2020-08-11 : CanadianPM\n",
      "2020-08-12 : CanadianPM\n",
      "2020-08-13 : CanadianPM\n",
      "2020-08-06 : Canada\n",
      "2020-08-07 : Canada\n",
      "2020-08-08 : Canada\n",
      "2020-08-09 : Canada\n",
      "2020-08-10 : Canada\n",
      "2020-08-11 : Canada\n",
      "2020-08-12 : Canada\n",
      "2020-08-13 : Canada\n",
      "2020-08-06 : OpenGovCan\n",
      "2020-08-07 : OpenGovCan\n",
      "2020-08-08 : OpenGovCan\n",
      "2020-08-09 : OpenGovCan\n",
      "2020-08-10 : OpenGovCan\n",
      "2020-08-11 : OpenGovCan\n",
      "2020-08-12 : OpenGovCan\n",
      "2020-08-13 : OpenGovCan\n",
      "2020-08-06 : GovCanHealth\n",
      "2020-08-07 : GovCanHealth\n",
      "2020-08-08 : GovCanHealth\n",
      "2020-08-09 : GovCanHealth\n",
      "2020-08-10 : GovCanHealth\n",
      "2020-08-11 : GovCanHealth\n",
      "2020-08-12 : GovCanHealth\n",
      "2020-08-13 : GovCanHealth\n",
      "\n",
      "--- Completed ---\n"
     ]
    }
   ],
   "source": [
    "# dictionary of dictionaries\n",
    "results = collections.defaultdict(dict)\n",
    "print(\"--- Retrieving tweets ---\")\n",
    "print(\"\\nDATE       : ACCOUNT\")\n",
    "print(\"---------- : -------\")\n",
    "for ac in accounts:\n",
    "    for d in range(0, len(dates)-1):\n",
    "#     for da in dates:\n",
    "        print(dates[d] + \" : \" + ac)\n",
    "        results[ac][dates[d]] = api.GetSearch(\n",
    "            raw_query = \"q=\" + ac + \n",
    "                        \"%20&until=\" + dates[d+1] +\n",
    "                        \"&count=\" + str(num_tweets)\n",
    "        )\n",
    "        time.sleep(time_waiting)\n",
    "print(\"\\n--- Completed ---\")"
   ]
  },
  {
   "cell_type": "code",
   "execution_count": 5,
   "metadata": {},
   "outputs": [
    {
     "name": "stdout",
     "output_type": "stream",
     "text": [
      "accounts: ('CanadianPM', 'Canada', 'OpenGovCan', 'GovCanHealth')\n",
      "dates: ['2020-08-06', '2020-08-07', '2020-08-08', '2020-08-09', '2020-08-10', '2020-08-11', '2020-08-12', '2020-08-13']\n"
     ]
    }
   ],
   "source": [
    "print(\"accounts:\", accounts)\n",
    "print(\"dates:\", dates[:-1])"
   ]
  },
  {
   "cell_type": "code",
   "execution_count": 6,
   "metadata": {},
   "outputs": [],
   "source": [
    "## Uncomment and run this cell to see the retrieved results\n",
    "# results"
   ]
  },
  {
   "cell_type": "markdown",
   "metadata": {},
   "source": [
    "#### Example:"
   ]
  },
  {
   "cell_type": "code",
   "execution_count": 7,
   "metadata": {},
   "outputs": [
    {
     "name": "stdout",
     "output_type": "stream",
     "text": [
      "Account: Canada\n",
      "Date: 2020-08-13\n"
     ]
    },
    {
     "data": {
      "text/plain": [
       "Status(ID=1293779114701316096, ScreenName=19blocksup, Created=Thu Aug 13 05:19:12 +0000 2020, Text='@GovCanHealth @CPHO_Canada @CanadianPM Dr. Sanjay Gupta: Why I am not sending my kids back to school\\nhttps://t.co/dJ8tdCX7Ih')"
      ]
     },
     "execution_count": 7,
     "metadata": {},
     "output_type": "execute_result"
    }
   ],
   "source": [
    "# First tweet by the public to the 'Canada' account on the last day of the period.\n",
    "print('Account: Canada')\n",
    "print('Date:', today)\n",
    "results['CanadianPM'][today][0]"
   ]
  },
  {
   "cell_type": "markdown",
   "metadata": {},
   "source": [
    "### Load dictionaries (if exist) and save tweets"
   ]
  },
  {
   "cell_type": "code",
   "execution_count": 8,
   "metadata": {},
   "outputs": [],
   "source": [
    "# Load \n",
    "#  - retrieve dictionaries if they exist,\n",
    "#  - if they doesn't exist, it creates them,\n",
    "#  - finally adds the tweets from the last 7 days.\n",
    "results_all = collections.defaultdict(dict)\n",
    "for ac in accounts: \n",
    "    try:\n",
    "        results_all[ac] = np.load('../tweets/tweets_' +ac+ '.npy',allow_pickle='TRUE').item()\n",
    "    except:\n",
    "        next\n",
    "    for d in range(0, len(dates)-1):\n",
    "        results_all[ac][dates[d]] = results[ac][dates[d]]"
   ]
  },
  {
   "cell_type": "code",
   "execution_count": 9,
   "metadata": {},
   "outputs": [],
   "source": [
    "## Uncomment and run this cell to see all the retrieved results over time\n",
    "# results_all"
   ]
  },
  {
   "cell_type": "code",
   "execution_count": 10,
   "metadata": {},
   "outputs": [],
   "source": [
    "# Save\n",
    "for ac in accounts:\n",
    "    np.save('../tweets/tweets_' + ac + '.npy', results_all[ac])"
   ]
  },
  {
   "cell_type": "code",
   "execution_count": null,
   "metadata": {},
   "outputs": [],
   "source": []
  }
 ],
 "metadata": {
  "kernelspec": {
   "display_name": "Python 3",
   "language": "python",
   "name": "python3"
  },
  "language_info": {
   "codemirror_mode": {
    "name": "ipython",
    "version": 3
   },
   "file_extension": ".py",
   "mimetype": "text/x-python",
   "name": "python",
   "nbconvert_exporter": "python",
   "pygments_lexer": "ipython3",
   "version": "3.7.7"
  }
 },
 "nbformat": 4,
 "nbformat_minor": 4
}
