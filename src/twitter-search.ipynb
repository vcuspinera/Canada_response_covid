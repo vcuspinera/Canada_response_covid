{
 "cells": [
  {
   "cell_type": "markdown",
   "metadata": {},
   "source": [
    "# Search for tweets\n",
    "File to use "
   ]
  },
  {
   "cell_type": "code",
   "execution_count": 1,
   "metadata": {},
   "outputs": [],
   "source": [
    "import numpy as np\n",
    "import pandas as pd\n",
    "import twitter\n",
    "# import json"
   ]
  },
  {
   "cell_type": "code",
   "execution_count": 2,
   "metadata": {},
   "outputs": [],
   "source": [
    "# Call your twitter keys\n",
    "keys = ! ../keys/twitter_config.py\n",
    "\n",
    "# Save keys to use them later\n",
    "api = twitter.Api(consumer_key = keys[0],\n",
    "                  consumer_secret = keys[1],\n",
    "                  access_token_key = keys[2],\n",
    "                  access_token_secret = keys[3],\n",
    "                  sleep_on_rate_limit=True #\n",
    "                 )"
   ]
  },
  {
   "cell_type": "code",
   "execution_count": 3,
   "metadata": {},
   "outputs": [],
   "source": [
    "accounts = {\"CanadianPM\", \"Canada\", \"OpenGovCan\", \"GovCanHealth\"}\n",
    "dates = {\"2020-03-25\", # before the announcement\n",
    "         }"
   ]
  },
  {
   "cell_type": "code",
   "execution_count": 6,
   "metadata": {},
   "outputs": [
    {
     "name": "stdout",
     "output_type": "stream",
     "text": [
      "['Today, Prime Minister Justin Trudeau spoke with the President of France, @EmmanuelMacron, to discuss the latest dev… https://t.co/hgOgRnDaKX', 'Today, Prime Minister Justin Trudeau announced that applications are now being accepted for Canada Emergency Commer… https://t.co/g72dW0Ovvj', 'Watch live: Prime Minister Justin Trudeau addresses Canadians on the #COVID19 situation from Rideau Cottage, in Ott… https://t.co/HiXiXKCblh', 'Prime Minister Justin Trudeau’s statement on #AfricaDay: https://t.co/dMwqwtSCFZ', 'Your day to apply for CECRA for small businesses depends on your province or territory. Details: https://t.co/W0LEfQckCB #COVID19', 'If you are a property owner located in Atlantic Canada, BC, Alberta or Quebec, and are eligible for the Canada Emer… https://t.co/kWWUjDmQHN', 'If you’re a commercial property owner and have small business tenants struggling to make their rent, you may be eli… https://t.co/6dgHFloWP6', 'Day in and day out, paramedics and communications officers answer our calls for help and put themselves in harm’s w… https://t.co/EeECPsEeNP', 'Tonight at sunset, Muslims in Canada and around the world will celebrate Eid al-Fitr, marking the end of Ramadan. R… https://t.co/E2VtpIjwKD', 'Prime Minister Justin Trudeau’s statement on the anniversary of the Komagata Maru incident: https://t.co/G31esqJVwM', 'Watch Prime Minister Justin Trudeau’s full remarks from this morning here: https://t.co/t7AglUfaRc', 'Today, Prime Minister Justin Trudeau spoke with the Permanent Representatives of the Arab League countries at the U… https://t.co/MJlenBWSnM', 'Canadians have been staying home, physical distancing, and listening to public health advice, which means we can re… https://t.co/ANo1mKVeOS', \"RT @InspectionCan: Are your little ones getting restless at home during #COVID19? We're always looking for #JuniorCFIA scientists, no matte…\", 'RT @CMHC_ca: Do you own a commercial property and want to provide rent relief for your tenant? #CECRA is available to both mortgaged and no…', 'RT @GovCanHealth: Feeling stressed or overwhelmed because of #COVID19? If you’re finding it hard to cope or are worried about your substanc…', 'RT @DigitalCDN: 1/2 Need help understanding what #COVID19 benefits may be available to you? \\n\\nMin. Murray announced a new online tool to he…', 'Yesterday, Prime Minister Justin Trudeau spoke with the Permanent Representatives of the United Nations’ Asia-Pacif… https://t.co/YYFPBHmqyx', '“The news from Pakistan this morning is devastating. To the families and friends of those who lost their lives in t… https://t.co/hRrTVPdbkL', 'Watch live: Prime Minister Justin Trudeau addresses Canadians on the #COVID19 situation from Rideau Cottage, in Ott… https://t.co/eJaCbk9Sl1']\n"
     ]
    }
   ],
   "source": [
    "# Timeline\n",
    "statuses = api.GetUserTimeline(screen_name=\"CanadianPM\")\n",
    "print([s.text for s in statuses])"
   ]
  },
  {
   "cell_type": "code",
   "execution_count": null,
   "metadata": {},
   "outputs": [],
   "source": [
    "# # Get friends\n",
    "# users = api.GetFriends()\n",
    "# print([u.name for u in users])"
   ]
  },
  {
   "cell_type": "markdown",
   "metadata": {},
   "source": [
    "#### GET endpoints\n",
    "The standard API rate limits described in this table refer to GET (read) endpoints. Note that endpoints not listed in the chart default to 15 requests per allotted user. All request windows are **15 minutes in length**.  These rate limits apply to the standard API endpoints only, does not apply to premium APIs.\n",
    "\n",
    "| Endpoint | Resource family | Requests / window (user auth) | Requests / window (app auth) |\n",
    "|---|:--:|:---:|:---:|\n",
    "|GET search/tweets | search | 180 | 450 |"
   ]
  },
  {
   "cell_type": "code",
   "execution_count": 8,
   "metadata": {},
   "outputs": [
    {
     "data": {
      "text/plain": [
       "[Status(ID=1264968624332312576, ScreenName=YKChamber, Created=Mon May 25 17:16:36 +0000 2020, Text='RT @OpenGovCan: #COVID19 has affected all industries in 🇨🇦. \\n\\nUse @StatCan_eng’s data to see the impacts of the virus on Canadian businesse…'),\n",
       " Status(ID=1264949738199306240, ScreenName=OpenGovCan, Created=Mon May 25 16:01:33 +0000 2020, Text='#COVID19 has affected all industries in 🇨🇦. \\n\\nUse @StatCan_eng’s data to see the impacts of the virus on Canadian b… https://t.co/j4dWHyZT1F'),\n",
       " Status(ID=1264941020548141058, ScreenName=OpenGovCan, Created=Mon May 25 15:26:55 +0000 2020, Text='RT @StatCan_eng: Join us TODAY at 1 p.m. ET for the first of this week’s webinar series on the role of the #research community in supportin…')]"
      ]
     },
     "execution_count": 8,
     "metadata": {},
     "output_type": "execute_result"
    }
   ],
   "source": [
    "# Retrieve tweets\n",
    "results = api.GetSearch(\n",
    "    raw_query=\"q=OpenGovCan%20&result_type=recent&since=2020-03-25&count=3&cursor=4\")\n",
    "results"
   ]
  },
  {
   "cell_type": "markdown",
   "metadata": {},
   "source": [
    "### Previous code"
   ]
  },
  {
   "cell_type": "code",
   "execution_count": 10,
   "metadata": {},
   "outputs": [],
   "source": [
    "tweets = []\n",
    "for i in results:\n",
    "    print(json.loads(str(i))['text'])\n",
    "# x = json.loads(str(results[3]))['text']\n",
    "# x\n",
    "\n"
   ]
  },
  {
   "cell_type": "code",
   "execution_count": null,
   "metadata": {},
   "outputs": [],
   "source": [
    "# data = pd.read_json(\"../data/sample.json\")\n",
    "# data"
   ]
  }
 ],
 "metadata": {
  "kernelspec": {
   "display_name": "Python 3",
   "language": "python",
   "name": "python3"
  },
  "language_info": {
   "codemirror_mode": {
    "name": "ipython",
    "version": 3
   },
   "file_extension": ".py",
   "mimetype": "text/x-python",
   "name": "python",
   "nbconvert_exporter": "python",
   "pygments_lexer": "ipython3",
   "version": "3.7.6"
  }
 },
 "nbformat": 4,
 "nbformat_minor": 4
}
