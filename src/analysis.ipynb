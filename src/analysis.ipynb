{
 "cells": [
  {
   "cell_type": "markdown",
   "metadata": {},
   "source": [
    "<br>\n",
    "<h1 style=\"font-family:sans-serif; text-align:center\"> \n",
    "<!--     <span style='color: pink'> Twitter analysis of </span> -->\n",
    "    <span style='color: white; font-size:50%; text-shadow: 0px 0px 15px black'> Twitter analysis of </span>\n",
    "<!--     <span style='color:#00acee'> Twitter analysis of </span> -->\n",
    "<!--     <span style=\"-webkit-text-stroke\"> Twitter analysis of</span> -->\n",
    "<!--     <span class=\"hr3\" style='color:#e40843; letter-spacing: 4px; font-size:105%'> Canada</span> -->\n",
    "    <span class=\"hr3\" style='color:#e40843; font-size:60%; text-shadow: 0px 0px 30px pink'>Canada </span> <span class=\"hr3\" style='color:gray; font-size:50%; text-shadow: 0px 0px 30px pink'>response to Covid-19</span><br>\n",
    "</h1>\n",
    "\n",
    "# Analysis\n",
    "\n",
    "The aim of this notebook is to analyze the retrieved tweets obtained using *snscrape*, from March 1st to April 30th of 2020, in order to analyze the difference in sentiment analysis of tweets from people befor and after Trudeau's [announcement of government policies facing impact of Covid-19](https://www.youtube.com/watch?v=1o-tV0A87l8&feature=youtu.be) to support small businesses and their employees.\n",
    "\n",
    "\n",
    "_Authors: Leo Cuspinera ([cuspime](https://github.com/cuspime)) and Victor Cuspinera ([vcuspinera](https://github.com/vcuspinera))_"
   ]
  },
  {
   "cell_type": "markdown",
   "metadata": {},
   "source": [
    "## Import libraries"
   ]
  },
  {
   "cell_type": "code",
   "execution_count": 1,
   "metadata": {},
   "outputs": [],
   "source": [
    "# General libraries\n",
    "import pandas as pd\n",
    "import numpy as np\n",
    "import os\n",
    "import time\n",
    "from datetime import datetime, timedelta, date\n",
    "from pytz import timezone\n",
    "import json\n",
    "\n",
    "# To plot\n",
    "import altair as alt\n",
    "alt.renderers.enable('mimetype')\n",
    "\n",
    "# Preprocess libraries\n",
    "import re\n",
    "import spacy\n",
    "import string\n",
    "import en_core_web_sm\n",
    "nlp = en_core_web_sm.load()\n",
    "\n",
    "# Ignore warnings\n",
    "import warnings\n",
    "warnings.filterwarnings(\"ignore\")"
   ]
  },
  {
   "cell_type": "markdown",
   "metadata": {},
   "source": [
    "## Parameters"
   ]
  },
  {
   "cell_type": "code",
   "execution_count": 2,
   "metadata": {},
   "outputs": [],
   "source": [
    "# dates\n",
    "today = datetime.now()\n",
    "init = date.fromisoformat('2020-03-01')\n",
    "\n",
    "my_dates = list()\n",
    "for d in range(0, 61, 1):\n",
    "# for d in range(0, 1, 1):\n",
    "    aux = init + timedelta(days=d)\n",
    "    my_dates.append(aux)\n",
    "\n",
    "# twitter accounts\n",
    "accounts = ('JustinTrudeau', 'CanadianPM', 'Canada', 'GovCanHealth')\n",
    "\n",
    "# max number of results\n",
    "max_results = 100_000\n",
    "\n",
    "#folder to save information\n",
    "my_folder = \"../tweets/\""
   ]
  },
  {
   "cell_type": "markdown",
   "metadata": {},
   "source": [
    "## Open `json` file with all tweets"
   ]
  },
  {
   "cell_type": "code",
   "execution_count": 3,
   "metadata": {},
   "outputs": [
    {
     "name": "stdout",
     "output_type": "stream",
     "text": [
      "CPU times: user 49.4 s, sys: 14.8 s, total: 1min 4s\n",
      "Wall time: 1min 11s\n"
     ]
    }
   ],
   "source": [
    "%%time\n",
    "\n",
    "# Open the file\n",
    "df_tot = pd.read_json(my_folder + 'tweets_db_clean.json')"
   ]
  },
  {
   "cell_type": "markdown",
   "metadata": {},
   "source": [
    "## Basic analysis"
   ]
  },
  {
   "cell_type": "code",
   "execution_count": 4,
   "metadata": {},
   "outputs": [
    {
     "data": {
      "text/html": [
       "<div>\n",
       "<style scoped>\n",
       "    .dataframe tbody tr th:only-of-type {\n",
       "        vertical-align: middle;\n",
       "    }\n",
       "\n",
       "    .dataframe tbody tr th {\n",
       "        vertical-align: top;\n",
       "    }\n",
       "\n",
       "    .dataframe thead th {\n",
       "        text-align: right;\n",
       "    }\n",
       "</style>\n",
       "<table border=\"1\" class=\"dataframe\">\n",
       "  <thead>\n",
       "    <tr style=\"text-align: right;\">\n",
       "      <th></th>\n",
       "      <th>account</th>\n",
       "      <th>date</th>\n",
       "      <th>replyCount</th>\n",
       "      <th>retweetCount</th>\n",
       "      <th>likeCount</th>\n",
       "      <th>quoteCount</th>\n",
       "      <th>lang</th>\n",
       "      <th>sourceLabel</th>\n",
       "      <th>username</th>\n",
       "      <th>followersCount</th>\n",
       "      <th>friendsCount</th>\n",
       "      <th>location</th>\n",
       "      <th>tweet</th>\n",
       "    </tr>\n",
       "  </thead>\n",
       "  <tbody>\n",
       "    <tr>\n",
       "      <th>3503872</th>\n",
       "      <td>JustinTrudeau</td>\n",
       "      <td>2020-04-30 00:00:19</td>\n",
       "      <td>1</td>\n",
       "      <td>0</td>\n",
       "      <td>0</td>\n",
       "      <td>0</td>\n",
       "      <td>en</td>\n",
       "      <td>Twitter for iPhone</td>\n",
       "      <td>pffoote</td>\n",
       "      <td>356</td>\n",
       "      <td>1531</td>\n",
       "      <td>St. John's, NL, Canada</td>\n",
       "      <td>@rcaf_arc @cfsnowbirds @canadianforces @cfoper...</td>\n",
       "    </tr>\n",
       "    <tr>\n",
       "      <th>3503873</th>\n",
       "      <td>JustinTrudeau</td>\n",
       "      <td>2020-04-30 00:00:18</td>\n",
       "      <td>0</td>\n",
       "      <td>0</td>\n",
       "      <td>0</td>\n",
       "      <td>0</td>\n",
       "      <td>hi</td>\n",
       "      <td>Twitter for Android</td>\n",
       "      <td>chandan24513630</td>\n",
       "      <td>1</td>\n",
       "      <td>40</td>\n",
       "      <td></td>\n",
       "      <td>@narendramodi @justintrudeau who बौना होगा अगर...</td>\n",
       "    </tr>\n",
       "    <tr>\n",
       "      <th>3503874</th>\n",
       "      <td>JustinTrudeau</td>\n",
       "      <td>2020-04-30 00:00:08</td>\n",
       "      <td>0</td>\n",
       "      <td>0</td>\n",
       "      <td>0</td>\n",
       "      <td>0</td>\n",
       "      <td>en</td>\n",
       "      <td>Twitter Web App</td>\n",
       "      <td>DavidCBarron</td>\n",
       "      <td>231</td>\n",
       "      <td>331</td>\n",
       "      <td>Brampton Ontario</td>\n",
       "      <td>@cbcnews @ctvnews @justintrudeau @celliottabil...</td>\n",
       "    </tr>\n",
       "  </tbody>\n",
       "</table>\n",
       "</div>"
      ],
      "text/plain": [
       "               account                date  replyCount  retweetCount  \\\n",
       "3503872  JustinTrudeau 2020-04-30 00:00:19           1             0   \n",
       "3503873  JustinTrudeau 2020-04-30 00:00:18           0             0   \n",
       "3503874  JustinTrudeau 2020-04-30 00:00:08           0             0   \n",
       "\n",
       "         likeCount  quoteCount lang          sourceLabel         username  \\\n",
       "3503872          0           0   en   Twitter for iPhone          pffoote   \n",
       "3503873          0           0   hi  Twitter for Android  chandan24513630   \n",
       "3503874          0           0   en      Twitter Web App     DavidCBarron   \n",
       "\n",
       "         followersCount  friendsCount                location  \\\n",
       "3503872             356          1531  St. John's, NL, Canada   \n",
       "3503873               1            40                           \n",
       "3503874             231           331        Brampton Ontario   \n",
       "\n",
       "                                                     tweet  \n",
       "3503872  @rcaf_arc @cfsnowbirds @canadianforces @cfoper...  \n",
       "3503873  @narendramodi @justintrudeau who बौना होगा अगर...  \n",
       "3503874  @cbcnews @ctvnews @justintrudeau @celliottabil...  "
      ]
     },
     "execution_count": 4,
     "metadata": {},
     "output_type": "execute_result"
    }
   ],
   "source": [
    "# A first view of the data frame\n",
    "df_tot.tail(3)"
   ]
  },
  {
   "cell_type": "code",
   "execution_count": 5,
   "metadata": {},
   "outputs": [
    {
     "data": {
      "text/plain": [
       "3503875"
      ]
     },
     "execution_count": 5,
     "metadata": {},
     "output_type": "execute_result"
    }
   ],
   "source": [
    "# number of tweets\n",
    "len(df_tot)"
   ]
  },
  {
   "cell_type": "code",
   "execution_count": 6,
   "metadata": {},
   "outputs": [
    {
     "name": "stdout",
     "output_type": "stream",
     "text": [
      "CPU times: user 1.36 s, sys: 89.4 ms, total: 1.45 s\n",
      "Wall time: 1.45 s\n"
     ]
    },
    {
     "data": {
      "text/html": [
       "<div>\n",
       "<style scoped>\n",
       "    .dataframe tbody tr th:only-of-type {\n",
       "        vertical-align: middle;\n",
       "    }\n",
       "\n",
       "    .dataframe tbody tr th {\n",
       "        vertical-align: top;\n",
       "    }\n",
       "\n",
       "    .dataframe thead th {\n",
       "        text-align: right;\n",
       "    }\n",
       "</style>\n",
       "<table border=\"1\" class=\"dataframe\">\n",
       "  <thead>\n",
       "    <tr style=\"text-align: right;\">\n",
       "      <th></th>\n",
       "      <th>date</th>\n",
       "      <th>replyCount</th>\n",
       "      <th>retweetCount</th>\n",
       "      <th>likeCount</th>\n",
       "      <th>quoteCount</th>\n",
       "      <th>lang</th>\n",
       "      <th>sourceLabel</th>\n",
       "      <th>username</th>\n",
       "      <th>followersCount</th>\n",
       "      <th>friendsCount</th>\n",
       "      <th>location</th>\n",
       "      <th>tweet</th>\n",
       "    </tr>\n",
       "    <tr>\n",
       "      <th>account</th>\n",
       "      <th></th>\n",
       "      <th></th>\n",
       "      <th></th>\n",
       "      <th></th>\n",
       "      <th></th>\n",
       "      <th></th>\n",
       "      <th></th>\n",
       "      <th></th>\n",
       "      <th></th>\n",
       "      <th></th>\n",
       "      <th></th>\n",
       "      <th></th>\n",
       "    </tr>\n",
       "  </thead>\n",
       "  <tbody>\n",
       "    <tr>\n",
       "      <th>Canada</th>\n",
       "      <td>2711168</td>\n",
       "      <td>2711168</td>\n",
       "      <td>2711168</td>\n",
       "      <td>2711168</td>\n",
       "      <td>2711168</td>\n",
       "      <td>2711168</td>\n",
       "      <td>2711153</td>\n",
       "      <td>2711168</td>\n",
       "      <td>2711168</td>\n",
       "      <td>2711168</td>\n",
       "      <td>2711168</td>\n",
       "      <td>2711168</td>\n",
       "    </tr>\n",
       "    <tr>\n",
       "      <th>CanadianPM</th>\n",
       "      <td>35495</td>\n",
       "      <td>35495</td>\n",
       "      <td>35495</td>\n",
       "      <td>35495</td>\n",
       "      <td>35495</td>\n",
       "      <td>35495</td>\n",
       "      <td>35495</td>\n",
       "      <td>35495</td>\n",
       "      <td>35495</td>\n",
       "      <td>35495</td>\n",
       "      <td>35495</td>\n",
       "      <td>35495</td>\n",
       "    </tr>\n",
       "    <tr>\n",
       "      <th>GovCanHealth</th>\n",
       "      <td>24549</td>\n",
       "      <td>24549</td>\n",
       "      <td>24549</td>\n",
       "      <td>24549</td>\n",
       "      <td>24549</td>\n",
       "      <td>24549</td>\n",
       "      <td>24549</td>\n",
       "      <td>24549</td>\n",
       "      <td>24549</td>\n",
       "      <td>24549</td>\n",
       "      <td>24549</td>\n",
       "      <td>24549</td>\n",
       "    </tr>\n",
       "    <tr>\n",
       "      <th>JustinTrudeau</th>\n",
       "      <td>732663</td>\n",
       "      <td>732663</td>\n",
       "      <td>732663</td>\n",
       "      <td>732663</td>\n",
       "      <td>732663</td>\n",
       "      <td>732663</td>\n",
       "      <td>732663</td>\n",
       "      <td>732663</td>\n",
       "      <td>732663</td>\n",
       "      <td>732663</td>\n",
       "      <td>732663</td>\n",
       "      <td>732663</td>\n",
       "    </tr>\n",
       "  </tbody>\n",
       "</table>\n",
       "</div>"
      ],
      "text/plain": [
       "                  date  replyCount  retweetCount  likeCount  quoteCount  \\\n",
       "account                                                                   \n",
       "Canada         2711168     2711168       2711168    2711168     2711168   \n",
       "CanadianPM       35495       35495         35495      35495       35495   \n",
       "GovCanHealth     24549       24549         24549      24549       24549   \n",
       "JustinTrudeau   732663      732663        732663     732663      732663   \n",
       "\n",
       "                  lang  sourceLabel  username  followersCount  friendsCount  \\\n",
       "account                                                                       \n",
       "Canada         2711168      2711153   2711168         2711168       2711168   \n",
       "CanadianPM       35495        35495     35495           35495         35495   \n",
       "GovCanHealth     24549        24549     24549           24549         24549   \n",
       "JustinTrudeau   732663       732663    732663          732663        732663   \n",
       "\n",
       "               location    tweet  \n",
       "account                           \n",
       "Canada          2711168  2711168  \n",
       "CanadianPM        35495    35495  \n",
       "GovCanHealth      24549    24549  \n",
       "JustinTrudeau    732663   732663  "
      ]
     },
     "execution_count": 6,
     "metadata": {},
     "output_type": "execute_result"
    }
   ],
   "source": [
    "# Check if it contains the rigth tweets\n",
    "%time df_tot.groupby(['account']).count()"
   ]
  },
  {
   "cell_type": "code",
   "execution_count": 7,
   "metadata": {},
   "outputs": [
    {
     "data": {
      "text/html": [
       "<div>\n",
       "<style scoped>\n",
       "    .dataframe tbody tr th:only-of-type {\n",
       "        vertical-align: middle;\n",
       "    }\n",
       "\n",
       "    .dataframe tbody tr th {\n",
       "        vertical-align: top;\n",
       "    }\n",
       "\n",
       "    .dataframe thead th {\n",
       "        text-align: right;\n",
       "    }\n",
       "</style>\n",
       "<table border=\"1\" class=\"dataframe\">\n",
       "  <thead>\n",
       "    <tr style=\"text-align: right;\">\n",
       "      <th></th>\n",
       "      <th>replyCount</th>\n",
       "      <th>retweetCount</th>\n",
       "      <th>likeCount</th>\n",
       "      <th>quoteCount</th>\n",
       "      <th>followersCount</th>\n",
       "      <th>friendsCount</th>\n",
       "    </tr>\n",
       "  </thead>\n",
       "  <tbody>\n",
       "    <tr>\n",
       "      <th>count</th>\n",
       "      <td>3.503875e+06</td>\n",
       "      <td>3.503875e+06</td>\n",
       "      <td>3.503875e+06</td>\n",
       "      <td>3.503875e+06</td>\n",
       "      <td>3.503875e+06</td>\n",
       "      <td>3.503875e+06</td>\n",
       "    </tr>\n",
       "    <tr>\n",
       "      <th>mean</th>\n",
       "      <td>7.788797e-01</td>\n",
       "      <td>2.055384e+00</td>\n",
       "      <td>7.387272e+00</td>\n",
       "      <td>2.483151e-01</td>\n",
       "      <td>1.964345e+04</td>\n",
       "      <td>1.606954e+03</td>\n",
       "    </tr>\n",
       "    <tr>\n",
       "      <th>std</th>\n",
       "      <td>1.424193e+01</td>\n",
       "      <td>9.179367e+01</td>\n",
       "      <td>3.873542e+02</td>\n",
       "      <td>1.508036e+01</td>\n",
       "      <td>4.094871e+05</td>\n",
       "      <td>7.620145e+03</td>\n",
       "    </tr>\n",
       "    <tr>\n",
       "      <th>min</th>\n",
       "      <td>0.000000e+00</td>\n",
       "      <td>0.000000e+00</td>\n",
       "      <td>0.000000e+00</td>\n",
       "      <td>0.000000e+00</td>\n",
       "      <td>0.000000e+00</td>\n",
       "      <td>0.000000e+00</td>\n",
       "    </tr>\n",
       "    <tr>\n",
       "      <th>25%</th>\n",
       "      <td>0.000000e+00</td>\n",
       "      <td>0.000000e+00</td>\n",
       "      <td>0.000000e+00</td>\n",
       "      <td>0.000000e+00</td>\n",
       "      <td>9.900000e+01</td>\n",
       "      <td>1.710000e+02</td>\n",
       "    </tr>\n",
       "    <tr>\n",
       "      <th>50%</th>\n",
       "      <td>0.000000e+00</td>\n",
       "      <td>0.000000e+00</td>\n",
       "      <td>0.000000e+00</td>\n",
       "      <td>0.000000e+00</td>\n",
       "      <td>4.550000e+02</td>\n",
       "      <td>5.230000e+02</td>\n",
       "    </tr>\n",
       "    <tr>\n",
       "      <th>75%</th>\n",
       "      <td>1.000000e+00</td>\n",
       "      <td>0.000000e+00</td>\n",
       "      <td>1.000000e+00</td>\n",
       "      <td>0.000000e+00</td>\n",
       "      <td>1.835000e+03</td>\n",
       "      <td>1.450000e+03</td>\n",
       "    </tr>\n",
       "    <tr>\n",
       "      <th>max</th>\n",
       "      <td>7.498000e+03</td>\n",
       "      <td>9.977500e+04</td>\n",
       "      <td>4.676340e+05</td>\n",
       "      <td>1.500900e+04</td>\n",
       "      <td>8.380480e+07</td>\n",
       "      <td>1.441770e+06</td>\n",
       "    </tr>\n",
       "  </tbody>\n",
       "</table>\n",
       "</div>"
      ],
      "text/plain": [
       "         replyCount  retweetCount     likeCount    quoteCount  followersCount  \\\n",
       "count  3.503875e+06  3.503875e+06  3.503875e+06  3.503875e+06    3.503875e+06   \n",
       "mean   7.788797e-01  2.055384e+00  7.387272e+00  2.483151e-01    1.964345e+04   \n",
       "std    1.424193e+01  9.179367e+01  3.873542e+02  1.508036e+01    4.094871e+05   \n",
       "min    0.000000e+00  0.000000e+00  0.000000e+00  0.000000e+00    0.000000e+00   \n",
       "25%    0.000000e+00  0.000000e+00  0.000000e+00  0.000000e+00    9.900000e+01   \n",
       "50%    0.000000e+00  0.000000e+00  0.000000e+00  0.000000e+00    4.550000e+02   \n",
       "75%    1.000000e+00  0.000000e+00  1.000000e+00  0.000000e+00    1.835000e+03   \n",
       "max    7.498000e+03  9.977500e+04  4.676340e+05  1.500900e+04    8.380480e+07   \n",
       "\n",
       "       friendsCount  \n",
       "count  3.503875e+06  \n",
       "mean   1.606954e+03  \n",
       "std    7.620145e+03  \n",
       "min    0.000000e+00  \n",
       "25%    1.710000e+02  \n",
       "50%    5.230000e+02  \n",
       "75%    1.450000e+03  \n",
       "max    1.441770e+06  "
      ]
     },
     "execution_count": 7,
     "metadata": {},
     "output_type": "execute_result"
    }
   ],
   "source": [
    "df_tot.describe()"
   ]
  },
  {
   "cell_type": "code",
   "execution_count": 8,
   "metadata": {},
   "outputs": [
    {
     "data": {
      "text/plain": [
       "account                 4\n",
       "date              2338472\n",
       "replyCount            681\n",
       "retweetCount         1391\n",
       "likeCount            2759\n",
       "quoteCount            444\n",
       "lang                   62\n",
       "sourceLabel          6264\n",
       "username          1069132\n",
       "followersCount      65596\n",
       "friendsCount        21186\n",
       "location           223513\n",
       "tweet             3060973\n",
       "dtype: int64"
      ]
     },
     "execution_count": 8,
     "metadata": {},
     "output_type": "execute_result"
    }
   ],
   "source": [
    "# See the number of unique terms per each variable\n",
    "df_tot.nunique()"
   ]
  },
  {
   "cell_type": "code",
   "execution_count": 9,
   "metadata": {},
   "outputs": [
    {
     "name": "stdout",
     "output_type": "stream",
     "text": [
      "Number of tweets by Account:\n",
      "\n"
     ]
    },
    {
     "data": {
      "text/html": [
       "<div>\n",
       "<style scoped>\n",
       "    .dataframe tbody tr th:only-of-type {\n",
       "        vertical-align: middle;\n",
       "    }\n",
       "\n",
       "    .dataframe tbody tr th {\n",
       "        vertical-align: top;\n",
       "    }\n",
       "\n",
       "    .dataframe thead th {\n",
       "        text-align: right;\n",
       "    }\n",
       "</style>\n",
       "<table border=\"1\" class=\"dataframe\">\n",
       "  <thead>\n",
       "    <tr style=\"text-align: right;\">\n",
       "      <th></th>\n",
       "      <th>account</th>\n",
       "    </tr>\n",
       "  </thead>\n",
       "  <tbody>\n",
       "    <tr>\n",
       "      <th>Canada</th>\n",
       "      <td>2711168</td>\n",
       "    </tr>\n",
       "    <tr>\n",
       "      <th>JustinTrudeau</th>\n",
       "      <td>732663</td>\n",
       "    </tr>\n",
       "    <tr>\n",
       "      <th>CanadianPM</th>\n",
       "      <td>35495</td>\n",
       "    </tr>\n",
       "    <tr>\n",
       "      <th>GovCanHealth</th>\n",
       "      <td>24549</td>\n",
       "    </tr>\n",
       "  </tbody>\n",
       "</table>\n",
       "</div>"
      ],
      "text/plain": [
       "               account\n",
       "Canada         2711168\n",
       "JustinTrudeau   732663\n",
       "CanadianPM       35495\n",
       "GovCanHealth     24549"
      ]
     },
     "execution_count": 9,
     "metadata": {},
     "output_type": "execute_result"
    }
   ],
   "source": [
    "# tweets by `Account`\n",
    "print(\"Number of tweets by Account:\\n\")\n",
    "pd.DataFrame(df_tot['account'].value_counts())"
   ]
  },
  {
   "cell_type": "code",
   "execution_count": 10,
   "metadata": {},
   "outputs": [
    {
     "name": "stdout",
     "output_type": "stream",
     "text": [
      "Number of tweets by Languages:\n",
      "  -- the most used ones --\n",
      "\n"
     ]
    },
    {
     "data": {
      "text/html": [
       "<div>\n",
       "<style scoped>\n",
       "    .dataframe tbody tr th:only-of-type {\n",
       "        vertical-align: middle;\n",
       "    }\n",
       "\n",
       "    .dataframe tbody tr th {\n",
       "        vertical-align: top;\n",
       "    }\n",
       "\n",
       "    .dataframe thead th {\n",
       "        text-align: right;\n",
       "    }\n",
       "</style>\n",
       "<table border=\"1\" class=\"dataframe\">\n",
       "  <thead>\n",
       "    <tr style=\"text-align: right;\">\n",
       "      <th></th>\n",
       "      <th>Language_code</th>\n",
       "      <th>Name</th>\n",
       "      <th>tweets</th>\n",
       "    </tr>\n",
       "  </thead>\n",
       "  <tbody>\n",
       "    <tr>\n",
       "      <th>0</th>\n",
       "      <td>en</td>\n",
       "      <td>English (default)</td>\n",
       "      <td>2915145</td>\n",
       "    </tr>\n",
       "    <tr>\n",
       "      <th>1</th>\n",
       "      <td>es</td>\n",
       "      <td>Spanish</td>\n",
       "      <td>212901</td>\n",
       "    </tr>\n",
       "    <tr>\n",
       "      <th>2</th>\n",
       "      <td>fr</td>\n",
       "      <td>French</td>\n",
       "      <td>135014</td>\n",
       "    </tr>\n",
       "    <tr>\n",
       "      <th>3</th>\n",
       "      <td>und</td>\n",
       "      <td>NaN</td>\n",
       "      <td>91355</td>\n",
       "    </tr>\n",
       "    <tr>\n",
       "      <th>4</th>\n",
       "      <td>pt</td>\n",
       "      <td>Portuguese</td>\n",
       "      <td>48713</td>\n",
       "    </tr>\n",
       "  </tbody>\n",
       "</table>\n",
       "</div>"
      ],
      "text/plain": [
       "  Language_code               Name   tweets\n",
       "0            en  English (default)  2915145\n",
       "1            es            Spanish   212901\n",
       "2            fr             French   135014\n",
       "3           und                NaN    91355\n",
       "4            pt         Portuguese    48713"
      ]
     },
     "execution_count": 10,
     "metadata": {},
     "output_type": "execute_result"
    }
   ],
   "source": [
    "# tweets by `language`\n",
    "languages_twitter = pd.read_csv(my_folder + \"twitter_supported_languages.csv\", skiprows=5)\n",
    "languages_twitter\n",
    "\n",
    "print(\"Number of tweets by Languages:\")\n",
    "print(\"  -- the most used ones --\\n\")\n",
    "data_langs = pd.DataFrame(df_tot['lang'].value_counts().head()).\\\n",
    "            reset_index().rename(columns={'index':'Language_code', 'lang':'tweets'})\n",
    "\n",
    "# languages_twitter\n",
    "pd.merge(languages_twitter, data_langs, how=\"right\", on=[\"Language_code\", \"Language_code\"])\n"
   ]
  },
  {
   "cell_type": "markdown",
   "metadata": {},
   "source": [
    "## EDA\n",
    "_Exploratory Data Analysis_"
   ]
  },
  {
   "cell_type": "code",
   "execution_count": 11,
   "metadata": {},
   "outputs": [
    {
     "name": "stdout",
     "output_type": "stream",
     "text": [
      "CPU times: user 1min 24s, sys: 70.3 ms, total: 1min 24s\n",
      "Wall time: 1min 24s\n"
     ]
    }
   ],
   "source": [
    "%%time\n",
    "\n",
    "# add column with day\n",
    "df_tot['day'] = [df_tot['date'][i].strftime(\"%Y-%m-%d\") for i in range(len(df_tot))]"
   ]
  },
  {
   "cell_type": "markdown",
   "metadata": {},
   "source": [
    "### Tweets per day by account"
   ]
  },
  {
   "cell_type": "code",
   "execution_count": 12,
   "metadata": {},
   "outputs": [
    {
     "data": {
      "application/vnd.vegalite.v4+json": {
       "$schema": "https://vega.github.io/schema/vega-lite/v4.8.1.json",
       "config": {
        "view": {
         "continuousHeight": 300,
         "continuousWidth": 400
        }
       },
       "datasets": {
        "data-9b1a518d0e1aee36a8d6b9d861e8a5e0": [
         {
          "color": "orchid",
          "day": "2020-03-29",
          "y": 30000
         }
        ],
        "data-daf439ad112062105ec1009affdc5e0f": [
         {
          "color": "orchid",
          "day": "2020-03-27"
         }
        ],
        "data-dcd8c1e5b475557e335e09502143571a": [
         {
          "account": "Canada",
          "day": "2020-03-01",
          "tweet": 30429
         },
         {
          "account": "Canada",
          "day": "2020-03-02",
          "tweet": 34689
         },
         {
          "account": "Canada",
          "day": "2020-03-03",
          "tweet": 36879
         },
         {
          "account": "Canada",
          "day": "2020-03-04",
          "tweet": 39812
         },
         {
          "account": "Canada",
          "day": "2020-03-05",
          "tweet": 38378
         },
         {
          "account": "Canada",
          "day": "2020-03-06",
          "tweet": 38261
         },
         {
          "account": "Canada",
          "day": "2020-03-07",
          "tweet": 29992
         },
         {
          "account": "Canada",
          "day": "2020-03-08",
          "tweet": 29162
         },
         {
          "account": "Canada",
          "day": "2020-03-09",
          "tweet": 36848
         },
         {
          "account": "Canada",
          "day": "2020-03-10",
          "tweet": 38821
         },
         {
          "account": "Canada",
          "day": "2020-03-11",
          "tweet": 40261
         },
         {
          "account": "Canada",
          "day": "2020-03-12",
          "tweet": 51318
         },
         {
          "account": "Canada",
          "day": "2020-03-13",
          "tweet": 62186
         },
         {
          "account": "Canada",
          "day": "2020-03-14",
          "tweet": 47167
         },
         {
          "account": "Canada",
          "day": "2020-03-15",
          "tweet": 44111
         },
         {
          "account": "Canada",
          "day": "2020-03-16",
          "tweet": 61410
         },
         {
          "account": "Canada",
          "day": "2020-03-17",
          "tweet": 49782
         },
         {
          "account": "Canada",
          "day": "2020-03-18",
          "tweet": 62388
         },
         {
          "account": "Canada",
          "day": "2020-03-19",
          "tweet": 49162
         },
         {
          "account": "Canada",
          "day": "2020-03-20",
          "tweet": 52218
         },
         {
          "account": "Canada",
          "day": "2020-03-21",
          "tweet": 42651
         },
         {
          "account": "Canada",
          "day": "2020-03-22",
          "tweet": 40552
         },
         {
          "account": "Canada",
          "day": "2020-03-23",
          "tweet": 57727
         },
         {
          "account": "Canada",
          "day": "2020-03-24",
          "tweet": 48550
         },
         {
          "account": "Canada",
          "day": "2020-03-25",
          "tweet": 51966
         },
         {
          "account": "Canada",
          "day": "2020-03-26",
          "tweet": 58306
         },
         {
          "account": "Canada",
          "day": "2020-03-27",
          "tweet": 56972
         },
         {
          "account": "Canada",
          "day": "2020-03-28",
          "tweet": 43101
         },
         {
          "account": "Canada",
          "day": "2020-03-29",
          "tweet": 42633
         },
         {
          "account": "Canada",
          "day": "2020-03-30",
          "tweet": 44248
         },
         {
          "account": "Canada",
          "day": "2020-03-31",
          "tweet": 47400
         },
         {
          "account": "Canada",
          "day": "2020-04-01",
          "tweet": 44880
         },
         {
          "account": "Canada",
          "day": "2020-04-02",
          "tweet": 47034
         },
         {
          "account": "Canada",
          "day": "2020-04-03",
          "tweet": 58112
         },
         {
          "account": "Canada",
          "day": "2020-04-04",
          "tweet": 53487
         },
         {
          "account": "Canada",
          "day": "2020-04-05",
          "tweet": 45404
         },
         {
          "account": "Canada",
          "day": "2020-04-06",
          "tweet": 47186
         },
         {
          "account": "Canada",
          "day": "2020-04-07",
          "tweet": 45285
         },
         {
          "account": "Canada",
          "day": "2020-04-08",
          "tweet": 46561
         },
         {
          "account": "Canada",
          "day": "2020-04-09",
          "tweet": 45205
         },
         {
          "account": "Canada",
          "day": "2020-04-10",
          "tweet": 41587
         },
         {
          "account": "Canada",
          "day": "2020-04-11",
          "tweet": 39495
         },
         {
          "account": "Canada",
          "day": "2020-04-12",
          "tweet": 34709
         },
         {
          "account": "Canada",
          "day": "2020-04-13",
          "tweet": 39327
         },
         {
          "account": "Canada",
          "day": "2020-04-14",
          "tweet": 42130
         },
         {
          "account": "Canada",
          "day": "2020-04-15",
          "tweet": 46216
         },
         {
          "account": "Canada",
          "day": "2020-04-16",
          "tweet": 46446
         },
         {
          "account": "Canada",
          "day": "2020-04-17",
          "tweet": 45727
         },
         {
          "account": "Canada",
          "day": "2020-04-18",
          "tweet": 41058
         },
         {
          "account": "Canada",
          "day": "2020-04-19",
          "tweet": 41066
         },
         {
          "account": "Canada",
          "day": "2020-04-20",
          "tweet": 55672
         },
         {
          "account": "Canada",
          "day": "2020-04-21",
          "tweet": 46077
         },
         {
          "account": "Canada",
          "day": "2020-04-22",
          "tweet": 44670
         },
         {
          "account": "Canada",
          "day": "2020-04-23",
          "tweet": 43982
         },
         {
          "account": "Canada",
          "day": "2020-04-24",
          "tweet": 42381
         },
         {
          "account": "Canada",
          "day": "2020-04-25",
          "tweet": 34686
         },
         {
          "account": "Canada",
          "day": "2020-04-26",
          "tweet": 32171
         },
         {
          "account": "Canada",
          "day": "2020-04-27",
          "tweet": 36806
         },
         {
          "account": "Canada",
          "day": "2020-04-28",
          "tweet": 38449
         },
         {
          "account": "Canada",
          "day": "2020-04-29",
          "tweet": 38479
         },
         {
          "account": "Canada",
          "day": "2020-04-30",
          "tweet": 39500
         },
         {
          "account": "CanadianPM",
          "day": "2020-03-01",
          "tweet": 158
         },
         {
          "account": "CanadianPM",
          "day": "2020-03-02",
          "tweet": 189
         },
         {
          "account": "CanadianPM",
          "day": "2020-03-03",
          "tweet": 219
         },
         {
          "account": "CanadianPM",
          "day": "2020-03-04",
          "tweet": 248
         },
         {
          "account": "CanadianPM",
          "day": "2020-03-05",
          "tweet": 296
         },
         {
          "account": "CanadianPM",
          "day": "2020-03-06",
          "tweet": 189
         },
         {
          "account": "CanadianPM",
          "day": "2020-03-07",
          "tweet": 149
         },
         {
          "account": "CanadianPM",
          "day": "2020-03-08",
          "tweet": 131
         },
         {
          "account": "CanadianPM",
          "day": "2020-03-09",
          "tweet": 261
         },
         {
          "account": "CanadianPM",
          "day": "2020-03-10",
          "tweet": 171
         },
         {
          "account": "CanadianPM",
          "day": "2020-03-11",
          "tweet": 264
         },
         {
          "account": "CanadianPM",
          "day": "2020-03-12",
          "tweet": 632
         },
         {
          "account": "CanadianPM",
          "day": "2020-03-13",
          "tweet": 493
         },
         {
          "account": "CanadianPM",
          "day": "2020-03-14",
          "tweet": 645
         },
         {
          "account": "CanadianPM",
          "day": "2020-03-15",
          "tweet": 672
         },
         {
          "account": "CanadianPM",
          "day": "2020-03-16",
          "tweet": 895
         },
         {
          "account": "CanadianPM",
          "day": "2020-03-17",
          "tweet": 1137
         },
         {
          "account": "CanadianPM",
          "day": "2020-03-18",
          "tweet": 1029
         },
         {
          "account": "CanadianPM",
          "day": "2020-03-19",
          "tweet": 705
         },
         {
          "account": "CanadianPM",
          "day": "2020-03-20",
          "tweet": 585
         },
         {
          "account": "CanadianPM",
          "day": "2020-03-21",
          "tweet": 614
         },
         {
          "account": "CanadianPM",
          "day": "2020-03-22",
          "tweet": 954
         },
         {
          "account": "CanadianPM",
          "day": "2020-03-23",
          "tweet": 825
         },
         {
          "account": "CanadianPM",
          "day": "2020-03-24",
          "tweet": 777
         },
         {
          "account": "CanadianPM",
          "day": "2020-03-25",
          "tweet": 887
         },
         {
          "account": "CanadianPM",
          "day": "2020-03-26",
          "tweet": 1207
         },
         {
          "account": "CanadianPM",
          "day": "2020-03-27",
          "tweet": 687
         },
         {
          "account": "CanadianPM",
          "day": "2020-03-28",
          "tweet": 819
         },
         {
          "account": "CanadianPM",
          "day": "2020-03-29",
          "tweet": 910
         },
         {
          "account": "CanadianPM",
          "day": "2020-03-30",
          "tweet": 615
         },
         {
          "account": "CanadianPM",
          "day": "2020-03-31",
          "tweet": 579
         },
         {
          "account": "CanadianPM",
          "day": "2020-04-01",
          "tweet": 531
         },
         {
          "account": "CanadianPM",
          "day": "2020-04-02",
          "tweet": 739
         },
         {
          "account": "CanadianPM",
          "day": "2020-04-03",
          "tweet": 661
         },
         {
          "account": "CanadianPM",
          "day": "2020-04-04",
          "tweet": 604
         },
         {
          "account": "CanadianPM",
          "day": "2020-04-05",
          "tweet": 947
         },
         {
          "account": "CanadianPM",
          "day": "2020-04-06",
          "tweet": 852
         },
         {
          "account": "CanadianPM",
          "day": "2020-04-07",
          "tweet": 637
         },
         {
          "account": "CanadianPM",
          "day": "2020-04-08",
          "tweet": 588
         },
         {
          "account": "CanadianPM",
          "day": "2020-04-09",
          "tweet": 591
         },
         {
          "account": "CanadianPM",
          "day": "2020-04-10",
          "tweet": 600
         },
         {
          "account": "CanadianPM",
          "day": "2020-04-11",
          "tweet": 438
         },
         {
          "account": "CanadianPM",
          "day": "2020-04-12",
          "tweet": 386
         },
         {
          "account": "CanadianPM",
          "day": "2020-04-13",
          "tweet": 386
         },
         {
          "account": "CanadianPM",
          "day": "2020-04-14",
          "tweet": 407
         },
         {
          "account": "CanadianPM",
          "day": "2020-04-15",
          "tweet": 576
         },
         {
          "account": "CanadianPM",
          "day": "2020-04-16",
          "tweet": 877
         },
         {
          "account": "CanadianPM",
          "day": "2020-04-17",
          "tweet": 563
         },
         {
          "account": "CanadianPM",
          "day": "2020-04-18",
          "tweet": 440
         },
         {
          "account": "CanadianPM",
          "day": "2020-04-19",
          "tweet": 508
         },
         {
          "account": "CanadianPM",
          "day": "2020-04-20",
          "tweet": 410
         },
         {
          "account": "CanadianPM",
          "day": "2020-04-21",
          "tweet": 853
         },
         {
          "account": "CanadianPM",
          "day": "2020-04-22",
          "tweet": 1079
         },
         {
          "account": "CanadianPM",
          "day": "2020-04-23",
          "tweet": 652
         },
         {
          "account": "CanadianPM",
          "day": "2020-04-24",
          "tweet": 750
         },
         {
          "account": "CanadianPM",
          "day": "2020-04-25",
          "tweet": 393
         },
         {
          "account": "CanadianPM",
          "day": "2020-04-26",
          "tweet": 394
         },
         {
          "account": "CanadianPM",
          "day": "2020-04-27",
          "tweet": 434
         },
         {
          "account": "CanadianPM",
          "day": "2020-04-28",
          "tweet": 533
         },
         {
          "account": "CanadianPM",
          "day": "2020-04-29",
          "tweet": 362
         },
         {
          "account": "CanadianPM",
          "day": "2020-04-30",
          "tweet": 362
         },
         {
          "account": "GovCanHealth",
          "day": "2020-03-01",
          "tweet": 157
         },
         {
          "account": "GovCanHealth",
          "day": "2020-03-02",
          "tweet": 220
         },
         {
          "account": "GovCanHealth",
          "day": "2020-03-03",
          "tweet": 215
         },
         {
          "account": "GovCanHealth",
          "day": "2020-03-04",
          "tweet": 216
         },
         {
          "account": "GovCanHealth",
          "day": "2020-03-05",
          "tweet": 219
         },
         {
          "account": "GovCanHealth",
          "day": "2020-03-06",
          "tweet": 205
         },
         {
          "account": "GovCanHealth",
          "day": "2020-03-07",
          "tweet": 133
         },
         {
          "account": "GovCanHealth",
          "day": "2020-03-08",
          "tweet": 135
         },
         {
          "account": "GovCanHealth",
          "day": "2020-03-09",
          "tweet": 257
         },
         {
          "account": "GovCanHealth",
          "day": "2020-03-10",
          "tweet": 297
         },
         {
          "account": "GovCanHealth",
          "day": "2020-03-11",
          "tweet": 811
         },
         {
          "account": "GovCanHealth",
          "day": "2020-03-12",
          "tweet": 532
         },
         {
          "account": "GovCanHealth",
          "day": "2020-03-13",
          "tweet": 733
         },
         {
          "account": "GovCanHealth",
          "day": "2020-03-14",
          "tweet": 470
         },
         {
          "account": "GovCanHealth",
          "day": "2020-03-15",
          "tweet": 1188
         },
         {
          "account": "GovCanHealth",
          "day": "2020-03-16",
          "tweet": 1015
         },
         {
          "account": "GovCanHealth",
          "day": "2020-03-17",
          "tweet": 854
         },
         {
          "account": "GovCanHealth",
          "day": "2020-03-18",
          "tweet": 625
         },
         {
          "account": "GovCanHealth",
          "day": "2020-03-19",
          "tweet": 679
         },
         {
          "account": "GovCanHealth",
          "day": "2020-03-20",
          "tweet": 880
         },
         {
          "account": "GovCanHealth",
          "day": "2020-03-21",
          "tweet": 615
         },
         {
          "account": "GovCanHealth",
          "day": "2020-03-22",
          "tweet": 743
         },
         {
          "account": "GovCanHealth",
          "day": "2020-03-23",
          "tweet": 724
         },
         {
          "account": "GovCanHealth",
          "day": "2020-03-24",
          "tweet": 540
         },
         {
          "account": "GovCanHealth",
          "day": "2020-03-25",
          "tweet": 523
         },
         {
          "account": "GovCanHealth",
          "day": "2020-03-26",
          "tweet": 498
         },
         {
          "account": "GovCanHealth",
          "day": "2020-03-27",
          "tweet": 534
         },
         {
          "account": "GovCanHealth",
          "day": "2020-03-28",
          "tweet": 502
         },
         {
          "account": "GovCanHealth",
          "day": "2020-03-29",
          "tweet": 388
         },
         {
          "account": "GovCanHealth",
          "day": "2020-03-30",
          "tweet": 462
         },
         {
          "account": "GovCanHealth",
          "day": "2020-03-31",
          "tweet": 453
         },
         {
          "account": "GovCanHealth",
          "day": "2020-04-01",
          "tweet": 328
         },
         {
          "account": "GovCanHealth",
          "day": "2020-04-02",
          "tweet": 377
         },
         {
          "account": "GovCanHealth",
          "day": "2020-04-03",
          "tweet": 402
         },
         {
          "account": "GovCanHealth",
          "day": "2020-04-04",
          "tweet": 255
         },
         {
          "account": "GovCanHealth",
          "day": "2020-04-05",
          "tweet": 320
         },
         {
          "account": "GovCanHealth",
          "day": "2020-04-06",
          "tweet": 366
         },
         {
          "account": "GovCanHealth",
          "day": "2020-04-07",
          "tweet": 277
         },
         {
          "account": "GovCanHealth",
          "day": "2020-04-08",
          "tweet": 342
         },
         {
          "account": "GovCanHealth",
          "day": "2020-04-09",
          "tweet": 373
         },
         {
          "account": "GovCanHealth",
          "day": "2020-04-10",
          "tweet": 355
         },
         {
          "account": "GovCanHealth",
          "day": "2020-04-11",
          "tweet": 220
         },
         {
          "account": "GovCanHealth",
          "day": "2020-04-12",
          "tweet": 133
         },
         {
          "account": "GovCanHealth",
          "day": "2020-04-13",
          "tweet": 247
         },
         {
          "account": "GovCanHealth",
          "day": "2020-04-14",
          "tweet": 356
         },
         {
          "account": "GovCanHealth",
          "day": "2020-04-15",
          "tweet": 555
         },
         {
          "account": "GovCanHealth",
          "day": "2020-04-16",
          "tweet": 397
         },
         {
          "account": "GovCanHealth",
          "day": "2020-04-17",
          "tweet": 335
         },
         {
          "account": "GovCanHealth",
          "day": "2020-04-18",
          "tweet": 203
         },
         {
          "account": "GovCanHealth",
          "day": "2020-04-19",
          "tweet": 203
         },
         {
          "account": "GovCanHealth",
          "day": "2020-04-20",
          "tweet": 251
         },
         {
          "account": "GovCanHealth",
          "day": "2020-04-21",
          "tweet": 188
         },
         {
          "account": "GovCanHealth",
          "day": "2020-04-22",
          "tweet": 199
         },
         {
          "account": "GovCanHealth",
          "day": "2020-04-23",
          "tweet": 294
         },
         {
          "account": "GovCanHealth",
          "day": "2020-04-24",
          "tweet": 159
         },
         {
          "account": "GovCanHealth",
          "day": "2020-04-25",
          "tweet": 105
         },
         {
          "account": "GovCanHealth",
          "day": "2020-04-26",
          "tweet": 169
         },
         {
          "account": "GovCanHealth",
          "day": "2020-04-27",
          "tweet": 357
         },
         {
          "account": "GovCanHealth",
          "day": "2020-04-28",
          "tweet": 374
         },
         {
          "account": "GovCanHealth",
          "day": "2020-04-29",
          "tweet": 261
         },
         {
          "account": "GovCanHealth",
          "day": "2020-04-30",
          "tweet": 325
         },
         {
          "account": "JustinTrudeau",
          "day": "2020-03-01",
          "tweet": 4556
         },
         {
          "account": "JustinTrudeau",
          "day": "2020-03-02",
          "tweet": 3818
         },
         {
          "account": "JustinTrudeau",
          "day": "2020-03-03",
          "tweet": 4881
         },
         {
          "account": "JustinTrudeau",
          "day": "2020-03-04",
          "tweet": 5766
         },
         {
          "account": "JustinTrudeau",
          "day": "2020-03-05",
          "tweet": 5350
         },
         {
          "account": "JustinTrudeau",
          "day": "2020-03-06",
          "tweet": 5506
         },
         {
          "account": "JustinTrudeau",
          "day": "2020-03-07",
          "tweet": 3558
         },
         {
          "account": "JustinTrudeau",
          "day": "2020-03-08",
          "tweet": 4883
         },
         {
          "account": "JustinTrudeau",
          "day": "2020-03-09",
          "tweet": 6156
         },
         {
          "account": "JustinTrudeau",
          "day": "2020-03-10",
          "tweet": 5862
         },
         {
          "account": "JustinTrudeau",
          "day": "2020-03-11",
          "tweet": 7046
         },
         {
          "account": "JustinTrudeau",
          "day": "2020-03-12",
          "tweet": 16955
         },
         {
          "account": "JustinTrudeau",
          "day": "2020-03-13",
          "tweet": 29712
         },
         {
          "account": "JustinTrudeau",
          "day": "2020-03-14",
          "tweet": 18482
         },
         {
          "account": "JustinTrudeau",
          "day": "2020-03-15",
          "tweet": 17140
         },
         {
          "account": "JustinTrudeau",
          "day": "2020-03-16",
          "tweet": 25094
         },
         {
          "account": "JustinTrudeau",
          "day": "2020-03-17",
          "tweet": 18088
         },
         {
          "account": "JustinTrudeau",
          "day": "2020-03-18",
          "tweet": 16916
         },
         {
          "account": "JustinTrudeau",
          "day": "2020-03-19",
          "tweet": 15719
         },
         {
          "account": "JustinTrudeau",
          "day": "2020-03-20",
          "tweet": 17221
         },
         {
          "account": "JustinTrudeau",
          "day": "2020-03-21",
          "tweet": 15052
         },
         {
          "account": "JustinTrudeau",
          "day": "2020-03-22",
          "tweet": 15811
         },
         {
          "account": "JustinTrudeau",
          "day": "2020-03-23",
          "tweet": 17472
         },
         {
          "account": "JustinTrudeau",
          "day": "2020-03-24",
          "tweet": 23213
         },
         {
          "account": "JustinTrudeau",
          "day": "2020-03-25",
          "tweet": 19716
         },
         {
          "account": "JustinTrudeau",
          "day": "2020-03-26",
          "tweet": 15585
         },
         {
          "account": "JustinTrudeau",
          "day": "2020-03-27",
          "tweet": 15225
         },
         {
          "account": "JustinTrudeau",
          "day": "2020-03-28",
          "tweet": 12925
         },
         {
          "account": "JustinTrudeau",
          "day": "2020-03-29",
          "tweet": 15729
         },
         {
          "account": "JustinTrudeau",
          "day": "2020-03-30",
          "tweet": 12984
         },
         {
          "account": "JustinTrudeau",
          "day": "2020-03-31",
          "tweet": 14578
         },
         {
          "account": "JustinTrudeau",
          "day": "2020-04-01",
          "tweet": 13996
         },
         {
          "account": "JustinTrudeau",
          "day": "2020-04-02",
          "tweet": 13335
         },
         {
          "account": "JustinTrudeau",
          "day": "2020-04-03",
          "tweet": 13829
         },
         {
          "account": "JustinTrudeau",
          "day": "2020-04-04",
          "tweet": 11413
         },
         {
          "account": "JustinTrudeau",
          "day": "2020-04-05",
          "tweet": 10827
         },
         {
          "account": "JustinTrudeau",
          "day": "2020-04-06",
          "tweet": 12439
         },
         {
          "account": "JustinTrudeau",
          "day": "2020-04-07",
          "tweet": 12681
         },
         {
          "account": "JustinTrudeau",
          "day": "2020-04-08",
          "tweet": 11142
         },
         {
          "account": "JustinTrudeau",
          "day": "2020-04-09",
          "tweet": 10326
         },
         {
          "account": "JustinTrudeau",
          "day": "2020-04-10",
          "tweet": 11424
         },
         {
          "account": "JustinTrudeau",
          "day": "2020-04-11",
          "tweet": 8958
         },
         {
          "account": "JustinTrudeau",
          "day": "2020-04-12",
          "tweet": 8036
         },
         {
          "account": "JustinTrudeau",
          "day": "2020-04-13",
          "tweet": 11774
         },
         {
          "account": "JustinTrudeau",
          "day": "2020-04-14",
          "tweet": 12337
         },
         {
          "account": "JustinTrudeau",
          "day": "2020-04-15",
          "tweet": 12976
         },
         {
          "account": "JustinTrudeau",
          "day": "2020-04-16",
          "tweet": 10971
         },
         {
          "account": "JustinTrudeau",
          "day": "2020-04-17",
          "tweet": 11347
         },
         {
          "account": "JustinTrudeau",
          "day": "2020-04-18",
          "tweet": 10621
         },
         {
          "account": "JustinTrudeau",
          "day": "2020-04-19",
          "tweet": 10501
         },
         {
          "account": "JustinTrudeau",
          "day": "2020-04-20",
          "tweet": 10663
         },
         {
          "account": "JustinTrudeau",
          "day": "2020-04-21",
          "tweet": 10587
         },
         {
          "account": "JustinTrudeau",
          "day": "2020-04-22",
          "tweet": 11839
         },
         {
          "account": "JustinTrudeau",
          "day": "2020-04-23",
          "tweet": 11460
         },
         {
          "account": "JustinTrudeau",
          "day": "2020-04-24",
          "tweet": 10596
         },
         {
          "account": "JustinTrudeau",
          "day": "2020-04-25",
          "tweet": 8499
         },
         {
          "account": "JustinTrudeau",
          "day": "2020-04-26",
          "tweet": 6188
         },
         {
          "account": "JustinTrudeau",
          "day": "2020-04-27",
          "tweet": 6954
         },
         {
          "account": "JustinTrudeau",
          "day": "2020-04-28",
          "tweet": 10101
         },
         {
          "account": "JustinTrudeau",
          "day": "2020-04-29",
          "tweet": 8597
         },
         {
          "account": "JustinTrudeau",
          "day": "2020-04-30",
          "tweet": 7247
         }
        ]
       },
       "layer": [
        {
         "data": {
          "name": "data-daf439ad112062105ec1009affdc5e0f"
         },
         "encoding": {
          "color": {
           "field": "color",
           "scale": null,
           "title": "",
           "type": "nominal"
          },
          "x": {
           "field": "day",
           "type": "temporal"
          }
         },
         "mark": {
          "size": 3,
          "strokeDash": [
           6,
           3
          ],
          "type": "rule"
         }
        },
        {
         "data": {
          "name": "data-dcd8c1e5b475557e335e09502143571a"
         },
         "encoding": {
          "color": {
           "field": "account",
           "type": "nominal"
          },
          "x": {
           "field": "day",
           "title": "Day",
           "type": "temporal"
          },
          "y": {
           "field": "tweet",
           "title": "Number of tweets",
           "type": "quantitative"
          }
         },
         "mark": "line",
         "title": "Tweets per Day by Account"
        },
        {
         "data": {
          "name": "data-9b1a518d0e1aee36a8d6b9d861e8a5e0"
         },
         "encoding": {
          "color": {
           "field": "color",
           "scale": null,
           "title": "",
           "type": "nominal"
          },
          "x": {
           "field": "day",
           "type": "temporal"
          },
          "y": {
           "field": "y",
           "type": "quantitative"
          }
         },
         "mark": {
          "angle": 270,
          "size": 12,
          "text": "Announcement",
          "type": "text"
         }
        }
       ]
      },
      "image/png": "[encoded data removed]",
      "text/plain": [
       "<VegaLite 4 object>\n",
       "\n",
       "If you see this message, it means the renderer has not been properly enabled\n",
       "for the frontend that you are using. For more information, see\n",
       "https://altair-viz.github.io/user_guide/troubleshooting.html\n"
      ]
     },
     "execution_count": 12,
     "metadata": {},
     "output_type": "execute_result"
    }
   ],
   "source": [
    "df_aux = pd.DataFrame(df_tot.groupby(['account', 'day'])['tweet'].count()).reset_index()\n",
    "\n",
    "base = alt.Chart(df_aux)\n",
    "\n",
    "lines = base.mark_line().encode(\n",
    "    x = alt.X('day:T', title=\"Day\"),\n",
    "    y = alt.Y('tweet:Q', title=\"Number of tweets\"),\n",
    "    color = alt.Color('account')#, title=\"Account\")\n",
    ").properties(\n",
    "    title='Tweets per Day by Account'\n",
    ")\n",
    "\n",
    "rule = alt.Chart(pd.DataFrame({\n",
    "    'day': ['2020-03-27'],\n",
    "    'color': ['orchid']\n",
    "})).mark_rule(size=3, strokeDash=[6,3]).encode(\n",
    "  x='day:T',\n",
    "  color=alt.Color('color:N', scale=None, title = \"\")\n",
    ")\n",
    "\n",
    "text = alt.Chart(pd.DataFrame({\n",
    "    'day': ['2020-03-29'],\n",
    "    'color': ['orchid'],\n",
    "    'y': [30000]\n",
    "})).mark_text(\n",
    "    text='Announcement', angle=270, size=12\n",
    ").encode(\n",
    "    x='day:T', y='y',\n",
    "    color=alt.Color('color:N', scale=None, title = \"\")\n",
    ")\n",
    "\n",
    "rule + lines + text"
   ]
  },
  {
   "cell_type": "markdown",
   "metadata": {},
   "source": [
    "### Proportion of tweets for each Account by Language"
   ]
  },
  {
   "cell_type": "code",
   "execution_count": 13,
   "metadata": {},
   "outputs": [
    {
     "data": {
      "application/vnd.vegalite.v4+json": {
       "$schema": "https://vega.github.io/schema/vega-lite/v4.8.1.json",
       "config": {
        "view": {
         "continuousHeight": 300,
         "continuousWidth": 400
        }
       },
       "data": {
        "name": "data-4dfa857a15e87ccec2775b4208814cc1"
       },
       "datasets": {
        "data-4dfa857a15e87ccec2775b4208814cc1": [
         {
          "account": "Canada",
          "lang": "am",
          "tweet": 11
         },
         {
          "account": "Canada",
          "lang": "ar",
          "tweet": 649
         },
         {
          "account": "Canada",
          "lang": "bg",
          "tweet": 4
         },
         {
          "account": "Canada",
          "lang": "bn",
          "tweet": 38
         },
         {
          "account": "Canada",
          "lang": "ca",
          "tweet": 9730
         },
         {
          "account": "Canada",
          "lang": "ckb",
          "tweet": 4
         },
         {
          "account": "Canada",
          "lang": "cs",
          "tweet": 470
         },
         {
          "account": "Canada",
          "lang": "cy",
          "tweet": 1506
         },
         {
          "account": "Canada",
          "lang": "da",
          "tweet": 623
         },
         {
          "account": "Canada",
          "lang": "de",
          "tweet": 1894
         },
         {
          "account": "Canada",
          "lang": "dv",
          "tweet": 1
         },
         {
          "account": "Canada",
          "lang": "el",
          "tweet": 77
         },
         {
          "account": "Canada",
          "lang": "en",
          "tweet": 2241754
         },
         {
          "account": "Canada",
          "lang": "es",
          "tweet": 199514
         },
         {
          "account": "Canada",
          "lang": "et",
          "tweet": 3600
         },
         {
          "account": "Canada",
          "lang": "eu",
          "tweet": 131
         },
         {
          "account": "Canada",
          "lang": "fa",
          "tweet": 314
         },
         {
          "account": "Canada",
          "lang": "fi",
          "tweet": 872
         },
         {
          "account": "Canada",
          "lang": "fr",
          "tweet": 100748
         },
         {
          "account": "Canada",
          "lang": "gu",
          "tweet": 49
         },
         {
          "account": "Canada",
          "lang": "hi",
          "tweet": 3868
         },
         {
          "account": "Canada",
          "lang": "ht",
          "tweet": 1689
         },
         {
          "account": "Canada",
          "lang": "hu",
          "tweet": 83
         },
         {
          "account": "Canada",
          "lang": "hy",
          "tweet": 1
         },
         {
          "account": "Canada",
          "lang": "in",
          "tweet": 11929
         },
         {
          "account": "Canada",
          "lang": "is",
          "tweet": 34
         },
         {
          "account": "Canada",
          "lang": "it",
          "tweet": 6893
         },
         {
          "account": "Canada",
          "lang": "iw",
          "tweet": 5
         },
         {
          "account": "Canada",
          "lang": "ja",
          "tweet": 10266
         },
         {
          "account": "Canada",
          "lang": "kn",
          "tweet": 29
         },
         {
          "account": "Canada",
          "lang": "ko",
          "tweet": 1150
         },
         {
          "account": "Canada",
          "lang": "lt",
          "tweet": 128
         },
         {
          "account": "Canada",
          "lang": "lv",
          "tweet": 42
         },
         {
          "account": "Canada",
          "lang": "ml",
          "tweet": 53
         },
         {
          "account": "Canada",
          "lang": "mr",
          "tweet": 25
         },
         {
          "account": "Canada",
          "lang": "my",
          "tweet": 1
         },
         {
          "account": "Canada",
          "lang": "ne",
          "tweet": 45
         },
         {
          "account": "Canada",
          "lang": "nl",
          "tweet": 4359
         },
         {
          "account": "Canada",
          "lang": "no",
          "tweet": 1000
         },
         {
          "account": "Canada",
          "lang": "or",
          "tweet": 4
         },
         {
          "account": "Canada",
          "lang": "pa",
          "tweet": 735
         },
         {
          "account": "Canada",
          "lang": "pl",
          "tweet": 700
         },
         {
          "account": "Canada",
          "lang": "ps",
          "tweet": 7
         },
         {
          "account": "Canada",
          "lang": "pt",
          "tweet": 47497
         },
         {
          "account": "Canada",
          "lang": "ro",
          "tweet": 2054
         },
         {
          "account": "Canada",
          "lang": "ru",
          "tweet": 553
         },
         {
          "account": "Canada",
          "lang": "sd",
          "tweet": 1
         },
         {
          "account": "Canada",
          "lang": "si",
          "tweet": 12
         },
         {
          "account": "Canada",
          "lang": "sl",
          "tweet": 130
         },
         {
          "account": "Canada",
          "lang": "sr",
          "tweet": 1
         },
         {
          "account": "Canada",
          "lang": "sv",
          "tweet": 739
         },
         {
          "account": "Canada",
          "lang": "ta",
          "tweet": 224
         },
         {
          "account": "Canada",
          "lang": "te",
          "tweet": 36
         },
         {
          "account": "Canada",
          "lang": "th",
          "tweet": 587
         },
         {
          "account": "Canada",
          "lang": "tl",
          "tweet": 12667
         },
         {
          "account": "Canada",
          "lang": "tr",
          "tweet": 3432
         },
         {
          "account": "Canada",
          "lang": "uk",
          "tweet": 42
         },
         {
          "account": "Canada",
          "lang": "und",
          "tweet": 34734
         },
         {
          "account": "Canada",
          "lang": "ur",
          "tweet": 541
         },
         {
          "account": "Canada",
          "lang": "vi",
          "tweet": 1022
         },
         {
          "account": "Canada",
          "lang": "zh",
          "tweet": 1861
         },
         {
          "account": "CanadianPM",
          "lang": "am",
          "tweet": 2
         },
         {
          "account": "CanadianPM",
          "lang": "ar",
          "tweet": 35
         },
         {
          "account": "CanadianPM",
          "lang": "bn",
          "tweet": 1
         },
         {
          "account": "CanadianPM",
          "lang": "ca",
          "tweet": 8
         },
         {
          "account": "CanadianPM",
          "lang": "cs",
          "tweet": 1
         },
         {
          "account": "CanadianPM",
          "lang": "cy",
          "tweet": 3
         },
         {
          "account": "CanadianPM",
          "lang": "da",
          "tweet": 4
         },
         {
          "account": "CanadianPM",
          "lang": "de",
          "tweet": 4
         },
         {
          "account": "CanadianPM",
          "lang": "en",
          "tweet": 30429
         },
         {
          "account": "CanadianPM",
          "lang": "es",
          "tweet": 117
         },
         {
          "account": "CanadianPM",
          "lang": "et",
          "tweet": 13
         },
         {
          "account": "CanadianPM",
          "lang": "eu",
          "tweet": 4
         },
         {
          "account": "CanadianPM",
          "lang": "fa",
          "tweet": 6
         },
         {
          "account": "CanadianPM",
          "lang": "fi",
          "tweet": 2
         },
         {
          "account": "CanadianPM",
          "lang": "fr",
          "tweet": 307
         },
         {
          "account": "CanadianPM",
          "lang": "gu",
          "tweet": 1
         },
         {
          "account": "CanadianPM",
          "lang": "hi",
          "tweet": 211
         },
         {
          "account": "CanadianPM",
          "lang": "ht",
          "tweet": 15
         },
         {
          "account": "CanadianPM",
          "lang": "hu",
          "tweet": 1
         },
         {
          "account": "CanadianPM",
          "lang": "in",
          "tweet": 81
         },
         {
          "account": "CanadianPM",
          "lang": "is",
          "tweet": 2
         },
         {
          "account": "CanadianPM",
          "lang": "it",
          "tweet": 26
         },
         {
          "account": "CanadianPM",
          "lang": "ja",
          "tweet": 128
         },
         {
          "account": "CanadianPM",
          "lang": "kn",
          "tweet": 2
         },
         {
          "account": "CanadianPM",
          "lang": "lt",
          "tweet": 3
         },
         {
          "account": "CanadianPM",
          "lang": "lv",
          "tweet": 2
         },
         {
          "account": "CanadianPM",
          "lang": "ml",
          "tweet": 1
         },
         {
          "account": "CanadianPM",
          "lang": "nl",
          "tweet": 6
         },
         {
          "account": "CanadianPM",
          "lang": "no",
          "tweet": 4
         },
         {
          "account": "CanadianPM",
          "lang": "or",
          "tweet": 2
         },
         {
          "account": "CanadianPM",
          "lang": "pa",
          "tweet": 1
         },
         {
          "account": "CanadianPM",
          "lang": "pl",
          "tweet": 8
         },
         {
          "account": "CanadianPM",
          "lang": "pt",
          "tweet": 21
         },
         {
          "account": "CanadianPM",
          "lang": "ro",
          "tweet": 5
         },
         {
          "account": "CanadianPM",
          "lang": "ru",
          "tweet": 1
         },
         {
          "account": "CanadianPM",
          "lang": "sv",
          "tweet": 8
         },
         {
          "account": "CanadianPM",
          "lang": "ta",
          "tweet": 10
         },
         {
          "account": "CanadianPM",
          "lang": "tl",
          "tweet": 47
         },
         {
          "account": "CanadianPM",
          "lang": "tr",
          "tweet": 27
         },
         {
          "account": "CanadianPM",
          "lang": "uk",
          "tweet": 2
         },
         {
          "account": "CanadianPM",
          "lang": "und",
          "tweet": 3922
         },
         {
          "account": "CanadianPM",
          "lang": "ur",
          "tweet": 12
         },
         {
          "account": "CanadianPM",
          "lang": "vi",
          "tweet": 2
         },
         {
          "account": "CanadianPM",
          "lang": "zh",
          "tweet": 8
         },
         {
          "account": "GovCanHealth",
          "lang": "ar",
          "tweet": 21
         },
         {
          "account": "GovCanHealth",
          "lang": "ca",
          "tweet": 13
         },
         {
          "account": "GovCanHealth",
          "lang": "ckb",
          "tweet": 2
         },
         {
          "account": "GovCanHealth",
          "lang": "cs",
          "tweet": 2
         },
         {
          "account": "GovCanHealth",
          "lang": "cy",
          "tweet": 5
         },
         {
          "account": "GovCanHealth",
          "lang": "da",
          "tweet": 3
         },
         {
          "account": "GovCanHealth",
          "lang": "de",
          "tweet": 2
         },
         {
          "account": "GovCanHealth",
          "lang": "en",
          "tweet": 22144
         },
         {
          "account": "GovCanHealth",
          "lang": "es",
          "tweet": 62
         },
         {
          "account": "GovCanHealth",
          "lang": "et",
          "tweet": 9
         },
         {
          "account": "GovCanHealth",
          "lang": "eu",
          "tweet": 3
         },
         {
          "account": "GovCanHealth",
          "lang": "fa",
          "tweet": 4
         },
         {
          "account": "GovCanHealth",
          "lang": "fr",
          "tweet": 116
         },
         {
          "account": "GovCanHealth",
          "lang": "hi",
          "tweet": 180
         },
         {
          "account": "GovCanHealth",
          "lang": "ht",
          "tweet": 7
         },
         {
          "account": "GovCanHealth",
          "lang": "hu",
          "tweet": 1
         },
         {
          "account": "GovCanHealth",
          "lang": "in",
          "tweet": 23
         },
         {
          "account": "GovCanHealth",
          "lang": "is",
          "tweet": 2
         },
         {
          "account": "GovCanHealth",
          "lang": "it",
          "tweet": 10
         },
         {
          "account": "GovCanHealth",
          "lang": "ja",
          "tweet": 8
         },
         {
          "account": "GovCanHealth",
          "lang": "lt",
          "tweet": 1
         },
         {
          "account": "GovCanHealth",
          "lang": "nl",
          "tweet": 4
         },
         {
          "account": "GovCanHealth",
          "lang": "no",
          "tweet": 4
         },
         {
          "account": "GovCanHealth",
          "lang": "pl",
          "tweet": 5
         },
         {
          "account": "GovCanHealth",
          "lang": "pt",
          "tweet": 14
         },
         {
          "account": "GovCanHealth",
          "lang": "ro",
          "tweet": 5
         },
         {
          "account": "GovCanHealth",
          "lang": "ru",
          "tweet": 3
         },
         {
          "account": "GovCanHealth",
          "lang": "sv",
          "tweet": 6
         },
         {
          "account": "GovCanHealth",
          "lang": "ta",
          "tweet": 3
         },
         {
          "account": "GovCanHealth",
          "lang": "tl",
          "tweet": 15
         },
         {
          "account": "GovCanHealth",
          "lang": "tr",
          "tweet": 6
         },
         {
          "account": "GovCanHealth",
          "lang": "uk",
          "tweet": 2
         },
         {
          "account": "GovCanHealth",
          "lang": "und",
          "tweet": 1834
         },
         {
          "account": "GovCanHealth",
          "lang": "zh",
          "tweet": 30
         },
         {
          "account": "JustinTrudeau",
          "lang": "am",
          "tweet": 10
         },
         {
          "account": "JustinTrudeau",
          "lang": "ar",
          "tweet": 441
         },
         {
          "account": "JustinTrudeau",
          "lang": "bg",
          "tweet": 2
         },
         {
          "account": "JustinTrudeau",
          "lang": "bn",
          "tweet": 53
         },
         {
          "account": "JustinTrudeau",
          "lang": "ca",
          "tweet": 643
         },
         {
          "account": "JustinTrudeau",
          "lang": "ckb",
          "tweet": 86
         },
         {
          "account": "JustinTrudeau",
          "lang": "cs",
          "tweet": 61
         },
         {
          "account": "JustinTrudeau",
          "lang": "cy",
          "tweet": 91
         },
         {
          "account": "JustinTrudeau",
          "lang": "da",
          "tweet": 109
         },
         {
          "account": "JustinTrudeau",
          "lang": "de",
          "tweet": 473
         },
         {
          "account": "JustinTrudeau",
          "lang": "el",
          "tweet": 22
         },
         {
          "account": "JustinTrudeau",
          "lang": "en",
          "tweet": 620818
         },
         {
          "account": "JustinTrudeau",
          "lang": "es",
          "tweet": 13208
         },
         {
          "account": "JustinTrudeau",
          "lang": "et",
          "tweet": 276
         },
         {
          "account": "JustinTrudeau",
          "lang": "eu",
          "tweet": 57
         },
         {
          "account": "JustinTrudeau",
          "lang": "fa",
          "tweet": 308
         },
         {
          "account": "JustinTrudeau",
          "lang": "fi",
          "tweet": 52
         },
         {
          "account": "JustinTrudeau",
          "lang": "fr",
          "tweet": 33843
         },
         {
          "account": "JustinTrudeau",
          "lang": "gu",
          "tweet": 29
         },
         {
          "account": "JustinTrudeau",
          "lang": "hi",
          "tweet": 1548
         },
         {
          "account": "JustinTrudeau",
          "lang": "ht",
          "tweet": 478
         },
         {
          "account": "JustinTrudeau",
          "lang": "hu",
          "tweet": 72
         },
         {
          "account": "JustinTrudeau",
          "lang": "in",
          "tweet": 1256
         },
         {
          "account": "JustinTrudeau",
          "lang": "is",
          "tweet": 42
         },
         {
          "account": "JustinTrudeau",
          "lang": "it",
          "tweet": 462
         },
         {
          "account": "JustinTrudeau",
          "lang": "iw",
          "tweet": 10
         },
         {
          "account": "JustinTrudeau",
          "lang": "ja",
          "tweet": 229
         },
         {
          "account": "JustinTrudeau",
          "lang": "km",
          "tweet": 1
         },
         {
          "account": "JustinTrudeau",
          "lang": "kn",
          "tweet": 8
         },
         {
          "account": "JustinTrudeau",
          "lang": "ko",
          "tweet": 17
         },
         {
          "account": "JustinTrudeau",
          "lang": "lt",
          "tweet": 44
         },
         {
          "account": "JustinTrudeau",
          "lang": "lv",
          "tweet": 22
         },
         {
          "account": "JustinTrudeau",
          "lang": "ml",
          "tweet": 14
         },
         {
          "account": "JustinTrudeau",
          "lang": "mr",
          "tweet": 27
         },
         {
          "account": "JustinTrudeau",
          "lang": "my",
          "tweet": 1
         },
         {
          "account": "JustinTrudeau",
          "lang": "ne",
          "tweet": 21
         },
         {
          "account": "JustinTrudeau",
          "lang": "nl",
          "tweet": 260
         },
         {
          "account": "JustinTrudeau",
          "lang": "no",
          "tweet": 97
         },
         {
          "account": "JustinTrudeau",
          "lang": "pa",
          "tweet": 44
         },
         {
          "account": "JustinTrudeau",
          "lang": "pl",
          "tweet": 185
         },
         {
          "account": "JustinTrudeau",
          "lang": "ps",
          "tweet": 3
         },
         {
          "account": "JustinTrudeau",
          "lang": "pt",
          "tweet": 1181
         },
         {
          "account": "JustinTrudeau",
          "lang": "ro",
          "tweet": 283
         },
         {
          "account": "JustinTrudeau",
          "lang": "ru",
          "tweet": 250
         },
         {
          "account": "JustinTrudeau",
          "lang": "si",
          "tweet": 6
         },
         {
          "account": "JustinTrudeau",
          "lang": "sl",
          "tweet": 21
         },
         {
          "account": "JustinTrudeau",
          "lang": "sv",
          "tweet": 317
         },
         {
          "account": "JustinTrudeau",
          "lang": "ta",
          "tweet": 279
         },
         {
          "account": "JustinTrudeau",
          "lang": "te",
          "tweet": 13
         },
         {
          "account": "JustinTrudeau",
          "lang": "th",
          "tweet": 29
         },
         {
          "account": "JustinTrudeau",
          "lang": "tl",
          "tweet": 998
         },
         {
          "account": "JustinTrudeau",
          "lang": "tr",
          "tweet": 2149
         },
         {
          "account": "JustinTrudeau",
          "lang": "uk",
          "tweet": 186
         },
         {
          "account": "JustinTrudeau",
          "lang": "und",
          "tweet": 50865
         },
         {
          "account": "JustinTrudeau",
          "lang": "ur",
          "tweet": 172
         },
         {
          "account": "JustinTrudeau",
          "lang": "vi",
          "tweet": 34
         },
         {
          "account": "JustinTrudeau",
          "lang": "zh",
          "tweet": 457
         }
        ]
       },
       "encoding": {
        "color": {
         "field": "lang",
         "legend": {
          "orient": "bottom"
         },
         "sort": [
          "en",
          "es",
          "fr",
          "und",
          "pt",
          "tl",
          "in",
          "ja",
          "ca",
          "it",
          "hi",
          "tr",
          "nl",
          "et",
          "de",
          "zh",
          "ro",
          "ht",
          "cy",
          "ko",
          "ar",
          "no",
          "sv",
          "vi",
          "fi",
          "pl",
          "ru",
          "pa",
          "da",
          "ur",
          "fa",
          "th",
          "cs",
          "ta",
          "uk",
          "eu",
          "lt",
          "hu",
          "sl",
          "el",
          "ckb",
          "bn",
          "is",
          "gu",
          "ml",
          "lv",
          "ne",
          "mr",
          "te",
          "kn",
          "am",
          "si",
          "iw",
          "ps",
          "or",
          "bg",
          "my",
          "sr",
          "sd",
          "dv",
          "km",
          "hy"
         ],
         "title": "Language code",
         "type": "nominal"
        },
        "tooltip": [
         {
          "field": "account",
          "type": "nominal"
         },
         {
          "field": "lang",
          "type": "nominal"
         }
        ],
        "x": {
         "aggregate": "sum",
         "field": "tweet",
         "stack": "normalize",
         "title": "Percentage",
         "type": "quantitative"
        },
        "y": {
         "field": "account",
         "title": "Account",
         "type": "nominal"
        }
       },
       "height": 150,
       "mark": "bar",
       "title": "Proportion of tweets for each Account by Language"
      },
      "image/png": "[encoded data removed]",
      "text/plain": [
       "<VegaLite 4 object>\n",
       "\n",
       "If you see this message, it means the renderer has not been properly enabled\n",
       "for the frontend that you are using. For more information, see\n",
       "https://altair-viz.github.io/user_guide/troubleshooting.html\n"
      ]
     },
     "execution_count": 13,
     "metadata": {},
     "output_type": "execute_result"
    }
   ],
   "source": [
    "df_aux = pd.DataFrame(df_tot.groupby(['account', 'lang'])['tweet'].count()).reset_index()\n",
    "sort_lang = pd.DataFrame(df_aux.groupby(['lang'])['tweet'].sum()).reset_index().sort_values(by=['tweet'], ascending=False).reset_index()['lang']\n",
    "\n",
    "alt.Chart(df_aux).mark_bar().encode(\n",
    "    x=alt.X('sum(tweet)', stack=\"normalize\", title=\"Percentage\"),\n",
    "    y=alt.Y('account', title=\"Account\"),\n",
    "    color=alt.Color('lang', sort=sort_lang.to_list(), title=\"Language code\", legend=alt.Legend(orient=\"bottom\")),\n",
    "    tooltip=['account' , 'lang']\n",
    ").properties(\n",
    "    title='Proportion of tweets for each Account by Language',\n",
    "    height=150\n",
    ")\n"
   ]
  },
  {
   "cell_type": "markdown",
   "metadata": {},
   "source": [
    "### Users with most tweets that mention/or are related with the official Canadian accounts."
   ]
  },
  {
   "cell_type": "code",
   "execution_count": 14,
   "metadata": {},
   "outputs": [
    {
     "data": {
      "application/vnd.vegalite.v4+json": {
       "$schema": "https://vega.github.io/schema/vega-lite/v4.8.1.json",
       "config": {
        "view": {
         "continuousHeight": 300,
         "continuousWidth": 400
        }
       },
       "data": {
        "name": "data-ac61f21dd1018f0ffd9dbc40e9e61e3c"
       },
       "datasets": {
        "data-ac61f21dd1018f0ffd9dbc40e9e61e3c": [
         {
          "tweet": 6504,
          "username": "AbhiQeep"
         },
         {
          "tweet": 5930,
          "username": "canadanewsmedia"
         },
         {
          "tweet": 4305,
          "username": "retiredknitwit"
         },
         {
          "tweet": 4003,
          "username": "AnimalsHolbox"
         },
         {
          "tweet": 3224,
          "username": "CanadaNewsblog"
         },
         {
          "tweet": 2899,
          "username": "NarcityCanada"
         },
         {
          "tweet": 2876,
          "username": "MAYussuf1"
         },
         {
          "tweet": 2682,
          "username": "Canada_Gaming"
         },
         {
          "tweet": 2566,
          "username": "Lady3The"
         },
         {
          "tweet": 2143,
          "username": "Djfury4412"
         },
         {
          "tweet": 1960,
          "username": "PopCanRetro"
         },
         {
          "tweet": 1912,
          "username": "WatsupAmericas"
         },
         {
          "tweet": 1820,
          "username": "nonsellcom"
         },
         {
          "tweet": 1707,
          "username": "MDOT_BWB"
         },
         {
          "tweet": 1523,
          "username": "paulyoungcpa"
         }
        ]
       },
       "height": 350,
       "layer": [
        {
         "encoding": {
          "color": {
           "field": "tweet",
           "legend": null,
           "type": "quantitative"
          },
          "x": {
           "field": "tweet",
           "title": "Number of tweets",
           "type": "quantitative"
          },
          "y": {
           "field": "username",
           "sort": [
            "AbhiQeep",
            "canadanewsmedia",
            "retiredknitwit",
            "AnimalsHolbox",
            "CanadaNewsblog",
            "NarcityCanada",
            "MAYussuf1",
            "Canada_Gaming",
            "Lady3The",
            "Djfury4412",
            "PopCanRetro",
            "WatsupAmericas",
            "nonsellcom",
            "MDOT_BWB",
            "paulyoungcpa"
           ],
           "title": "Username",
           "type": "nominal"
          }
         },
         "mark": "bar",
         "title": "Users with most tweets"
        },
        {
         "encoding": {
          "color": {
           "field": "tweet",
           "legend": null,
           "type": "quantitative"
          },
          "text": {
           "field": "tweet",
           "type": "quantitative"
          },
          "x": {
           "field": "tweet",
           "title": "Number of tweets",
           "type": "quantitative"
          },
          "y": {
           "field": "username",
           "sort": [
            "AbhiQeep",
            "canadanewsmedia",
            "retiredknitwit",
            "AnimalsHolbox",
            "CanadaNewsblog",
            "NarcityCanada",
            "MAYussuf1",
            "Canada_Gaming",
            "Lady3The",
            "Djfury4412",
            "PopCanRetro",
            "WatsupAmericas",
            "nonsellcom",
            "MDOT_BWB",
            "paulyoungcpa"
           ],
           "title": "Username",
           "type": "nominal"
          }
         },
         "mark": {
          "align": "left",
          "baseline": "middle",
          "dx": 3,
          "type": "text"
         },
         "title": "Users with most tweets"
        }
       ]
      },
      "image/png": "[encoded data removed]",
      "text/plain": [
       "<VegaLite 4 object>\n",
       "\n",
       "If you see this message, it means the renderer has not been properly enabled\n",
       "for the frontend that you are using. For more information, see\n",
       "https://altair-viz.github.io/user_guide/troubleshooting.html\n"
      ]
     },
     "execution_count": 14,
     "metadata": {},
     "output_type": "execute_result"
    }
   ],
   "source": [
    "df_aux = pd.DataFrame(df_tot.groupby(['username'])['tweet'].count()).reset_index().sort_values(by=['tweet'], ascending=False).reset_index(drop=True)\n",
    "\n",
    "bars = alt.Chart(df_aux[:15]).mark_bar().encode(\n",
    "    x=alt.X('tweet', title=\"Number of tweets\"),\n",
    "    y=alt.Y('username', sort=list(df_aux['username'][:15]), title=\"Username\"),\n",
    "    color=alt.Color('tweet', legend=None)\n",
    ").properties(\n",
    "    title='Users with most tweets'\n",
    ")\n",
    "\n",
    "text = bars.mark_text(\n",
    "    align='left',\n",
    "    baseline='middle',\n",
    "    dx=3  # Nudges text to right so it doesn't appear on top of the bar\n",
    ").encode(\n",
    "    text='tweet:Q'\n",
    ")\n",
    "\n",
    "(bars + text).properties(height=350)"
   ]
  },
  {
   "cell_type": "markdown",
   "metadata": {},
   "source": [
    "### Tokens per tweet distribution"
   ]
  },
  {
   "cell_type": "code",
   "execution_count": 15,
   "metadata": {},
   "outputs": [
    {
     "name": "stdout",
     "output_type": "stream",
     "text": [
      "CPU times: user 563 ms, sys: 15.6 ms, total: 579 ms\n",
      "Wall time: 578 ms\n"
     ]
    }
   ],
   "source": [
    "# count the tokens per tweets\n",
    "%time tweet_size = [len(tweet) for tweet in df_tot['tweet']]"
   ]
  },
  {
   "cell_type": "code",
   "execution_count": 16,
   "metadata": {},
   "outputs": [
    {
     "data": {
      "text/html": [
       "<div>\n",
       "<style scoped>\n",
       "    .dataframe tbody tr th:only-of-type {\n",
       "        vertical-align: middle;\n",
       "    }\n",
       "\n",
       "    .dataframe tbody tr th {\n",
       "        vertical-align: top;\n",
       "    }\n",
       "\n",
       "    .dataframe thead th {\n",
       "        text-align: right;\n",
       "    }\n",
       "</style>\n",
       "<table border=\"1\" class=\"dataframe\">\n",
       "  <thead>\n",
       "    <tr style=\"text-align: right;\">\n",
       "      <th></th>\n",
       "      <th>tokens</th>\n",
       "      <th>counts</th>\n",
       "    </tr>\n",
       "  </thead>\n",
       "  <tbody>\n",
       "    <tr>\n",
       "      <th>0</th>\n",
       "      <td>0</td>\n",
       "      <td>276</td>\n",
       "    </tr>\n",
       "    <tr>\n",
       "      <th>1</th>\n",
       "      <td>1</td>\n",
       "      <td>39</td>\n",
       "    </tr>\n",
       "    <tr>\n",
       "      <th>2</th>\n",
       "      <td>2</td>\n",
       "      <td>10</td>\n",
       "    </tr>\n",
       "    <tr>\n",
       "      <th>3</th>\n",
       "      <td>3</td>\n",
       "      <td>22</td>\n",
       "    </tr>\n",
       "    <tr>\n",
       "      <th>4</th>\n",
       "      <td>4</td>\n",
       "      <td>22</td>\n",
       "    </tr>\n",
       "    <tr>\n",
       "      <th>...</th>\n",
       "      <td>...</td>\n",
       "      <td>...</td>\n",
       "    </tr>\n",
       "    <tr>\n",
       "      <th>974</th>\n",
       "      <td>991</td>\n",
       "      <td>1</td>\n",
       "    </tr>\n",
       "    <tr>\n",
       "      <th>975</th>\n",
       "      <td>992</td>\n",
       "      <td>1</td>\n",
       "    </tr>\n",
       "    <tr>\n",
       "      <th>976</th>\n",
       "      <td>999</td>\n",
       "      <td>1</td>\n",
       "    </tr>\n",
       "    <tr>\n",
       "      <th>977</th>\n",
       "      <td>1003</td>\n",
       "      <td>1</td>\n",
       "    </tr>\n",
       "    <tr>\n",
       "      <th>978</th>\n",
       "      <td>1103</td>\n",
       "      <td>1</td>\n",
       "    </tr>\n",
       "  </tbody>\n",
       "</table>\n",
       "<p>979 rows × 2 columns</p>\n",
       "</div>"
      ],
      "text/plain": [
       "     tokens  counts\n",
       "0         0     276\n",
       "1         1      39\n",
       "2         2      10\n",
       "3         3      22\n",
       "4         4      22\n",
       "..      ...     ...\n",
       "974     991       1\n",
       "975     992       1\n",
       "976     999       1\n",
       "977    1003       1\n",
       "978    1103       1\n",
       "\n",
       "[979 rows x 2 columns]"
      ]
     },
     "execution_count": 16,
     "metadata": {},
     "output_type": "execute_result"
    }
   ],
   "source": [
    "source = pd.DataFrame(tweet_size).reset_index().rename(columns = {0:\"tokens\", 'index': \"counts\"})\n",
    "source = source.groupby(['tokens']).count().reset_index()\n",
    "source"
   ]
  },
  {
   "cell_type": "code",
   "execution_count": 17,
   "metadata": {},
   "outputs": [],
   "source": [
    "base = alt.Chart(source).mark_line().encode(\n",
    "#     x=alt.X(\"tokens:Q\"),#, bin=True),\n",
    "    x=alt.X(\"tokens:Q\"),#, bin=alt.Bin(maxbins=100), title=\"Number of tokens (binned)\"),\n",
    "    y=alt.Y('counts', title=\"Count of records\")\n",
    ").properties(\n",
    "    title='Histogram of number of tokens by tweet'\n",
    ")"
   ]
  },
  {
   "cell_type": "code",
   "execution_count": 18,
   "metadata": {},
   "outputs": [
    {
     "data": {
      "application/vnd.vegalite.v4+json": {
       "$schema": "https://vega.github.io/schema/vega-lite/v4.8.1.json",
       "config": {
        "view": {
         "continuousHeight": 300,
         "continuousWidth": 400
        }
       },
       "data": {
        "name": "data-4cecda0b9dc9d9677a7e84975b1d3906"
       },
       "datasets": {
        "data-4cecda0b9dc9d9677a7e84975b1d3906": [
         {
          "counts": 276,
          "tokens": 0
         },
         {
          "counts": 39,
          "tokens": 1
         },
         {
          "counts": 10,
          "tokens": 2
         },
         {
          "counts": 22,
          "tokens": 3
         },
         {
          "counts": 22,
          "tokens": 4
         },
         {
          "counts": 23,
          "tokens": 5
         },
         {
          "counts": 1981,
          "tokens": 6
         },
         {
          "counts": 512,
          "tokens": 7
         },
         {
          "counts": 952,
          "tokens": 8
         },
         {
          "counts": 827,
          "tokens": 9
         },
         {
          "counts": 1617,
          "tokens": 10
         },
         {
          "counts": 1683,
          "tokens": 11
         },
         {
          "counts": 2462,
          "tokens": 12
         },
         {
          "counts": 2082,
          "tokens": 13
         },
         {
          "counts": 9875,
          "tokens": 14
         },
         {
          "counts": 2910,
          "tokens": 15
         },
         {
          "counts": 3396,
          "tokens": 16
         },
         {
          "counts": 3901,
          "tokens": 17
         },
         {
          "counts": 4431,
          "tokens": 18
         },
         {
          "counts": 4444,
          "tokens": 19
         },
         {
          "counts": 4985,
          "tokens": 20
         },
         {
          "counts": 5413,
          "tokens": 21
         },
         {
          "counts": 5764,
          "tokens": 22
         },
         {
          "counts": 6179,
          "tokens": 23
         },
         {
          "counts": 6696,
          "tokens": 24
         },
         {
          "counts": 7017,
          "tokens": 25
         },
         {
          "counts": 8388,
          "tokens": 26
         },
         {
          "counts": 8002,
          "tokens": 27
         },
         {
          "counts": 9090,
          "tokens": 28
         },
         {
          "counts": 8804,
          "tokens": 29
         },
         {
          "counts": 8777,
          "tokens": 30
         },
         {
          "counts": 9690,
          "tokens": 31
         },
         {
          "counts": 8712,
          "tokens": 32
         },
         {
          "counts": 9293,
          "tokens": 33
         },
         {
          "counts": 9256,
          "tokens": 34
         },
         {
          "counts": 10000,
          "tokens": 35
         },
         {
          "counts": 10450,
          "tokens": 36
         },
         {
          "counts": 10533,
          "tokens": 37
         },
         {
          "counts": 11027,
          "tokens": 38
         },
         {
          "counts": 11341,
          "tokens": 39
         },
         {
          "counts": 11912,
          "tokens": 40
         },
         {
          "counts": 12351,
          "tokens": 41
         },
         {
          "counts": 12464,
          "tokens": 42
         },
         {
          "counts": 13779,
          "tokens": 43
         },
         {
          "counts": 12636,
          "tokens": 44
         },
         {
          "counts": 13659,
          "tokens": 45
         },
         {
          "counts": 13897,
          "tokens": 46
         },
         {
          "counts": 13213,
          "tokens": 47
         },
         {
          "counts": 13645,
          "tokens": 48
         },
         {
          "counts": 14184,
          "tokens": 49
         },
         {
          "counts": 14226,
          "tokens": 50
         },
         {
          "counts": 14191,
          "tokens": 51
         },
         {
          "counts": 14882,
          "tokens": 52
         },
         {
          "counts": 15091,
          "tokens": 53
         },
         {
          "counts": 15365,
          "tokens": 54
         },
         {
          "counts": 15186,
          "tokens": 55
         },
         {
          "counts": 16435,
          "tokens": 56
         },
         {
          "counts": 15933,
          "tokens": 57
         },
         {
          "counts": 15843,
          "tokens": 58
         },
         {
          "counts": 16453,
          "tokens": 59
         },
         {
          "counts": 16868,
          "tokens": 60
         },
         {
          "counts": 18788,
          "tokens": 61
         },
         {
          "counts": 16641,
          "tokens": 62
         },
         {
          "counts": 16765,
          "tokens": 63
         },
         {
          "counts": 17870,
          "tokens": 64
         },
         {
          "counts": 17559,
          "tokens": 65
         },
         {
          "counts": 17663,
          "tokens": 66
         },
         {
          "counts": 18395,
          "tokens": 67
         },
         {
          "counts": 19175,
          "tokens": 68
         },
         {
          "counts": 17563,
          "tokens": 69
         },
         {
          "counts": 17928,
          "tokens": 70
         },
         {
          "counts": 18758,
          "tokens": 71
         },
         {
          "counts": 19511,
          "tokens": 72
         },
         {
          "counts": 18330,
          "tokens": 73
         },
         {
          "counts": 18805,
          "tokens": 74
         },
         {
          "counts": 20062,
          "tokens": 75
         },
         {
          "counts": 19679,
          "tokens": 76
         },
         {
          "counts": 18355,
          "tokens": 77
         },
         {
          "counts": 18041,
          "tokens": 78
         },
         {
          "counts": 18428,
          "tokens": 79
         },
         {
          "counts": 18515,
          "tokens": 80
         },
         {
          "counts": 17334,
          "tokens": 81
         },
         {
          "counts": 17692,
          "tokens": 82
         },
         {
          "counts": 17439,
          "tokens": 83
         },
         {
          "counts": 16762,
          "tokens": 84
         },
         {
          "counts": 16826,
          "tokens": 85
         },
         {
          "counts": 17608,
          "tokens": 86
         },
         {
          "counts": 17163,
          "tokens": 87
         },
         {
          "counts": 17317,
          "tokens": 88
         },
         {
          "counts": 19040,
          "tokens": 89
         },
         {
          "counts": 17556,
          "tokens": 90
         },
         {
          "counts": 16175,
          "tokens": 91
         },
         {
          "counts": 16395,
          "tokens": 92
         },
         {
          "counts": 16157,
          "tokens": 93
         },
         {
          "counts": 15670,
          "tokens": 94
         },
         {
          "counts": 15547,
          "tokens": 95
         },
         {
          "counts": 16009,
          "tokens": 96
         },
         {
          "counts": 15424,
          "tokens": 97
         },
         {
          "counts": 15012,
          "tokens": 98
         },
         {
          "counts": 15156,
          "tokens": 99
         },
         {
          "counts": 14852,
          "tokens": 100
         },
         {
          "counts": 15230,
          "tokens": 101
         },
         {
          "counts": 14614,
          "tokens": 102
         },
         {
          "counts": 14502,
          "tokens": 103
         },
         {
          "counts": 14887,
          "tokens": 104
         },
         {
          "counts": 14775,
          "tokens": 105
         },
         {
          "counts": 14608,
          "tokens": 106
         },
         {
          "counts": 14719,
          "tokens": 107
         },
         {
          "counts": 16370,
          "tokens": 108
         },
         {
          "counts": 14542,
          "tokens": 109
         },
         {
          "counts": 14373,
          "tokens": 110
         },
         {
          "counts": 18227,
          "tokens": 111
         },
         {
          "counts": 14456,
          "tokens": 112
         },
         {
          "counts": 14143,
          "tokens": 113
         },
         {
          "counts": 14273,
          "tokens": 114
         },
         {
          "counts": 13885,
          "tokens": 115
         },
         {
          "counts": 13638,
          "tokens": 116
         },
         {
          "counts": 13368,
          "tokens": 117
         },
         {
          "counts": 13332,
          "tokens": 118
         },
         {
          "counts": 13171,
          "tokens": 119
         },
         {
          "counts": 13218,
          "tokens": 120
         },
         {
          "counts": 12989,
          "tokens": 121
         },
         {
          "counts": 12883,
          "tokens": 122
         },
         {
          "counts": 12554,
          "tokens": 123
         },
         {
          "counts": 12964,
          "tokens": 124
         },
         {
          "counts": 12383,
          "tokens": 125
         },
         {
          "counts": 12009,
          "tokens": 126
         },
         {
          "counts": 11885,
          "tokens": 127
         },
         {
          "counts": 12292,
          "tokens": 128
         },
         {
          "counts": 12249,
          "tokens": 129
         },
         {
          "counts": 12483,
          "tokens": 130
         },
         {
          "counts": 11894,
          "tokens": 131
         },
         {
          "counts": 11993,
          "tokens": 132
         },
         {
          "counts": 12073,
          "tokens": 133
         },
         {
          "counts": 12243,
          "tokens": 134
         },
         {
          "counts": 12283,
          "tokens": 135
         },
         {
          "counts": 11638,
          "tokens": 136
         },
         {
          "counts": 11708,
          "tokens": 137
         },
         {
          "counts": 11318,
          "tokens": 138
         },
         {
          "counts": 11883,
          "tokens": 139
         },
         {
          "counts": 11464,
          "tokens": 140
         },
         {
          "counts": 11413,
          "tokens": 141
         },
         {
          "counts": 11469,
          "tokens": 142
         },
         {
          "counts": 11227,
          "tokens": 143
         },
         {
          "counts": 11380,
          "tokens": 144
         },
         {
          "counts": 11393,
          "tokens": 145
         },
         {
          "counts": 11190,
          "tokens": 146
         },
         {
          "counts": 10892,
          "tokens": 147
         },
         {
          "counts": 10615,
          "tokens": 148
         },
         {
          "counts": 10604,
          "tokens": 149
         },
         {
          "counts": 10696,
          "tokens": 150
         },
         {
          "counts": 10656,
          "tokens": 151
         },
         {
          "counts": 10627,
          "tokens": 152
         },
         {
          "counts": 10515,
          "tokens": 153
         },
         {
          "counts": 10333,
          "tokens": 154
         },
         {
          "counts": 10408,
          "tokens": 155
         },
         {
          "counts": 10040,
          "tokens": 156
         },
         {
          "counts": 10231,
          "tokens": 157
         },
         {
          "counts": 10091,
          "tokens": 158
         },
         {
          "counts": 10256,
          "tokens": 159
         },
         {
          "counts": 10107,
          "tokens": 160
         },
         {
          "counts": 10102,
          "tokens": 161
         },
         {
          "counts": 9980,
          "tokens": 162
         },
         {
          "counts": 10038,
          "tokens": 163
         },
         {
          "counts": 10155,
          "tokens": 164
         },
         {
          "counts": 9871,
          "tokens": 165
         },
         {
          "counts": 10450,
          "tokens": 166
         },
         {
          "counts": 9763,
          "tokens": 167
         },
         {
          "counts": 9785,
          "tokens": 168
         },
         {
          "counts": 10228,
          "tokens": 169
         },
         {
          "counts": 9732,
          "tokens": 170
         },
         {
          "counts": 9905,
          "tokens": 171
         },
         {
          "counts": 9560,
          "tokens": 172
         },
         {
          "counts": 9427,
          "tokens": 173
         },
         {
          "counts": 9646,
          "tokens": 174
         },
         {
          "counts": 9712,
          "tokens": 175
         },
         {
          "counts": 9585,
          "tokens": 176
         },
         {
          "counts": 9483,
          "tokens": 177
         },
         {
          "counts": 9326,
          "tokens": 178
         },
         {
          "counts": 9326,
          "tokens": 179
         },
         {
          "counts": 9529,
          "tokens": 180
         },
         {
          "counts": 9280,
          "tokens": 181
         },
         {
          "counts": 9551,
          "tokens": 182
         },
         {
          "counts": 9291,
          "tokens": 183
         },
         {
          "counts": 9274,
          "tokens": 184
         },
         {
          "counts": 9184,
          "tokens": 185
         },
         {
          "counts": 9479,
          "tokens": 186
         },
         {
          "counts": 9365,
          "tokens": 187
         },
         {
          "counts": 9216,
          "tokens": 188
         },
         {
          "counts": 8997,
          "tokens": 189
         },
         {
          "counts": 9037,
          "tokens": 190
         },
         {
          "counts": 8890,
          "tokens": 191
         },
         {
          "counts": 9059,
          "tokens": 192
         },
         {
          "counts": 9094,
          "tokens": 193
         },
         {
          "counts": 9257,
          "tokens": 194
         },
         {
          "counts": 9270,
          "tokens": 195
         },
         {
          "counts": 9244,
          "tokens": 196
         },
         {
          "counts": 9032,
          "tokens": 197
         },
         {
          "counts": 9271,
          "tokens": 198
         },
         {
          "counts": 9149,
          "tokens": 199
         },
         {
          "counts": 9204,
          "tokens": 200
         },
         {
          "counts": 9254,
          "tokens": 201
         },
         {
          "counts": 9176,
          "tokens": 202
         },
         {
          "counts": 9075,
          "tokens": 203
         },
         {
          "counts": 9394,
          "tokens": 204
         },
         {
          "counts": 9330,
          "tokens": 205
         },
         {
          "counts": 9222,
          "tokens": 206
         },
         {
          "counts": 9331,
          "tokens": 207
         },
         {
          "counts": 9432,
          "tokens": 208
         },
         {
          "counts": 9426,
          "tokens": 209
         },
         {
          "counts": 9676,
          "tokens": 210
         },
         {
          "counts": 9644,
          "tokens": 211
         },
         {
          "counts": 9501,
          "tokens": 212
         },
         {
          "counts": 9729,
          "tokens": 213
         },
         {
          "counts": 11361,
          "tokens": 214
         },
         {
          "counts": 9987,
          "tokens": 215
         },
         {
          "counts": 9898,
          "tokens": 216
         },
         {
          "counts": 9724,
          "tokens": 217
         },
         {
          "counts": 9699,
          "tokens": 218
         },
         {
          "counts": 9500,
          "tokens": 219
         },
         {
          "counts": 9460,
          "tokens": 220
         },
         {
          "counts": 9338,
          "tokens": 221
         },
         {
          "counts": 8965,
          "tokens": 222
         },
         {
          "counts": 8974,
          "tokens": 223
         },
         {
          "counts": 9468,
          "tokens": 224
         },
         {
          "counts": 9058,
          "tokens": 225
         },
         {
          "counts": 9156,
          "tokens": 226
         },
         {
          "counts": 9302,
          "tokens": 227
         },
         {
          "counts": 9234,
          "tokens": 228
         },
         {
          "counts": 9322,
          "tokens": 229
         },
         {
          "counts": 9366,
          "tokens": 230
         },
         {
          "counts": 9247,
          "tokens": 231
         },
         {
          "counts": 9612,
          "tokens": 232
         },
         {
          "counts": 9365,
          "tokens": 233
         },
         {
          "counts": 9738,
          "tokens": 234
         },
         {
          "counts": 9717,
          "tokens": 235
         },
         {
          "counts": 9605,
          "tokens": 236
         },
         {
          "counts": 9586,
          "tokens": 237
         },
         {
          "counts": 9778,
          "tokens": 238
         },
         {
          "counts": 15360,
          "tokens": 239
         },
         {
          "counts": 9932,
          "tokens": 240
         },
         {
          "counts": 10415,
          "tokens": 241
         },
         {
          "counts": 10036,
          "tokens": 242
         },
         {
          "counts": 10292,
          "tokens": 243
         },
         {
          "counts": 10352,
          "tokens": 244
         },
         {
          "counts": 11661,
          "tokens": 245
         },
         {
          "counts": 10778,
          "tokens": 246
         },
         {
          "counts": 11265,
          "tokens": 247
         },
         {
          "counts": 11311,
          "tokens": 248
         },
         {
          "counts": 11849,
          "tokens": 249
         },
         {
          "counts": 12690,
          "tokens": 250
         },
         {
          "counts": 12472,
          "tokens": 251
         },
         {
          "counts": 13328,
          "tokens": 252
         },
         {
          "counts": 13463,
          "tokens": 253
         },
         {
          "counts": 12967,
          "tokens": 254
         },
         {
          "counts": 13148,
          "tokens": 255
         },
         {
          "counts": 13068,
          "tokens": 256
         },
         {
          "counts": 11674,
          "tokens": 257
         },
         {
          "counts": 10861,
          "tokens": 258
         },
         {
          "counts": 10589,
          "tokens": 259
         },
         {
          "counts": 10147,
          "tokens": 260
         },
         {
          "counts": 10101,
          "tokens": 261
         },
         {
          "counts": 10202,
          "tokens": 262
         },
         {
          "counts": 11906,
          "tokens": 263
         },
         {
          "counts": 10147,
          "tokens": 264
         },
         {
          "counts": 10116,
          "tokens": 265
         },
         {
          "counts": 11779,
          "tokens": 266
         },
         {
          "counts": 10436,
          "tokens": 267
         },
         {
          "counts": 11242,
          "tokens": 268
         },
         {
          "counts": 11194,
          "tokens": 269
         },
         {
          "counts": 11395,
          "tokens": 270
         },
         {
          "counts": 11578,
          "tokens": 271
         },
         {
          "counts": 12069,
          "tokens": 272
         },
         {
          "counts": 12680,
          "tokens": 273
         },
         {
          "counts": 13124,
          "tokens": 274
         },
         {
          "counts": 14483,
          "tokens": 275
         },
         {
          "counts": 14950,
          "tokens": 276
         },
         {
          "counts": 16251,
          "tokens": 277
         },
         {
          "counts": 16600,
          "tokens": 278
         },
         {
          "counts": 17025,
          "tokens": 279
         },
         {
          "counts": 16536,
          "tokens": 280
         },
         {
          "counts": 13690,
          "tokens": 281
         },
         {
          "counts": 11449,
          "tokens": 282
         },
         {
          "counts": 10073,
          "tokens": 283
         },
         {
          "counts": 9208,
          "tokens": 284
         },
         {
          "counts": 8457,
          "tokens": 285
         },
         {
          "counts": 7739,
          "tokens": 286
         },
         {
          "counts": 7856,
          "tokens": 287
         },
         {
          "counts": 7598,
          "tokens": 288
         },
         {
          "counts": 7560,
          "tokens": 289
         },
         {
          "counts": 7543,
          "tokens": 290
         },
         {
          "counts": 7491,
          "tokens": 291
         },
         {
          "counts": 7341,
          "tokens": 292
         },
         {
          "counts": 7272,
          "tokens": 293
         },
         {
          "counts": 6904,
          "tokens": 294
         },
         {
          "counts": 6732,
          "tokens": 295
         },
         {
          "counts": 6250,
          "tokens": 296
         },
         {
          "counts": 5693,
          "tokens": 297
         },
         {
          "counts": 5201,
          "tokens": 298
         },
         {
          "counts": 5022,
          "tokens": 299
         },
         {
          "counts": 4610,
          "tokens": 300
         },
         {
          "counts": 4602,
          "tokens": 301
         },
         {
          "counts": 4354,
          "tokens": 302
         },
         {
          "counts": 4503,
          "tokens": 303
         },
         {
          "counts": 4398,
          "tokens": 304
         },
         {
          "counts": 4279,
          "tokens": 305
         },
         {
          "counts": 4273,
          "tokens": 306
         },
         {
          "counts": 4156,
          "tokens": 307
         },
         {
          "counts": 4026,
          "tokens": 308
         },
         {
          "counts": 3788,
          "tokens": 309
         },
         {
          "counts": 3635,
          "tokens": 310
         },
         {
          "counts": 3254,
          "tokens": 311
         },
         {
          "counts": 3083,
          "tokens": 312
         },
         {
          "counts": 2946,
          "tokens": 313
         },
         {
          "counts": 2717,
          "tokens": 314
         },
         {
          "counts": 2734,
          "tokens": 315
         },
         {
          "counts": 2591,
          "tokens": 316
         },
         {
          "counts": 2582,
          "tokens": 317
         },
         {
          "counts": 2443,
          "tokens": 318
         },
         {
          "counts": 2296,
          "tokens": 319
         },
         {
          "counts": 2204,
          "tokens": 320
         },
         {
          "counts": 2233,
          "tokens": 321
         },
         {
          "counts": 2088,
          "tokens": 322
         },
         {
          "counts": 2151,
          "tokens": 323
         },
         {
          "counts": 2009,
          "tokens": 324
         },
         {
          "counts": 1874,
          "tokens": 325
         },
         {
          "counts": 1736,
          "tokens": 326
         },
         {
          "counts": 1606,
          "tokens": 327
         },
         {
          "counts": 1516,
          "tokens": 328
         },
         {
          "counts": 1450,
          "tokens": 329
         },
         {
          "counts": 1508,
          "tokens": 330
         },
         {
          "counts": 1330,
          "tokens": 331
         },
         {
          "counts": 1327,
          "tokens": 332
         },
         {
          "counts": 1309,
          "tokens": 333
         },
         {
          "counts": 1220,
          "tokens": 334
         },
         {
          "counts": 1040,
          "tokens": 335
         },
         {
          "counts": 1085,
          "tokens": 336
         },
         {
          "counts": 1071,
          "tokens": 337
         },
         {
          "counts": 1024,
          "tokens": 338
         },
         {
          "counts": 1024,
          "tokens": 339
         },
         {
          "counts": 933,
          "tokens": 340
         },
         {
          "counts": 909,
          "tokens": 341
         },
         {
          "counts": 849,
          "tokens": 342
         },
         {
          "counts": 855,
          "tokens": 343
         },
         {
          "counts": 767,
          "tokens": 344
         },
         {
          "counts": 748,
          "tokens": 345
         },
         {
          "counts": 714,
          "tokens": 346
         },
         {
          "counts": 731,
          "tokens": 347
         },
         {
          "counts": 658,
          "tokens": 348
         },
         {
          "counts": 627,
          "tokens": 349
         },
         {
          "counts": 616,
          "tokens": 350
         },
         {
          "counts": 591,
          "tokens": 351
         },
         {
          "counts": 582,
          "tokens": 352
         },
         {
          "counts": 546,
          "tokens": 353
         },
         {
          "counts": 513,
          "tokens": 354
         },
         {
          "counts": 509,
          "tokens": 355
         },
         {
          "counts": 478,
          "tokens": 356
         },
         {
          "counts": 431,
          "tokens": 357
         },
         {
          "counts": 442,
          "tokens": 358
         },
         {
          "counts": 403,
          "tokens": 359
         },
         {
          "counts": 345,
          "tokens": 360
         },
         {
          "counts": 375,
          "tokens": 361
         },
         {
          "counts": 389,
          "tokens": 362
         },
         {
          "counts": 336,
          "tokens": 363
         },
         {
          "counts": 335,
          "tokens": 364
         },
         {
          "counts": 334,
          "tokens": 365
         },
         {
          "counts": 321,
          "tokens": 366
         },
         {
          "counts": 307,
          "tokens": 367
         },
         {
          "counts": 287,
          "tokens": 368
         },
         {
          "counts": 291,
          "tokens": 369
         },
         {
          "counts": 247,
          "tokens": 370
         },
         {
          "counts": 230,
          "tokens": 371
         },
         {
          "counts": 269,
          "tokens": 372
         },
         {
          "counts": 228,
          "tokens": 373
         },
         {
          "counts": 221,
          "tokens": 374
         },
         {
          "counts": 233,
          "tokens": 375
         },
         {
          "counts": 215,
          "tokens": 376
         },
         {
          "counts": 228,
          "tokens": 377
         },
         {
          "counts": 223,
          "tokens": 378
         },
         {
          "counts": 170,
          "tokens": 379
         },
         {
          "counts": 216,
          "tokens": 380
         },
         {
          "counts": 197,
          "tokens": 381
         },
         {
          "counts": 188,
          "tokens": 382
         },
         {
          "counts": 181,
          "tokens": 383
         },
         {
          "counts": 180,
          "tokens": 384
         },
         {
          "counts": 181,
          "tokens": 385
         },
         {
          "counts": 164,
          "tokens": 386
         },
         {
          "counts": 171,
          "tokens": 387
         },
         {
          "counts": 139,
          "tokens": 388
         },
         {
          "counts": 145,
          "tokens": 389
         },
         {
          "counts": 129,
          "tokens": 390
         },
         {
          "counts": 163,
          "tokens": 391
         },
         {
          "counts": 149,
          "tokens": 392
         },
         {
          "counts": 119,
          "tokens": 393
         },
         {
          "counts": 127,
          "tokens": 394
         },
         {
          "counts": 116,
          "tokens": 395
         },
         {
          "counts": 142,
          "tokens": 396
         },
         {
          "counts": 121,
          "tokens": 397
         },
         {
          "counts": 117,
          "tokens": 398
         },
         {
          "counts": 133,
          "tokens": 399
         },
         {
          "counts": 126,
          "tokens": 400
         },
         {
          "counts": 103,
          "tokens": 401
         },
         {
          "counts": 138,
          "tokens": 402
         },
         {
          "counts": 102,
          "tokens": 403
         },
         {
          "counts": 125,
          "tokens": 404
         },
         {
          "counts": 96,
          "tokens": 405
         },
         {
          "counts": 106,
          "tokens": 406
         },
         {
          "counts": 100,
          "tokens": 407
         },
         {
          "counts": 111,
          "tokens": 408
         },
         {
          "counts": 102,
          "tokens": 409
         },
         {
          "counts": 111,
          "tokens": 410
         },
         {
          "counts": 94,
          "tokens": 411
         },
         {
          "counts": 89,
          "tokens": 412
         },
         {
          "counts": 101,
          "tokens": 413
         },
         {
          "counts": 98,
          "tokens": 414
         },
         {
          "counts": 96,
          "tokens": 415
         },
         {
          "counts": 90,
          "tokens": 416
         },
         {
          "counts": 108,
          "tokens": 417
         },
         {
          "counts": 80,
          "tokens": 418
         },
         {
          "counts": 75,
          "tokens": 419
         },
         {
          "counts": 91,
          "tokens": 420
         },
         {
          "counts": 101,
          "tokens": 421
         },
         {
          "counts": 79,
          "tokens": 422
         },
         {
          "counts": 90,
          "tokens": 423
         },
         {
          "counts": 78,
          "tokens": 424
         },
         {
          "counts": 74,
          "tokens": 425
         },
         {
          "counts": 75,
          "tokens": 426
         },
         {
          "counts": 74,
          "tokens": 427
         },
         {
          "counts": 60,
          "tokens": 428
         },
         {
          "counts": 92,
          "tokens": 429
         },
         {
          "counts": 62,
          "tokens": 430
         },
         {
          "counts": 60,
          "tokens": 431
         },
         {
          "counts": 73,
          "tokens": 432
         },
         {
          "counts": 73,
          "tokens": 433
         },
         {
          "counts": 65,
          "tokens": 434
         },
         {
          "counts": 64,
          "tokens": 435
         },
         {
          "counts": 53,
          "tokens": 436
         },
         {
          "counts": 63,
          "tokens": 437
         },
         {
          "counts": 51,
          "tokens": 438
         },
         {
          "counts": 56,
          "tokens": 439
         },
         {
          "counts": 41,
          "tokens": 440
         },
         {
          "counts": 40,
          "tokens": 441
         },
         {
          "counts": 49,
          "tokens": 442
         },
         {
          "counts": 53,
          "tokens": 443
         },
         {
          "counts": 53,
          "tokens": 444
         },
         {
          "counts": 32,
          "tokens": 445
         },
         {
          "counts": 54,
          "tokens": 446
         },
         {
          "counts": 57,
          "tokens": 447
         },
         {
          "counts": 61,
          "tokens": 448
         },
         {
          "counts": 61,
          "tokens": 449
         },
         {
          "counts": 39,
          "tokens": 450
         },
         {
          "counts": 44,
          "tokens": 451
         },
         {
          "counts": 32,
          "tokens": 452
         },
         {
          "counts": 41,
          "tokens": 453
         },
         {
          "counts": 37,
          "tokens": 454
         },
         {
          "counts": 38,
          "tokens": 455
         },
         {
          "counts": 49,
          "tokens": 456
         },
         {
          "counts": 35,
          "tokens": 457
         },
         {
          "counts": 38,
          "tokens": 458
         },
         {
          "counts": 33,
          "tokens": 459
         },
         {
          "counts": 41,
          "tokens": 460
         },
         {
          "counts": 43,
          "tokens": 461
         },
         {
          "counts": 32,
          "tokens": 462
         },
         {
          "counts": 33,
          "tokens": 463
         },
         {
          "counts": 39,
          "tokens": 464
         },
         {
          "counts": 40,
          "tokens": 465
         },
         {
          "counts": 40,
          "tokens": 466
         },
         {
          "counts": 51,
          "tokens": 467
         },
         {
          "counts": 28,
          "tokens": 468
         },
         {
          "counts": 38,
          "tokens": 469
         },
         {
          "counts": 32,
          "tokens": 470
         },
         {
          "counts": 22,
          "tokens": 471
         },
         {
          "counts": 42,
          "tokens": 472
         },
         {
          "counts": 33,
          "tokens": 473
         },
         {
          "counts": 24,
          "tokens": 474
         },
         {
          "counts": 38,
          "tokens": 475
         },
         {
          "counts": 37,
          "tokens": 476
         },
         {
          "counts": 42,
          "tokens": 477
         },
         {
          "counts": 32,
          "tokens": 478
         },
         {
          "counts": 29,
          "tokens": 479
         },
         {
          "counts": 41,
          "tokens": 480
         },
         {
          "counts": 32,
          "tokens": 481
         },
         {
          "counts": 27,
          "tokens": 482
         },
         {
          "counts": 33,
          "tokens": 483
         },
         {
          "counts": 29,
          "tokens": 484
         },
         {
          "counts": 34,
          "tokens": 485
         },
         {
          "counts": 27,
          "tokens": 486
         },
         {
          "counts": 20,
          "tokens": 487
         },
         {
          "counts": 25,
          "tokens": 488
         },
         {
          "counts": 25,
          "tokens": 489
         },
         {
          "counts": 38,
          "tokens": 490
         },
         {
          "counts": 21,
          "tokens": 491
         },
         {
          "counts": 26,
          "tokens": 492
         },
         {
          "counts": 27,
          "tokens": 493
         },
         {
          "counts": 43,
          "tokens": 494
         },
         {
          "counts": 34,
          "tokens": 495
         },
         {
          "counts": 20,
          "tokens": 496
         },
         {
          "counts": 33,
          "tokens": 497
         },
         {
          "counts": 26,
          "tokens": 498
         },
         {
          "counts": 23,
          "tokens": 499
         },
         {
          "counts": 25,
          "tokens": 500
         },
         {
          "counts": 20,
          "tokens": 501
         },
         {
          "counts": 24,
          "tokens": 502
         },
         {
          "counts": 19,
          "tokens": 503
         },
         {
          "counts": 30,
          "tokens": 504
         },
         {
          "counts": 33,
          "tokens": 505
         },
         {
          "counts": 26,
          "tokens": 506
         },
         {
          "counts": 33,
          "tokens": 507
         },
         {
          "counts": 17,
          "tokens": 508
         },
         {
          "counts": 17,
          "tokens": 509
         },
         {
          "counts": 20,
          "tokens": 510
         },
         {
          "counts": 21,
          "tokens": 511
         },
         {
          "counts": 19,
          "tokens": 512
         },
         {
          "counts": 16,
          "tokens": 513
         },
         {
          "counts": 27,
          "tokens": 514
         },
         {
          "counts": 19,
          "tokens": 515
         },
         {
          "counts": 22,
          "tokens": 516
         },
         {
          "counts": 21,
          "tokens": 517
         },
         {
          "counts": 17,
          "tokens": 518
         },
         {
          "counts": 26,
          "tokens": 519
         },
         {
          "counts": 23,
          "tokens": 520
         },
         {
          "counts": 25,
          "tokens": 521
         },
         {
          "counts": 21,
          "tokens": 522
         },
         {
          "counts": 21,
          "tokens": 523
         },
         {
          "counts": 27,
          "tokens": 524
         },
         {
          "counts": 15,
          "tokens": 525
         },
         {
          "counts": 19,
          "tokens": 526
         },
         {
          "counts": 26,
          "tokens": 527
         },
         {
          "counts": 21,
          "tokens": 528
         },
         {
          "counts": 22,
          "tokens": 529
         },
         {
          "counts": 21,
          "tokens": 530
         },
         {
          "counts": 25,
          "tokens": 531
         },
         {
          "counts": 30,
          "tokens": 532
         },
         {
          "counts": 19,
          "tokens": 533
         },
         {
          "counts": 25,
          "tokens": 534
         },
         {
          "counts": 14,
          "tokens": 535
         },
         {
          "counts": 31,
          "tokens": 536
         },
         {
          "counts": 20,
          "tokens": 537
         },
         {
          "counts": 23,
          "tokens": 538
         },
         {
          "counts": 24,
          "tokens": 539
         },
         {
          "counts": 13,
          "tokens": 540
         },
         {
          "counts": 29,
          "tokens": 541
         },
         {
          "counts": 33,
          "tokens": 542
         },
         {
          "counts": 13,
          "tokens": 543
         },
         {
          "counts": 33,
          "tokens": 544
         },
         {
          "counts": 28,
          "tokens": 545
         },
         {
          "counts": 23,
          "tokens": 546
         },
         {
          "counts": 17,
          "tokens": 547
         },
         {
          "counts": 13,
          "tokens": 548
         },
         {
          "counts": 34,
          "tokens": 549
         },
         {
          "counts": 22,
          "tokens": 550
         },
         {
          "counts": 35,
          "tokens": 551
         },
         {
          "counts": 23,
          "tokens": 552
         },
         {
          "counts": 28,
          "tokens": 553
         },
         {
          "counts": 31,
          "tokens": 554
         },
         {
          "counts": 17,
          "tokens": 555
         },
         {
          "counts": 20,
          "tokens": 556
         },
         {
          "counts": 31,
          "tokens": 557
         },
         {
          "counts": 27,
          "tokens": 558
         },
         {
          "counts": 32,
          "tokens": 559
         },
         {
          "counts": 26,
          "tokens": 560
         },
         {
          "counts": 17,
          "tokens": 561
         },
         {
          "counts": 23,
          "tokens": 562
         },
         {
          "counts": 18,
          "tokens": 563
         },
         {
          "counts": 15,
          "tokens": 564
         },
         {
          "counts": 23,
          "tokens": 565
         },
         {
          "counts": 25,
          "tokens": 566
         },
         {
          "counts": 25,
          "tokens": 567
         },
         {
          "counts": 22,
          "tokens": 568
         },
         {
          "counts": 25,
          "tokens": 569
         },
         {
          "counts": 18,
          "tokens": 570
         },
         {
          "counts": 109,
          "tokens": 571
         },
         {
          "counts": 19,
          "tokens": 572
         },
         {
          "counts": 55,
          "tokens": 573
         },
         {
          "counts": 30,
          "tokens": 574
         },
         {
          "counts": 28,
          "tokens": 575
         },
         {
          "counts": 21,
          "tokens": 576
         },
         {
          "counts": 22,
          "tokens": 577
         },
         {
          "counts": 22,
          "tokens": 578
         },
         {
          "counts": 37,
          "tokens": 579
         },
         {
          "counts": 21,
          "tokens": 580
         },
         {
          "counts": 22,
          "tokens": 581
         },
         {
          "counts": 18,
          "tokens": 582
         },
         {
          "counts": 17,
          "tokens": 583
         },
         {
          "counts": 24,
          "tokens": 584
         },
         {
          "counts": 29,
          "tokens": 585
         },
         {
          "counts": 24,
          "tokens": 586
         },
         {
          "counts": 28,
          "tokens": 587
         },
         {
          "counts": 27,
          "tokens": 588
         },
         {
          "counts": 29,
          "tokens": 589
         },
         {
          "counts": 20,
          "tokens": 590
         },
         {
          "counts": 25,
          "tokens": 591
         },
         {
          "counts": 31,
          "tokens": 592
         },
         {
          "counts": 25,
          "tokens": 593
         },
         {
          "counts": 22,
          "tokens": 594
         },
         {
          "counts": 26,
          "tokens": 595
         },
         {
          "counts": 48,
          "tokens": 596
         },
         {
          "counts": 34,
          "tokens": 597
         },
         {
          "counts": 33,
          "tokens": 598
         },
         {
          "counts": 41,
          "tokens": 599
         },
         {
          "counts": 27,
          "tokens": 600
         },
         {
          "counts": 36,
          "tokens": 601
         },
         {
          "counts": 43,
          "tokens": 602
         },
         {
          "counts": 26,
          "tokens": 603
         },
         {
          "counts": 32,
          "tokens": 604
         },
         {
          "counts": 33,
          "tokens": 605
         },
         {
          "counts": 28,
          "tokens": 606
         },
         {
          "counts": 64,
          "tokens": 607
         },
         {
          "counts": 41,
          "tokens": 608
         },
         {
          "counts": 44,
          "tokens": 609
         },
         {
          "counts": 33,
          "tokens": 610
         },
         {
          "counts": 27,
          "tokens": 611
         },
         {
          "counts": 30,
          "tokens": 612
         },
         {
          "counts": 42,
          "tokens": 613
         },
         {
          "counts": 34,
          "tokens": 614
         },
         {
          "counts": 26,
          "tokens": 615
         },
         {
          "counts": 39,
          "tokens": 616
         },
         {
          "counts": 30,
          "tokens": 617
         },
         {
          "counts": 22,
          "tokens": 618
         },
         {
          "counts": 36,
          "tokens": 619
         },
         {
          "counts": 28,
          "tokens": 620
         },
         {
          "counts": 38,
          "tokens": 621
         },
         {
          "counts": 34,
          "tokens": 622
         },
         {
          "counts": 43,
          "tokens": 623
         },
         {
          "counts": 30,
          "tokens": 624
         },
         {
          "counts": 29,
          "tokens": 625
         },
         {
          "counts": 34,
          "tokens": 626
         },
         {
          "counts": 43,
          "tokens": 627
         },
         {
          "counts": 31,
          "tokens": 628
         },
         {
          "counts": 27,
          "tokens": 629
         },
         {
          "counts": 37,
          "tokens": 630
         },
         {
          "counts": 30,
          "tokens": 631
         },
         {
          "counts": 40,
          "tokens": 632
         },
         {
          "counts": 30,
          "tokens": 633
         },
         {
          "counts": 32,
          "tokens": 634
         },
         {
          "counts": 45,
          "tokens": 635
         },
         {
          "counts": 47,
          "tokens": 636
         },
         {
          "counts": 30,
          "tokens": 637
         },
         {
          "counts": 31,
          "tokens": 638
         },
         {
          "counts": 37,
          "tokens": 639
         },
         {
          "counts": 27,
          "tokens": 640
         },
         {
          "counts": 48,
          "tokens": 641
         },
         {
          "counts": 34,
          "tokens": 642
         },
         {
          "counts": 44,
          "tokens": 643
         },
         {
          "counts": 40,
          "tokens": 644
         },
         {
          "counts": 37,
          "tokens": 645
         },
         {
          "counts": 51,
          "tokens": 646
         },
         {
          "counts": 32,
          "tokens": 647
         },
         {
          "counts": 37,
          "tokens": 648
         },
         {
          "counts": 35,
          "tokens": 649
         },
         {
          "counts": 36,
          "tokens": 650
         },
         {
          "counts": 34,
          "tokens": 651
         },
         {
          "counts": 45,
          "tokens": 652
         },
         {
          "counts": 47,
          "tokens": 653
         },
         {
          "counts": 44,
          "tokens": 654
         },
         {
          "counts": 41,
          "tokens": 655
         },
         {
          "counts": 34,
          "tokens": 656
         },
         {
          "counts": 48,
          "tokens": 657
         },
         {
          "counts": 47,
          "tokens": 658
         },
         {
          "counts": 53,
          "tokens": 659
         },
         {
          "counts": 32,
          "tokens": 660
         },
         {
          "counts": 46,
          "tokens": 661
         },
         {
          "counts": 44,
          "tokens": 662
         },
         {
          "counts": 49,
          "tokens": 663
         },
         {
          "counts": 39,
          "tokens": 664
         },
         {
          "counts": 68,
          "tokens": 665
         },
         {
          "counts": 32,
          "tokens": 666
         },
         {
          "counts": 49,
          "tokens": 667
         },
         {
          "counts": 34,
          "tokens": 668
         },
         {
          "counts": 36,
          "tokens": 669
         },
         {
          "counts": 40,
          "tokens": 670
         },
         {
          "counts": 41,
          "tokens": 671
         },
         {
          "counts": 29,
          "tokens": 672
         },
         {
          "counts": 39,
          "tokens": 673
         },
         {
          "counts": 41,
          "tokens": 674
         },
         {
          "counts": 43,
          "tokens": 675
         },
         {
          "counts": 47,
          "tokens": 676
         },
         {
          "counts": 55,
          "tokens": 677
         },
         {
          "counts": 47,
          "tokens": 678
         },
         {
          "counts": 54,
          "tokens": 679
         },
         {
          "counts": 59,
          "tokens": 680
         },
         {
          "counts": 55,
          "tokens": 681
         },
         {
          "counts": 63,
          "tokens": 682
         },
         {
          "counts": 59,
          "tokens": 683
         },
         {
          "counts": 49,
          "tokens": 684
         },
         {
          "counts": 49,
          "tokens": 685
         },
         {
          "counts": 59,
          "tokens": 686
         },
         {
          "counts": 59,
          "tokens": 687
         },
         {
          "counts": 47,
          "tokens": 688
         },
         {
          "counts": 49,
          "tokens": 689
         },
         {
          "counts": 41,
          "tokens": 690
         },
         {
          "counts": 41,
          "tokens": 691
         },
         {
          "counts": 40,
          "tokens": 692
         },
         {
          "counts": 51,
          "tokens": 693
         },
         {
          "counts": 45,
          "tokens": 694
         },
         {
          "counts": 45,
          "tokens": 695
         },
         {
          "counts": 39,
          "tokens": 696
         },
         {
          "counts": 44,
          "tokens": 697
         },
         {
          "counts": 51,
          "tokens": 698
         },
         {
          "counts": 44,
          "tokens": 699
         },
         {
          "counts": 42,
          "tokens": 700
         },
         {
          "counts": 44,
          "tokens": 701
         },
         {
          "counts": 51,
          "tokens": 702
         },
         {
          "counts": 49,
          "tokens": 703
         },
         {
          "counts": 41,
          "tokens": 704
         },
         {
          "counts": 38,
          "tokens": 705
         },
         {
          "counts": 49,
          "tokens": 706
         },
         {
          "counts": 43,
          "tokens": 707
         },
         {
          "counts": 50,
          "tokens": 708
         },
         {
          "counts": 49,
          "tokens": 709
         },
         {
          "counts": 40,
          "tokens": 710
         },
         {
          "counts": 49,
          "tokens": 711
         },
         {
          "counts": 39,
          "tokens": 712
         },
         {
          "counts": 38,
          "tokens": 713
         },
         {
          "counts": 57,
          "tokens": 714
         },
         {
          "counts": 45,
          "tokens": 715
         },
         {
          "counts": 49,
          "tokens": 716
         },
         {
          "counts": 42,
          "tokens": 717
         },
         {
          "counts": 43,
          "tokens": 718
         },
         {
          "counts": 35,
          "tokens": 719
         },
         {
          "counts": 53,
          "tokens": 720
         },
         {
          "counts": 48,
          "tokens": 721
         },
         {
          "counts": 41,
          "tokens": 722
         },
         {
          "counts": 43,
          "tokens": 723
         },
         {
          "counts": 41,
          "tokens": 724
         },
         {
          "counts": 39,
          "tokens": 725
         },
         {
          "counts": 36,
          "tokens": 726
         },
         {
          "counts": 40,
          "tokens": 727
         },
         {
          "counts": 48,
          "tokens": 728
         },
         {
          "counts": 50,
          "tokens": 729
         },
         {
          "counts": 39,
          "tokens": 730
         },
         {
          "counts": 41,
          "tokens": 731
         },
         {
          "counts": 47,
          "tokens": 732
         },
         {
          "counts": 48,
          "tokens": 733
         },
         {
          "counts": 51,
          "tokens": 734
         },
         {
          "counts": 45,
          "tokens": 735
         },
         {
          "counts": 40,
          "tokens": 736
         },
         {
          "counts": 43,
          "tokens": 737
         },
         {
          "counts": 37,
          "tokens": 738
         },
         {
          "counts": 44,
          "tokens": 739
         },
         {
          "counts": 45,
          "tokens": 740
         },
         {
          "counts": 41,
          "tokens": 741
         },
         {
          "counts": 45,
          "tokens": 742
         },
         {
          "counts": 40,
          "tokens": 743
         },
         {
          "counts": 48,
          "tokens": 744
         },
         {
          "counts": 44,
          "tokens": 745
         },
         {
          "counts": 35,
          "tokens": 746
         },
         {
          "counts": 40,
          "tokens": 747
         },
         {
          "counts": 37,
          "tokens": 748
         },
         {
          "counts": 33,
          "tokens": 749
         },
         {
          "counts": 38,
          "tokens": 750
         },
         {
          "counts": 48,
          "tokens": 751
         },
         {
          "counts": 39,
          "tokens": 752
         },
         {
          "counts": 29,
          "tokens": 753
         },
         {
          "counts": 44,
          "tokens": 754
         },
         {
          "counts": 40,
          "tokens": 755
         },
         {
          "counts": 47,
          "tokens": 756
         },
         {
          "counts": 30,
          "tokens": 757
         },
         {
          "counts": 26,
          "tokens": 758
         },
         {
          "counts": 49,
          "tokens": 759
         },
         {
          "counts": 40,
          "tokens": 760
         },
         {
          "counts": 40,
          "tokens": 761
         },
         {
          "counts": 46,
          "tokens": 762
         },
         {
          "counts": 37,
          "tokens": 763
         },
         {
          "counts": 43,
          "tokens": 764
         },
         {
          "counts": 33,
          "tokens": 765
         },
         {
          "counts": 39,
          "tokens": 766
         },
         {
          "counts": 34,
          "tokens": 767
         },
         {
          "counts": 36,
          "tokens": 768
         },
         {
          "counts": 49,
          "tokens": 769
         },
         {
          "counts": 29,
          "tokens": 770
         },
         {
          "counts": 57,
          "tokens": 771
         },
         {
          "counts": 47,
          "tokens": 772
         },
         {
          "counts": 36,
          "tokens": 773
         },
         {
          "counts": 26,
          "tokens": 774
         },
         {
          "counts": 46,
          "tokens": 775
         },
         {
          "counts": 32,
          "tokens": 776
         },
         {
          "counts": 46,
          "tokens": 777
         },
         {
          "counts": 38,
          "tokens": 778
         },
         {
          "counts": 36,
          "tokens": 779
         },
         {
          "counts": 36,
          "tokens": 780
         },
         {
          "counts": 27,
          "tokens": 781
         },
         {
          "counts": 38,
          "tokens": 782
         },
         {
          "counts": 35,
          "tokens": 783
         },
         {
          "counts": 36,
          "tokens": 784
         },
         {
          "counts": 33,
          "tokens": 785
         },
         {
          "counts": 44,
          "tokens": 786
         },
         {
          "counts": 30,
          "tokens": 787
         },
         {
          "counts": 47,
          "tokens": 788
         },
         {
          "counts": 37,
          "tokens": 789
         },
         {
          "counts": 33,
          "tokens": 790
         },
         {
          "counts": 41,
          "tokens": 791
         },
         {
          "counts": 36,
          "tokens": 792
         },
         {
          "counts": 38,
          "tokens": 793
         },
         {
          "counts": 42,
          "tokens": 794
         },
         {
          "counts": 46,
          "tokens": 795
         },
         {
          "counts": 36,
          "tokens": 796
         },
         {
          "counts": 28,
          "tokens": 797
         },
         {
          "counts": 34,
          "tokens": 798
         },
         {
          "counts": 27,
          "tokens": 799
         },
         {
          "counts": 31,
          "tokens": 800
         },
         {
          "counts": 36,
          "tokens": 801
         },
         {
          "counts": 38,
          "tokens": 802
         },
         {
          "counts": 37,
          "tokens": 803
         },
         {
          "counts": 42,
          "tokens": 804
         },
         {
          "counts": 34,
          "tokens": 805
         },
         {
          "counts": 31,
          "tokens": 806
         },
         {
          "counts": 29,
          "tokens": 807
         },
         {
          "counts": 33,
          "tokens": 808
         },
         {
          "counts": 33,
          "tokens": 809
         },
         {
          "counts": 35,
          "tokens": 810
         },
         {
          "counts": 33,
          "tokens": 811
         },
         {
          "counts": 23,
          "tokens": 812
         },
         {
          "counts": 27,
          "tokens": 813
         },
         {
          "counts": 35,
          "tokens": 814
         },
         {
          "counts": 33,
          "tokens": 815
         },
         {
          "counts": 26,
          "tokens": 816
         },
         {
          "counts": 40,
          "tokens": 817
         },
         {
          "counts": 31,
          "tokens": 818
         },
         {
          "counts": 28,
          "tokens": 819
         },
         {
          "counts": 26,
          "tokens": 820
         },
         {
          "counts": 29,
          "tokens": 821
         },
         {
          "counts": 34,
          "tokens": 822
         },
         {
          "counts": 37,
          "tokens": 823
         },
         {
          "counts": 29,
          "tokens": 824
         },
         {
          "counts": 26,
          "tokens": 825
         },
         {
          "counts": 38,
          "tokens": 826
         },
         {
          "counts": 28,
          "tokens": 827
         },
         {
          "counts": 22,
          "tokens": 828
         },
         {
          "counts": 25,
          "tokens": 829
         },
         {
          "counts": 38,
          "tokens": 830
         },
         {
          "counts": 38,
          "tokens": 831
         },
         {
          "counts": 34,
          "tokens": 832
         },
         {
          "counts": 29,
          "tokens": 833
         },
         {
          "counts": 21,
          "tokens": 834
         },
         {
          "counts": 32,
          "tokens": 835
         },
         {
          "counts": 27,
          "tokens": 836
         },
         {
          "counts": 27,
          "tokens": 837
         },
         {
          "counts": 47,
          "tokens": 838
         },
         {
          "counts": 26,
          "tokens": 839
         },
         {
          "counts": 25,
          "tokens": 840
         },
         {
          "counts": 31,
          "tokens": 841
         },
         {
          "counts": 26,
          "tokens": 842
         },
         {
          "counts": 36,
          "tokens": 843
         },
         {
          "counts": 34,
          "tokens": 844
         },
         {
          "counts": 29,
          "tokens": 845
         },
         {
          "counts": 31,
          "tokens": 846
         },
         {
          "counts": 34,
          "tokens": 847
         },
         {
          "counts": 25,
          "tokens": 848
         },
         {
          "counts": 32,
          "tokens": 849
         },
         {
          "counts": 44,
          "tokens": 850
         },
         {
          "counts": 32,
          "tokens": 851
         },
         {
          "counts": 39,
          "tokens": 852
         },
         {
          "counts": 33,
          "tokens": 853
         },
         {
          "counts": 33,
          "tokens": 854
         },
         {
          "counts": 39,
          "tokens": 855
         },
         {
          "counts": 30,
          "tokens": 856
         },
         {
          "counts": 30,
          "tokens": 857
         },
         {
          "counts": 29,
          "tokens": 858
         },
         {
          "counts": 44,
          "tokens": 859
         },
         {
          "counts": 36,
          "tokens": 860
         },
         {
          "counts": 22,
          "tokens": 861
         },
         {
          "counts": 30,
          "tokens": 862
         },
         {
          "counts": 32,
          "tokens": 863
         },
         {
          "counts": 32,
          "tokens": 864
         },
         {
          "counts": 41,
          "tokens": 865
         },
         {
          "counts": 34,
          "tokens": 866
         },
         {
          "counts": 41,
          "tokens": 867
         },
         {
          "counts": 31,
          "tokens": 868
         },
         {
          "counts": 33,
          "tokens": 869
         },
         {
          "counts": 35,
          "tokens": 870
         },
         {
          "counts": 48,
          "tokens": 871
         },
         {
          "counts": 44,
          "tokens": 872
         },
         {
          "counts": 52,
          "tokens": 873
         },
         {
          "counts": 51,
          "tokens": 874
         },
         {
          "counts": 46,
          "tokens": 875
         },
         {
          "counts": 47,
          "tokens": 876
         },
         {
          "counts": 44,
          "tokens": 877
         },
         {
          "counts": 52,
          "tokens": 878
         },
         {
          "counts": 45,
          "tokens": 879
         },
         {
          "counts": 50,
          "tokens": 880
         },
         {
          "counts": 48,
          "tokens": 881
         },
         {
          "counts": 43,
          "tokens": 882
         },
         {
          "counts": 46,
          "tokens": 883
         },
         {
          "counts": 55,
          "tokens": 884
         },
         {
          "counts": 47,
          "tokens": 885
         },
         {
          "counts": 38,
          "tokens": 886
         },
         {
          "counts": 38,
          "tokens": 887
         },
         {
          "counts": 45,
          "tokens": 888
         },
         {
          "counts": 28,
          "tokens": 889
         },
         {
          "counts": 39,
          "tokens": 890
         },
         {
          "counts": 42,
          "tokens": 891
         },
         {
          "counts": 34,
          "tokens": 892
         },
         {
          "counts": 35,
          "tokens": 893
         },
         {
          "counts": 44,
          "tokens": 894
         },
         {
          "counts": 40,
          "tokens": 895
         },
         {
          "counts": 37,
          "tokens": 896
         },
         {
          "counts": 38,
          "tokens": 897
         },
         {
          "counts": 32,
          "tokens": 898
         },
         {
          "counts": 33,
          "tokens": 899
         },
         {
          "counts": 20,
          "tokens": 900
         },
         {
          "counts": 25,
          "tokens": 901
         },
         {
          "counts": 25,
          "tokens": 902
         },
         {
          "counts": 18,
          "tokens": 903
         },
         {
          "counts": 21,
          "tokens": 904
         },
         {
          "counts": 27,
          "tokens": 905
         },
         {
          "counts": 21,
          "tokens": 906
         },
         {
          "counts": 23,
          "tokens": 907
         },
         {
          "counts": 25,
          "tokens": 908
         },
         {
          "counts": 16,
          "tokens": 909
         },
         {
          "counts": 19,
          "tokens": 910
         },
         {
          "counts": 14,
          "tokens": 911
         },
         {
          "counts": 13,
          "tokens": 912
         },
         {
          "counts": 20,
          "tokens": 913
         },
         {
          "counts": 14,
          "tokens": 914
         },
         {
          "counts": 17,
          "tokens": 915
         },
         {
          "counts": 11,
          "tokens": 916
         },
         {
          "counts": 14,
          "tokens": 917
         },
         {
          "counts": 27,
          "tokens": 918
         },
         {
          "counts": 14,
          "tokens": 919
         },
         {
          "counts": 12,
          "tokens": 920
         },
         {
          "counts": 11,
          "tokens": 921
         },
         {
          "counts": 18,
          "tokens": 922
         },
         {
          "counts": 10,
          "tokens": 923
         },
         {
          "counts": 16,
          "tokens": 924
         },
         {
          "counts": 9,
          "tokens": 925
         },
         {
          "counts": 16,
          "tokens": 926
         },
         {
          "counts": 12,
          "tokens": 927
         },
         {
          "counts": 2,
          "tokens": 928
         },
         {
          "counts": 14,
          "tokens": 929
         },
         {
          "counts": 11,
          "tokens": 930
         },
         {
          "counts": 11,
          "tokens": 931
         },
         {
          "counts": 8,
          "tokens": 932
         },
         {
          "counts": 7,
          "tokens": 933
         },
         {
          "counts": 2,
          "tokens": 934
         },
         {
          "counts": 8,
          "tokens": 935
         },
         {
          "counts": 12,
          "tokens": 936
         },
         {
          "counts": 3,
          "tokens": 937
         },
         {
          "counts": 9,
          "tokens": 938
         },
         {
          "counts": 8,
          "tokens": 939
         },
         {
          "counts": 9,
          "tokens": 940
         },
         {
          "counts": 6,
          "tokens": 941
         },
         {
          "counts": 9,
          "tokens": 942
         },
         {
          "counts": 5,
          "tokens": 943
         },
         {
          "counts": 4,
          "tokens": 944
         },
         {
          "counts": 3,
          "tokens": 945
         },
         {
          "counts": 2,
          "tokens": 946
         },
         {
          "counts": 9,
          "tokens": 947
         },
         {
          "counts": 7,
          "tokens": 948
         },
         {
          "counts": 5,
          "tokens": 949
         },
         {
          "counts": 3,
          "tokens": 950
         },
         {
          "counts": 4,
          "tokens": 951
         },
         {
          "counts": 3,
          "tokens": 952
         },
         {
          "counts": 3,
          "tokens": 953
         },
         {
          "counts": 3,
          "tokens": 954
         },
         {
          "counts": 2,
          "tokens": 955
         },
         {
          "counts": 4,
          "tokens": 956
         },
         {
          "counts": 3,
          "tokens": 957
         },
         {
          "counts": 3,
          "tokens": 958
         },
         {
          "counts": 2,
          "tokens": 961
         },
         {
          "counts": 1,
          "tokens": 962
         },
         {
          "counts": 3,
          "tokens": 963
         },
         {
          "counts": 1,
          "tokens": 964
         },
         {
          "counts": 1,
          "tokens": 965
         },
         {
          "counts": 2,
          "tokens": 968
         },
         {
          "counts": 1,
          "tokens": 969
         },
         {
          "counts": 1,
          "tokens": 973
         },
         {
          "counts": 1,
          "tokens": 975
         },
         {
          "counts": 1,
          "tokens": 977
         },
         {
          "counts": 1,
          "tokens": 978
         },
         {
          "counts": 1,
          "tokens": 980
         },
         {
          "counts": 1,
          "tokens": 981
         },
         {
          "counts": 2,
          "tokens": 982
         },
         {
          "counts": 2,
          "tokens": 985
         },
         {
          "counts": 1,
          "tokens": 991
         },
         {
          "counts": 1,
          "tokens": 992
         },
         {
          "counts": 1,
          "tokens": 999
         },
         {
          "counts": 1,
          "tokens": 1003
         },
         {
          "counts": 1,
          "tokens": 1103
         }
        ]
       },
       "encoding": {
        "x": {
         "bin": {
          "maxbins": 70
         },
         "field": "tokens",
         "title": "Number of tokens (binned)",
         "type": "quantitative"
        },
        "y": {
         "field": "counts",
         "title": "Count of records",
         "type": "quantitative"
        }
       },
       "mark": "area",
       "title": "Histogram of number of tokens by tweet"
      },
      "image/png": "[encoded data removed]",
      "text/plain": [
       "<VegaLite 4 object>\n",
       "\n",
       "If you see this message, it means the renderer has not been properly enabled\n",
       "for the frontend that you are using. For more information, see\n",
       "https://altair-viz.github.io/user_guide/troubleshooting.html\n"
      ]
     },
     "execution_count": 18,
     "metadata": {},
     "output_type": "execute_result"
    }
   ],
   "source": [
    "histo = base.mark_area().encode(x=alt.X(\"tokens:Q\", bin=alt.Bin(maxbins=70), title=\"Number of tokens (binned)\"))\n",
    "#line = base.transform_regression('tokens', 'counts', method=\"poly\", order=1).mark_line(size=4, color=\"salmon\")\n",
    "histo"
   ]
  },
  {
   "cell_type": "markdown",
   "metadata": {},
   "source": [
    "### Analysis by location"
   ]
  },
  {
   "cell_type": "code",
   "execution_count": 19,
   "metadata": {},
   "outputs": [
    {
     "data": {
      "text/html": [
       "<div>\n",
       "<style scoped>\n",
       "    .dataframe tbody tr th:only-of-type {\n",
       "        vertical-align: middle;\n",
       "    }\n",
       "\n",
       "    .dataframe tbody tr th {\n",
       "        vertical-align: top;\n",
       "    }\n",
       "\n",
       "    .dataframe thead th {\n",
       "        text-align: right;\n",
       "    }\n",
       "</style>\n",
       "<table border=\"1\" class=\"dataframe\">\n",
       "  <thead>\n",
       "    <tr style=\"text-align: right;\">\n",
       "      <th></th>\n",
       "      <th>location</th>\n",
       "      <th>tweet</th>\n",
       "    </tr>\n",
       "  </thead>\n",
       "  <tbody>\n",
       "    <tr>\n",
       "      <th>0</th>\n",
       "      <td></td>\n",
       "      <td>974993</td>\n",
       "    </tr>\n",
       "    <tr>\n",
       "      <th>1</th>\n",
       "      <td>Canada</td>\n",
       "      <td>204791</td>\n",
       "    </tr>\n",
       "    <tr>\n",
       "      <th>2</th>\n",
       "      <td>Toronto, Ontario</td>\n",
       "      <td>92833</td>\n",
       "    </tr>\n",
       "    <tr>\n",
       "      <th>3</th>\n",
       "      <td>Ontario, Canada</td>\n",
       "      <td>62237</td>\n",
       "    </tr>\n",
       "    <tr>\n",
       "      <th>4</th>\n",
       "      <td>Toronto</td>\n",
       "      <td>48435</td>\n",
       "    </tr>\n",
       "    <tr>\n",
       "      <th>...</th>\n",
       "      <td>...</td>\n",
       "      <td>...</td>\n",
       "    </tr>\n",
       "    <tr>\n",
       "      <th>223508</th>\n",
       "      <td>Republik of Buffalo</td>\n",
       "      <td>1</td>\n",
       "    </tr>\n",
       "    <tr>\n",
       "      <th>223509</th>\n",
       "      <td>Republik Seakan2</td>\n",
       "      <td>1</td>\n",
       "    </tr>\n",
       "    <tr>\n",
       "      <th>223510</th>\n",
       "      <td>Dumpster outside Disneyland</td>\n",
       "      <td>1</td>\n",
       "    </tr>\n",
       "    <tr>\n",
       "      <th>223511</th>\n",
       "      <td>Republiek Amsterdam</td>\n",
       "      <td>1</td>\n",
       "    </tr>\n",
       "    <tr>\n",
       "      <th>223512</th>\n",
       "      <td>🫐🔄</td>\n",
       "      <td>1</td>\n",
       "    </tr>\n",
       "  </tbody>\n",
       "</table>\n",
       "<p>223513 rows × 2 columns</p>\n",
       "</div>"
      ],
      "text/plain": [
       "                           location   tweet\n",
       "0                                    974993\n",
       "1                            Canada  204791\n",
       "2                  Toronto, Ontario   92833\n",
       "3                   Ontario, Canada   62237\n",
       "4                           Toronto   48435\n",
       "...                             ...     ...\n",
       "223508          Republik of Buffalo       1\n",
       "223509             Republik Seakan2       1\n",
       "223510  Dumpster outside Disneyland       1\n",
       "223511         Republiek Amsterdam        1\n",
       "223512                           🫐🔄       1\n",
       "\n",
       "[223513 rows x 2 columns]"
      ]
     },
     "execution_count": 19,
     "metadata": {},
     "output_type": "execute_result"
    }
   ],
   "source": [
    "pd.DataFrame(df_tot.groupby(['location'])['tweet'].count()).reset_index().sort_values(by=['tweet'], ascending=False).reset_index(drop=True)"
   ]
  },
  {
   "cell_type": "markdown",
   "metadata": {},
   "source": [
    "The location of the tweets depends on description manually given by the user. It looks ambiguous and probably is not very useful for this analysis."
   ]
  },
  {
   "cell_type": "markdown",
   "metadata": {},
   "source": [
    "### Heatmap with number of tweets per day by official Canada account"
   ]
  },
  {
   "cell_type": "code",
   "execution_count": 20,
   "metadata": {},
   "outputs": [
    {
     "data": {
      "text/html": [
       "<div>\n",
       "<style scoped>\n",
       "    .dataframe tbody tr th:only-of-type {\n",
       "        vertical-align: middle;\n",
       "    }\n",
       "\n",
       "    .dataframe tbody tr th {\n",
       "        vertical-align: top;\n",
       "    }\n",
       "\n",
       "    .dataframe thead th {\n",
       "        text-align: right;\n",
       "    }\n",
       "</style>\n",
       "<table border=\"1\" class=\"dataframe\">\n",
       "  <thead>\n",
       "    <tr style=\"text-align: right;\">\n",
       "      <th></th>\n",
       "      <th>account</th>\n",
       "      <th>day</th>\n",
       "      <th>tweet</th>\n",
       "      <th>total</th>\n",
       "      <th>weight</th>\n",
       "    </tr>\n",
       "  </thead>\n",
       "  <tbody>\n",
       "    <tr>\n",
       "      <th>0</th>\n",
       "      <td>Canada</td>\n",
       "      <td>2020-03-01</td>\n",
       "      <td>30429</td>\n",
       "      <td>2711168</td>\n",
       "      <td>0.011224</td>\n",
       "    </tr>\n",
       "    <tr>\n",
       "      <th>1</th>\n",
       "      <td>Canada</td>\n",
       "      <td>2020-03-02</td>\n",
       "      <td>34689</td>\n",
       "      <td>2711168</td>\n",
       "      <td>0.012795</td>\n",
       "    </tr>\n",
       "    <tr>\n",
       "      <th>2</th>\n",
       "      <td>Canada</td>\n",
       "      <td>2020-03-03</td>\n",
       "      <td>36879</td>\n",
       "      <td>2711168</td>\n",
       "      <td>0.013603</td>\n",
       "    </tr>\n",
       "    <tr>\n",
       "      <th>3</th>\n",
       "      <td>Canada</td>\n",
       "      <td>2020-03-04</td>\n",
       "      <td>39812</td>\n",
       "      <td>2711168</td>\n",
       "      <td>0.014684</td>\n",
       "    </tr>\n",
       "    <tr>\n",
       "      <th>4</th>\n",
       "      <td>Canada</td>\n",
       "      <td>2020-03-05</td>\n",
       "      <td>38378</td>\n",
       "      <td>2711168</td>\n",
       "      <td>0.014156</td>\n",
       "    </tr>\n",
       "  </tbody>\n",
       "</table>\n",
       "</div>"
      ],
      "text/plain": [
       "  account         day  tweet    total    weight\n",
       "0  Canada  2020-03-01  30429  2711168  0.011224\n",
       "1  Canada  2020-03-02  34689  2711168  0.012795\n",
       "2  Canada  2020-03-03  36879  2711168  0.013603\n",
       "3  Canada  2020-03-04  39812  2711168  0.014684\n",
       "4  Canada  2020-03-05  38378  2711168  0.014156"
      ]
     },
     "execution_count": 20,
     "metadata": {},
     "output_type": "execute_result"
    }
   ],
   "source": [
    "# wrangling data\n",
    "source = df_tot.groupby(['account', 'day'])['tweet'].count().reset_index()\n",
    "aux_tot = df_tot.groupby(['account'])['tweet'].count().reset_index().rename(columns = {'tweet': 'total'})\n",
    "\n",
    "# auxiliar dataframe\n",
    "df_aux = pd.merge(source, aux_tot, on='account', how='left')\n",
    "df_aux['weight'] = df_aux['tweet']/df_aux['total']\n",
    "df_aux.head()"
   ]
  },
  {
   "cell_type": "code",
   "execution_count": 28,
   "metadata": {},
   "outputs": [
    {
     "data": {
      "application/vnd.vegalite.v4+json": {
       "$schema": "https://vega.github.io/schema/vega-lite/v4.8.1.json",
       "config": {
        "view": {
         "continuousHeight": 300,
         "continuousWidth": 400
        }
       },
       "data": {
        "name": "data-0e557b63be2110172bcc556738f0a725"
       },
       "datasets": {
        "data-0e557b63be2110172bcc556738f0a725": [
         {
          "account": "Canada",
          "day": "2020-03-01",
          "total": 2711168,
          "tweet": 30429,
          "weight": 0.011223575964307635
         },
         {
          "account": "Canada",
          "day": "2020-03-02",
          "total": 2711168,
          "tweet": 34689,
          "weight": 0.012794854468627544
         },
         {
          "account": "Canada",
          "day": "2020-03-03",
          "total": 2711168,
          "tweet": 36879,
          "weight": 0.013602624403946934
         },
         {
          "account": "Canada",
          "day": "2020-03-04",
          "total": 2711168,
          "tweet": 39812,
          "weight": 0.014684445965723998
         },
         {
          "account": "Canada",
          "day": "2020-03-05",
          "total": 2711168,
          "tweet": 38378,
          "weight": 0.014155522638213493
         },
         {
          "account": "Canada",
          "day": "2020-03-06",
          "total": 2711168,
          "tweet": 38261,
          "weight": 0.014112367806052595
         },
         {
          "account": "Canada",
          "day": "2020-03-07",
          "total": 2711168,
          "tweet": 29992,
          "weight": 0.01106239082196308
         },
         {
          "account": "Canada",
          "day": "2020-03-08",
          "total": 2711168,
          "tweet": 29162,
          "weight": 0.010756249704924224
         },
         {
          "account": "Canada",
          "day": "2020-03-09",
          "total": 2711168,
          "tweet": 36848,
          "weight": 0.013591190217647892
         },
         {
          "account": "Canada",
          "day": "2020-03-10",
          "total": 2711168,
          "tweet": 38821,
          "weight": 0.01431892084887399
         },
         {
          "account": "Canada",
          "day": "2020-03-11",
          "total": 2711168,
          "tweet": 40261,
          "weight": 0.014850057244700439
         },
         {
          "account": "Canada",
          "day": "2020-03-12",
          "total": 2711168,
          "tweet": 51318,
          "weight": 0.01892837330626505
         },
         {
          "account": "Canada",
          "day": "2020-03-13",
          "total": 2711168,
          "tweet": 62186,
          "weight": 0.022936977715877438
         },
         {
          "account": "Canada",
          "day": "2020-03-14",
          "total": 2711168,
          "tweet": 47167,
          "weight": 0.01739729887635145
         },
         {
          "account": "Canada",
          "day": "2020-03-15",
          "total": 2711168,
          "tweet": 44111,
          "weight": 0.01627010941409754
         },
         {
          "account": "Canada",
          "day": "2020-03-16",
          "total": 2711168,
          "tweet": 61410,
          "weight": 0.022650754213682074
         },
         {
          "account": "Canada",
          "day": "2020-03-17",
          "total": 2711168,
          "tweet": 49782,
          "weight": 0.018361827817383505
         },
         {
          "account": "Canada",
          "day": "2020-03-18",
          "total": 2711168,
          "tweet": 62388,
          "weight": 0.02301148434918087
         },
         {
          "account": "Canada",
          "day": "2020-03-19",
          "total": 2711168,
          "tweet": 49162,
          "weight": 0.01813314409140267
         },
         {
          "account": "Canada",
          "day": "2020-03-20",
          "total": 2711168,
          "tweet": 52218,
          "weight": 0.01926033355365658
         },
         {
          "account": "Canada",
          "day": "2020-03-21",
          "total": 2711168,
          "tweet": 42651,
          "weight": 0.015731596123884615
         },
         {
          "account": "Canada",
          "day": "2020-03-22",
          "total": 2711168,
          "tweet": 40552,
          "weight": 0.0149573910580237
         },
         {
          "account": "Canada",
          "day": "2020-03-23",
          "total": 2711168,
          "tweet": 57727,
          "weight": 0.021292299112412066
         },
         {
          "account": "Canada",
          "day": "2020-03-24",
          "total": 2711168,
          "tweet": 48550,
          "weight": 0.017907411123176432
         },
         {
          "account": "Canada",
          "day": "2020-03-25",
          "total": 2711168,
          "tweet": 51966,
          "weight": 0.01916738468438695
         },
         {
          "account": "Canada",
          "day": "2020-03-26",
          "total": 2711168,
          "tweet": 58306,
          "weight": 0.02150586020490062
         },
         {
          "account": "Canada",
          "day": "2020-03-27",
          "total": 2711168,
          "tweet": 56972,
          "weight": 0.021013821349322507
         },
         {
          "account": "Canada",
          "day": "2020-03-28",
          "total": 2711168,
          "tweet": 43101,
          "weight": 0.01589757624758038
         },
         {
          "account": "Canada",
          "day": "2020-03-29",
          "total": 2711168,
          "tweet": 42633,
          "weight": 0.015724956918936783
         },
         {
          "account": "Canada",
          "day": "2020-03-30",
          "total": 2711168,
          "tweet": 44248,
          "weight": 0.016320641140644916
         },
         {
          "account": "Canada",
          "day": "2020-03-31",
          "total": 2711168,
          "tweet": 47400,
          "weight": 0.01748323969595392
         },
         {
          "account": "Canada",
          "day": "2020-04-01",
          "total": 2711168,
          "tweet": 44880,
          "weight": 0.016553751003257636
         },
         {
          "account": "Canada",
          "day": "2020-04-02",
          "total": 2711168,
          "tweet": 47034,
          "weight": 0.017348242528681366
         },
         {
          "account": "Canada",
          "day": "2020-04-03",
          "total": 2711168,
          "tweet": 58112,
          "weight": 0.021434304329351776
         },
         {
          "account": "Canada",
          "day": "2020-04-04",
          "total": 2711168,
          "tweet": 53487,
          "weight": 0.019728397502478637
         },
         {
          "account": "Canada",
          "day": "2020-04-05",
          "total": 2711168,
          "tweet": 45404,
          "weight": 0.016747025636183372
         },
         {
          "account": "Canada",
          "day": "2020-04-06",
          "total": 2711168,
          "tweet": 47186,
          "weight": 0.0174043069260186
         },
         {
          "account": "Canada",
          "day": "2020-04-07",
          "total": 2711168,
          "tweet": 45285,
          "weight": 0.016703133114583824
         },
         {
          "account": "Canada",
          "day": "2020-04-08",
          "total": 2711168,
          "tweet": 46561,
          "weight": 0.01717377897644115
         },
         {
          "account": "Canada",
          "day": "2020-04-09",
          "total": 2711168,
          "tweet": 45205,
          "weight": 0.01667362553703791
         },
         {
          "account": "Canada",
          "day": "2020-04-10",
          "total": 2711168,
          "tweet": 41587,
          "weight": 0.01533914534252396
         },
         {
          "account": "Canada",
          "day": "2020-04-11",
          "total": 2711168,
          "tweet": 39495,
          "weight": 0.014567522189698314
         },
         {
          "account": "Canada",
          "day": "2020-04-12",
          "total": 2711168,
          "tweet": 34709,
          "weight": 0.012802231363014022
         },
         {
          "account": "Canada",
          "day": "2020-04-13",
          "total": 2711168,
          "tweet": 39327,
          "weight": 0.014505556276851895
         },
         {
          "account": "Canada",
          "day": "2020-04-14",
          "total": 2711168,
          "tweet": 42130,
          "weight": 0.01553942802511685
         },
         {
          "account": "Canada",
          "day": "2020-04-15",
          "total": 2711168,
          "tweet": 46216,
          "weight": 0.017046527548274397
         },
         {
          "account": "Canada",
          "day": "2020-04-16",
          "total": 2711168,
          "tweet": 46446,
          "weight": 0.0171313618337189
         },
         {
          "account": "Canada",
          "day": "2020-04-17",
          "total": 2711168,
          "tweet": 45727,
          "weight": 0.016866162480525
         },
         {
          "account": "Canada",
          "day": "2020-04-18",
          "total": 2711168,
          "tweet": 41058,
          "weight": 0.015144026486001605
         },
         {
          "account": "Canada",
          "day": "2020-04-19",
          "total": 2711168,
          "tweet": 41066,
          "weight": 0.015146977243756196
         },
         {
          "account": "Canada",
          "day": "2020-04-20",
          "total": 2711168,
          "tweet": 55672,
          "weight": 0.020534323214201407
         },
         {
          "account": "Canada",
          "day": "2020-04-21",
          "total": 2711168,
          "tweet": 46077,
          "weight": 0.01699525813228837
         },
         {
          "account": "Canada",
          "day": "2020-04-22",
          "total": 2711168,
          "tweet": 44670,
          "weight": 0.016476293612199613
         },
         {
          "account": "Canada",
          "day": "2020-04-23",
          "total": 2711168,
          "tweet": 43982,
          "weight": 0.016222528445304755
         },
         {
          "account": "Canada",
          "day": "2020-04-24",
          "total": 2711168,
          "tweet": 42381,
          "weight": 0.015632008049667155
         },
         {
          "account": "Canada",
          "day": "2020-04-25",
          "total": 2711168,
          "tweet": 34686,
          "weight": 0.012793747934469572
         },
         {
          "account": "Canada",
          "day": "2020-04-26",
          "total": 2711168,
          "tweet": 32171,
          "weight": 0.011866103465369907
         },
         {
          "account": "Canada",
          "day": "2020-04-27",
          "total": 2711168,
          "tweet": 36806,
          "weight": 0.013575698739436287
         },
         {
          "account": "Canada",
          "day": "2020-04-28",
          "total": 2711168,
          "tweet": 38449,
          "weight": 0.014181710613285492
         },
         {
          "account": "Canada",
          "day": "2020-04-29",
          "total": 2711168,
          "tweet": 38479,
          "weight": 0.014192775954865209
         },
         {
          "account": "Canada",
          "day": "2020-04-30",
          "total": 2711168,
          "tweet": 39500,
          "weight": 0.014569366413294935
         },
         {
          "account": "CanadianPM",
          "day": "2020-03-01",
          "total": 35495,
          "tweet": 158,
          "weight": 0.004451331173404705
         },
         {
          "account": "CanadianPM",
          "day": "2020-03-02",
          "total": 35495,
          "tweet": 189,
          "weight": 0.005324693618819552
         },
         {
          "account": "CanadianPM",
          "day": "2020-03-03",
          "total": 35495,
          "tweet": 219,
          "weight": 0.0061698830821242424
         },
         {
          "account": "CanadianPM",
          "day": "2020-03-04",
          "total": 35495,
          "tweet": 248,
          "weight": 0.0069868995633187774
         },
         {
          "account": "CanadianPM",
          "day": "2020-03-05",
          "total": 35495,
          "tweet": 296,
          "weight": 0.008339202704606282
         },
         {
          "account": "CanadianPM",
          "day": "2020-03-06",
          "total": 35495,
          "tweet": 189,
          "weight": 0.005324693618819552
         },
         {
          "account": "CanadianPM",
          "day": "2020-03-07",
          "total": 35495,
          "tweet": 149,
          "weight": 0.004197774334413298
         },
         {
          "account": "CanadianPM",
          "day": "2020-03-08",
          "total": 35495,
          "tweet": 131,
          "weight": 0.003690660656430483
         },
         {
          "account": "CanadianPM",
          "day": "2020-03-09",
          "total": 35495,
          "tweet": 261,
          "weight": 0.00735314833075081
         },
         {
          "account": "CanadianPM",
          "day": "2020-03-10",
          "total": 35495,
          "tweet": 171,
          "weight": 0.004817579940836737
         },
         {
          "account": "CanadianPM",
          "day": "2020-03-11",
          "total": 35495,
          "tweet": 264,
          "weight": 0.007437667277081279
         },
         {
          "account": "CanadianPM",
          "day": "2020-03-12",
          "total": 35495,
          "tweet": 632,
          "weight": 0.01780532469361882
         },
         {
          "account": "CanadianPM",
          "day": "2020-03-13",
          "total": 35495,
          "tweet": 493,
          "weight": 0.013889280180307086
         },
         {
          "account": "CanadianPM",
          "day": "2020-03-14",
          "total": 35495,
          "tweet": 645,
          "weight": 0.018171573461050854
         },
         {
          "account": "CanadianPM",
          "day": "2020-03-15",
          "total": 35495,
          "tweet": 672,
          "weight": 0.018932243978025075
         },
         {
          "account": "CanadianPM",
          "day": "2020-03-16",
          "total": 35495,
          "tweet": 895,
          "weight": 0.025214818988589943
         },
         {
          "account": "CanadianPM",
          "day": "2020-03-17",
          "total": 35495,
          "tweet": 1137,
          "weight": 0.03203268065924778
         },
         {
          "account": "CanadianPM",
          "day": "2020-03-18",
          "total": 35495,
          "tweet": 1029,
          "weight": 0.028989998591350895
         },
         {
          "account": "CanadianPM",
          "day": "2020-03-19",
          "total": 35495,
          "tweet": 705,
          "weight": 0.019861952387660232
         },
         {
          "account": "CanadianPM",
          "day": "2020-03-20",
          "total": 35495,
          "tweet": 585,
          "weight": 0.01648119453444147
         },
         {
          "account": "CanadianPM",
          "day": "2020-03-21",
          "total": 35495,
          "tweet": 614,
          "weight": 0.017298211015636004
         },
         {
          "account": "CanadianPM",
          "day": "2020-03-22",
          "total": 35495,
          "tweet": 954,
          "weight": 0.026877024933089168
         },
         {
          "account": "CanadianPM",
          "day": "2020-03-23",
          "total": 35495,
          "tweet": 825,
          "weight": 0.023242710240878997
         },
         {
          "account": "CanadianPM",
          "day": "2020-03-24",
          "total": 35495,
          "tweet": 777,
          "weight": 0.021890407099591492
         },
         {
          "account": "CanadianPM",
          "day": "2020-03-25",
          "total": 35495,
          "tweet": 887,
          "weight": 0.02498943513170869
         },
         {
          "account": "CanadianPM",
          "day": "2020-03-26",
          "total": 35495,
          "tweet": 1207,
          "weight": 0.034004789406958724
         },
         {
          "account": "CanadianPM",
          "day": "2020-03-27",
          "total": 35495,
          "tweet": 687,
          "weight": 0.01935483870967742
         },
         {
          "account": "CanadianPM",
          "day": "2020-03-28",
          "total": 35495,
          "tweet": 819,
          "weight": 0.02307367234821806
         },
         {
          "account": "CanadianPM",
          "day": "2020-03-29",
          "total": 35495,
          "tweet": 910,
          "weight": 0.025637413720242287
         },
         {
          "account": "CanadianPM",
          "day": "2020-03-30",
          "total": 35495,
          "tweet": 615,
          "weight": 0.01732638399774616
         },
         {
          "account": "CanadianPM",
          "day": "2020-03-31",
          "total": 35495,
          "tweet": 579,
          "weight": 0.016312156641780533
         },
         {
          "account": "CanadianPM",
          "day": "2020-04-01",
          "total": 35495,
          "tweet": 531,
          "weight": 0.014959853500493028
         },
         {
          "account": "CanadianPM",
          "day": "2020-04-02",
          "total": 35495,
          "tweet": 739,
          "weight": 0.02081983377940555
         },
         {
          "account": "CanadianPM",
          "day": "2020-04-03",
          "total": 35495,
          "tweet": 661,
          "weight": 0.018622341174813355
         },
         {
          "account": "CanadianPM",
          "day": "2020-04-04",
          "total": 35495,
          "tweet": 604,
          "weight": 0.01701648119453444
         },
         {
          "account": "CanadianPM",
          "day": "2020-04-05",
          "total": 35495,
          "tweet": 947,
          "weight": 0.026679814058318072
         },
         {
          "account": "CanadianPM",
          "day": "2020-04-06",
          "total": 35495,
          "tweet": 852,
          "weight": 0.02400338075785322
         },
         {
          "account": "CanadianPM",
          "day": "2020-04-07",
          "total": 35495,
          "tweet": 637,
          "weight": 0.0179461896041696
         },
         {
          "account": "CanadianPM",
          "day": "2020-04-08",
          "total": 35495,
          "tweet": 588,
          "weight": 0.01656571348077194
         },
         {
          "account": "CanadianPM",
          "day": "2020-04-09",
          "total": 35495,
          "tweet": 591,
          "weight": 0.01665023242710241
         },
         {
          "account": "CanadianPM",
          "day": "2020-04-10",
          "total": 35495,
          "tweet": 600,
          "weight": 0.016903789266093816
         },
         {
          "account": "CanadianPM",
          "day": "2020-04-11",
          "total": 35495,
          "tweet": 438,
          "weight": 0.012339766164248485
         },
         {
          "account": "CanadianPM",
          "day": "2020-04-12",
          "total": 35495,
          "tweet": 386,
          "weight": 0.010874771094520355
         },
         {
          "account": "CanadianPM",
          "day": "2020-04-13",
          "total": 35495,
          "tweet": 386,
          "weight": 0.010874771094520355
         },
         {
          "account": "CanadianPM",
          "day": "2020-04-14",
          "total": 35495,
          "tweet": 407,
          "weight": 0.011466403718833638
         },
         {
          "account": "CanadianPM",
          "day": "2020-04-15",
          "total": 35495,
          "tweet": 576,
          "weight": 0.016227637695450062
         },
         {
          "account": "CanadianPM",
          "day": "2020-04-16",
          "total": 35495,
          "tweet": 877,
          "weight": 0.024707705310607127
         },
         {
          "account": "CanadianPM",
          "day": "2020-04-17",
          "total": 35495,
          "tweet": 563,
          "weight": 0.01586138892801803
         },
         {
          "account": "CanadianPM",
          "day": "2020-04-18",
          "total": 35495,
          "tweet": 440,
          "weight": 0.012396112128468799
         },
         {
          "account": "CanadianPM",
          "day": "2020-04-19",
          "total": 35495,
          "tweet": 508,
          "weight": 0.01431187491195943
         },
         {
          "account": "CanadianPM",
          "day": "2020-04-20",
          "total": 35495,
          "tweet": 410,
          "weight": 0.011550922665164108
         },
         {
          "account": "CanadianPM",
          "day": "2020-04-21",
          "total": 35495,
          "tweet": 853,
          "weight": 0.024031553739963376
         },
         {
          "account": "CanadianPM",
          "day": "2020-04-22",
          "total": 35495,
          "tweet": 1079,
          "weight": 0.030398647696858714
         },
         {
          "account": "CanadianPM",
          "day": "2020-04-23",
          "total": 35495,
          "tweet": 652,
          "weight": 0.018368784335821946
         },
         {
          "account": "CanadianPM",
          "day": "2020-04-24",
          "total": 35495,
          "tweet": 750,
          "weight": 0.02112973658261727
         },
         {
          "account": "CanadianPM",
          "day": "2020-04-25",
          "total": 35495,
          "tweet": 393,
          "weight": 0.011071981969291449
         },
         {
          "account": "CanadianPM",
          "day": "2020-04-26",
          "total": 35495,
          "tweet": 394,
          "weight": 0.011100154951401606
         },
         {
          "account": "CanadianPM",
          "day": "2020-04-27",
          "total": 35495,
          "tweet": 434,
          "weight": 0.01222707423580786
         },
         {
          "account": "CanadianPM",
          "day": "2020-04-28",
          "total": 35495,
          "tweet": 533,
          "weight": 0.01501619946471334
         },
         {
          "account": "CanadianPM",
          "day": "2020-04-29",
          "total": 35495,
          "tweet": 362,
          "weight": 0.010198619523876603
         },
         {
          "account": "CanadianPM",
          "day": "2020-04-30",
          "total": 35495,
          "tweet": 362,
          "weight": 0.010198619523876603
         },
         {
          "account": "GovCanHealth",
          "day": "2020-03-01",
          "total": 24549,
          "tweet": 157,
          "weight": 0.006395372520265591
         },
         {
          "account": "GovCanHealth",
          "day": "2020-03-02",
          "total": 24549,
          "tweet": 220,
          "weight": 0.008961668499735223
         },
         {
          "account": "GovCanHealth",
          "day": "2020-03-03",
          "total": 24549,
          "tweet": 215,
          "weight": 0.008757994215650333
         },
         {
          "account": "GovCanHealth",
          "day": "2020-03-04",
          "total": 24549,
          "tweet": 216,
          "weight": 0.00879872907246731
         },
         {
          "account": "GovCanHealth",
          "day": "2020-03-05",
          "total": 24549,
          "tweet": 219,
          "weight": 0.008920933642918245
         },
         {
          "account": "GovCanHealth",
          "day": "2020-03-06",
          "total": 24549,
          "tweet": 205,
          "weight": 0.008350645647480549
         },
         {
          "account": "GovCanHealth",
          "day": "2020-03-07",
          "total": 24549,
          "tweet": 133,
          "weight": 0.005417735956658112
         },
         {
          "account": "GovCanHealth",
          "day": "2020-03-08",
          "total": 24549,
          "tweet": 135,
          "weight": 0.005499205670292069
         },
         {
          "account": "GovCanHealth",
          "day": "2020-03-09",
          "total": 24549,
          "tweet": 257,
          "weight": 0.01046885820196342
         },
         {
          "account": "GovCanHealth",
          "day": "2020-03-10",
          "total": 24549,
          "tweet": 297,
          "weight": 0.012098252474642551
         },
         {
          "account": "GovCanHealth",
          "day": "2020-03-11",
          "total": 24549,
          "tweet": 811,
          "weight": 0.03303596887856939
         },
         {
          "account": "GovCanHealth",
          "day": "2020-03-12",
          "total": 24549,
          "tweet": 532,
          "weight": 0.021670943826632448
         },
         {
          "account": "GovCanHealth",
          "day": "2020-03-13",
          "total": 24549,
          "tweet": 733,
          "weight": 0.029858650046845084
         },
         {
          "account": "GovCanHealth",
          "day": "2020-03-14",
          "total": 24549,
          "tweet": 470,
          "weight": 0.019145382703979797
         },
         {
          "account": "GovCanHealth",
          "day": "2020-03-15",
          "total": 24549,
          "tweet": 1188,
          "weight": 0.048393009898570205
         },
         {
          "account": "GovCanHealth",
          "day": "2020-03-16",
          "total": 24549,
          "tweet": 1015,
          "weight": 0.04134587966923296
         },
         {
          "account": "GovCanHealth",
          "day": "2020-03-17",
          "total": 24549,
          "tweet": 854,
          "weight": 0.034787567721699456
         },
         {
          "account": "GovCanHealth",
          "day": "2020-03-18",
          "total": 24549,
          "tweet": 625,
          "weight": 0.02545928551061143
         },
         {
          "account": "GovCanHealth",
          "day": "2020-03-19",
          "total": 24549,
          "tweet": 679,
          "weight": 0.02765896777872826
         },
         {
          "account": "GovCanHealth",
          "day": "2020-03-20",
          "total": 24549,
          "tweet": 880,
          "weight": 0.03584667399894089
         },
         {
          "account": "GovCanHealth",
          "day": "2020-03-21",
          "total": 24549,
          "tweet": 615,
          "weight": 0.025051936942441646
         },
         {
          "account": "GovCanHealth",
          "day": "2020-03-22",
          "total": 24549,
          "tweet": 743,
          "weight": 0.030265998615014868
         },
         {
          "account": "GovCanHealth",
          "day": "2020-03-23",
          "total": 24549,
          "tweet": 724,
          "weight": 0.02949203633549228
         },
         {
          "account": "GovCanHealth",
          "day": "2020-03-24",
          "total": 24549,
          "tweet": 540,
          "weight": 0.021996822681168277
         },
         {
          "account": "GovCanHealth",
          "day": "2020-03-25",
          "total": 24549,
          "tweet": 523,
          "weight": 0.021304330115279643
         },
         {
          "account": "GovCanHealth",
          "day": "2020-03-26",
          "total": 24549,
          "tweet": 498,
          "weight": 0.020285958694855187
         },
         {
          "account": "GovCanHealth",
          "day": "2020-03-27",
          "total": 24549,
          "tweet": 534,
          "weight": 0.021752413540266406
         },
         {
          "account": "GovCanHealth",
          "day": "2020-03-28",
          "total": 24549,
          "tweet": 502,
          "weight": 0.0204488981221231
         },
         {
          "account": "GovCanHealth",
          "day": "2020-03-29",
          "total": 24549,
          "tweet": 388,
          "weight": 0.015805124444987575
         },
         {
          "account": "GovCanHealth",
          "day": "2020-03-30",
          "total": 24549,
          "tweet": 462,
          "weight": 0.018819503849443968
         },
         {
          "account": "GovCanHealth",
          "day": "2020-03-31",
          "total": 24549,
          "tweet": 453,
          "weight": 0.018452890138091163
         },
         {
          "account": "GovCanHealth",
          "day": "2020-04-01",
          "total": 24549,
          "tweet": 328,
          "weight": 0.013361033035968879
         },
         {
          "account": "GovCanHealth",
          "day": "2020-04-02",
          "total": 24549,
          "tweet": 377,
          "weight": 0.015357041020000815
         },
         {
          "account": "GovCanHealth",
          "day": "2020-04-03",
          "total": 24549,
          "tweet": 402,
          "weight": 0.01637541244042527
         },
         {
          "account": "GovCanHealth",
          "day": "2020-04-04",
          "total": 24549,
          "tweet": 255,
          "weight": 0.010387388488329463
         },
         {
          "account": "GovCanHealth",
          "day": "2020-04-05",
          "total": 24549,
          "tweet": 320,
          "weight": 0.013035154181433053
         },
         {
          "account": "GovCanHealth",
          "day": "2020-04-06",
          "total": 24549,
          "tweet": 366,
          "weight": 0.014908957595014054
         },
         {
          "account": "GovCanHealth",
          "day": "2020-04-07",
          "total": 24549,
          "tweet": 277,
          "weight": 0.011283555338302985
         },
         {
          "account": "GovCanHealth",
          "day": "2020-04-08",
          "total": 24549,
          "tweet": 342,
          "weight": 0.013931321031406575
         },
         {
          "account": "GovCanHealth",
          "day": "2020-04-09",
          "total": 24549,
          "tweet": 373,
          "weight": 0.0151941015927329
         },
         {
          "account": "GovCanHealth",
          "day": "2020-04-10",
          "total": 24549,
          "tweet": 355,
          "weight": 0.014460874170027293
         },
         {
          "account": "GovCanHealth",
          "day": "2020-04-11",
          "total": 24549,
          "tweet": 220,
          "weight": 0.008961668499735223
         },
         {
          "account": "GovCanHealth",
          "day": "2020-04-12",
          "total": 24549,
          "tweet": 133,
          "weight": 0.005417735956658112
         },
         {
          "account": "GovCanHealth",
          "day": "2020-04-13",
          "total": 24549,
          "tweet": 247,
          "weight": 0.010061509633793637
         },
         {
          "account": "GovCanHealth",
          "day": "2020-04-14",
          "total": 24549,
          "tweet": 356,
          "weight": 0.01450160902684427
         },
         {
          "account": "GovCanHealth",
          "day": "2020-04-15",
          "total": 24549,
          "tweet": 555,
          "weight": 0.02260784553342295
         },
         {
          "account": "GovCanHealth",
          "day": "2020-04-16",
          "total": 24549,
          "tweet": 397,
          "weight": 0.01617173815634038
         },
         {
          "account": "GovCanHealth",
          "day": "2020-04-17",
          "total": 24549,
          "tweet": 335,
          "weight": 0.013646177033687727
         },
         {
          "account": "GovCanHealth",
          "day": "2020-04-18",
          "total": 24549,
          "tweet": 203,
          "weight": 0.008269175933846592
         },
         {
          "account": "GovCanHealth",
          "day": "2020-04-19",
          "total": 24549,
          "tweet": 203,
          "weight": 0.008269175933846592
         },
         {
          "account": "GovCanHealth",
          "day": "2020-04-20",
          "total": 24549,
          "tweet": 251,
          "weight": 0.01022444906106155
         },
         {
          "account": "GovCanHealth",
          "day": "2020-04-21",
          "total": 24549,
          "tweet": 188,
          "weight": 0.007658153081591918
         },
         {
          "account": "GovCanHealth",
          "day": "2020-04-22",
          "total": 24549,
          "tweet": 199,
          "weight": 0.00810623650657868
         },
         {
          "account": "GovCanHealth",
          "day": "2020-04-23",
          "total": 24549,
          "tweet": 294,
          "weight": 0.011976047904191617
         },
         {
          "account": "GovCanHealth",
          "day": "2020-04-24",
          "total": 24549,
          "tweet": 159,
          "weight": 0.006476842233899548
         },
         {
          "account": "GovCanHealth",
          "day": "2020-04-25",
          "total": 24549,
          "tweet": 105,
          "weight": 0.00427715996578272
         },
         {
          "account": "GovCanHealth",
          "day": "2020-04-26",
          "total": 24549,
          "tweet": 169,
          "weight": 0.00688419080206933
         },
         {
          "account": "GovCanHealth",
          "day": "2020-04-27",
          "total": 24549,
          "tweet": 357,
          "weight": 0.01454234388366125
         },
         {
          "account": "GovCanHealth",
          "day": "2020-04-28",
          "total": 24549,
          "tweet": 374,
          "weight": 0.01523483644954988
         },
         {
          "account": "GovCanHealth",
          "day": "2020-04-29",
          "total": 24549,
          "tweet": 261,
          "weight": 0.010631797629231334
         },
         {
          "account": "GovCanHealth",
          "day": "2020-04-30",
          "total": 24549,
          "tweet": 325,
          "weight": 0.013238828465517943
         },
         {
          "account": "JustinTrudeau",
          "day": "2020-03-01",
          "total": 732663,
          "tweet": 4556,
          "weight": 0.006218411466117437
         },
         {
          "account": "JustinTrudeau",
          "day": "2020-03-02",
          "total": 732663,
          "tweet": 3818,
          "weight": 0.0052111270802538134
         },
         {
          "account": "JustinTrudeau",
          "day": "2020-03-03",
          "total": 732663,
          "tweet": 4881,
          "weight": 0.006661998763415103
         },
         {
          "account": "JustinTrudeau",
          "day": "2020-03-04",
          "total": 732663,
          "tweet": 5766,
          "weight": 0.00786992109605644
         },
         {
          "account": "JustinTrudeau",
          "day": "2020-03-05",
          "total": 732663,
          "tweet": 5350,
          "weight": 0.007302129355515428
         },
         {
          "account": "JustinTrudeau",
          "day": "2020-03-06",
          "total": 732663,
          "tweet": 5506,
          "weight": 0.007515051258218308
         },
         {
          "account": "JustinTrudeau",
          "day": "2020-03-07",
          "total": 732663,
          "tweet": 3558,
          "weight": 0.0048562572424156805
         },
         {
          "account": "JustinTrudeau",
          "day": "2020-03-08",
          "total": 732663,
          "tweet": 4883,
          "weight": 0.006664728531398474
         },
         {
          "account": "JustinTrudeau",
          "day": "2020-03-09",
          "total": 732663,
          "tweet": 6156,
          "weight": 0.00840222585281364
         },
         {
          "account": "JustinTrudeau",
          "day": "2020-03-10",
          "total": 732663,
          "tweet": 5862,
          "weight": 0.008000949959258213
         },
         {
          "account": "JustinTrudeau",
          "day": "2020-03-11",
          "total": 732663,
          "tweet": 7046,
          "weight": 0.009616972605413403
         },
         {
          "account": "JustinTrudeau",
          "day": "2020-03-12",
          "total": 732663,
          "tweet": 16955,
          "weight": 0.023141608079021325
         },
         {
          "account": "JustinTrudeau",
          "day": "2020-03-13",
          "total": 732663,
          "tweet": 29712,
          "weight": 0.040553433160948484
         },
         {
          "account": "JustinTrudeau",
          "day": "2020-03-14",
          "total": 732663,
          "tweet": 18482,
          "weight": 0.02522578593432451
         },
         {
          "account": "JustinTrudeau",
          "day": "2020-03-15",
          "total": 732663,
          "tweet": 17140,
          "weight": 0.02339411161748307
         },
         {
          "account": "JustinTrudeau",
          "day": "2020-03-16",
          "total": 732663,
          "tweet": 25094,
          "weight": 0.03425039888734657
         },
         {
          "account": "JustinTrudeau",
          "day": "2020-03-17",
          "total": 732663,
          "tweet": 18088,
          "weight": 0.024688021641600572
         },
         {
          "account": "JustinTrudeau",
          "day": "2020-03-18",
          "total": 732663,
          "tweet": 16916,
          "weight": 0.023088377603345603
         },
         {
          "account": "JustinTrudeau",
          "day": "2020-03-19",
          "total": 732663,
          "tweet": 15719,
          "weight": 0.021454611465298506
         },
         {
          "account": "JustinTrudeau",
          "day": "2020-03-20",
          "total": 732663,
          "tweet": 17221,
          "weight": 0.02350466722080957
         },
         {
          "account": "JustinTrudeau",
          "day": "2020-03-21",
          "total": 732663,
          "tweet": 15052,
          "weight": 0.02054423384284453
         },
         {
          "account": "JustinTrudeau",
          "day": "2020-03-22",
          "total": 732663,
          "tweet": 15811,
          "weight": 0.02158018079253354
         },
         {
          "account": "JustinTrudeau",
          "day": "2020-03-23",
          "total": 732663,
          "tweet": 17472,
          "weight": 0.023847253102722534
         },
         {
          "account": "JustinTrudeau",
          "day": "2020-03-24",
          "total": 732663,
          "tweet": 23213,
          "weight": 0.03168305209898685
         },
         {
          "account": "JustinTrudeau",
          "day": "2020-03-25",
          "total": 732663,
          "tweet": 19716,
          "weight": 0.026910052780063958
         },
         {
          "account": "JustinTrudeau",
          "day": "2020-03-26",
          "total": 732663,
          "tweet": 15585,
          "weight": 0.0212717170104127
         },
         {
          "account": "JustinTrudeau",
          "day": "2020-03-27",
          "total": 732663,
          "tweet": 15225,
          "weight": 0.020780358773406053
         },
         {
          "account": "JustinTrudeau",
          "day": "2020-03-28",
          "total": 732663,
          "tweet": 12925,
          "weight": 0.01764112559253026
         },
         {
          "account": "JustinTrudeau",
          "day": "2020-03-29",
          "total": 732663,
          "tweet": 15729,
          "weight": 0.02146826030521536
         },
         {
          "account": "JustinTrudeau",
          "day": "2020-03-30",
          "total": 732663,
          "tweet": 12984,
          "weight": 0.017721653748039686
         },
         {
          "account": "JustinTrudeau",
          "day": "2020-03-31",
          "total": 732663,
          "tweet": 14578,
          "weight": 0.019897278830785778
         },
         {
          "account": "JustinTrudeau",
          "day": "2020-04-01",
          "total": 732663,
          "tweet": 13996,
          "weight": 0.019102916347625034
         },
         {
          "account": "JustinTrudeau",
          "day": "2020-04-02",
          "total": 732663,
          "tweet": 13335,
          "weight": 0.018200728029121163
         },
         {
          "account": "JustinTrudeau",
          "day": "2020-04-03",
          "total": 732663,
          "tweet": 13829,
          "weight": 0.018874980721013616
         },
         {
          "account": "JustinTrudeau",
          "day": "2020-04-04",
          "total": 732663,
          "tweet": 11413,
          "weight": 0.015577420997102352
         },
         {
          "account": "JustinTrudeau",
          "day": "2020-04-05",
          "total": 732663,
          "tweet": 10827,
          "weight": 0.014777598977974867
         },
         {
          "account": "JustinTrudeau",
          "day": "2020-04-06",
          "total": 732663,
          "tweet": 12439,
          "weight": 0.01697779197257129
         },
         {
          "account": "JustinTrudeau",
          "day": "2020-04-07",
          "total": 732663,
          "tweet": 12681,
          "weight": 0.017308093898559092
         },
         {
          "account": "JustinTrudeau",
          "day": "2020-04-08",
          "total": 732663,
          "tweet": 11142,
          "weight": 0.015207537435355682
         },
         {
          "account": "JustinTrudeau",
          "day": "2020-04-09",
          "total": 732663,
          "tweet": 10326,
          "weight": 0.014093792098140618
         },
         {
          "account": "JustinTrudeau",
          "day": "2020-04-10",
          "total": 732663,
          "tweet": 11424,
          "weight": 0.015592434721010887
         },
         {
          "account": "JustinTrudeau",
          "day": "2020-04-11",
          "total": 732663,
          "tweet": 8958,
          "weight": 0.012226630797515365
         },
         {
          "account": "JustinTrudeau",
          "day": "2020-04-12",
          "total": 732663,
          "tweet": 8036,
          "weight": 0.010968207757181679
         },
         {
          "account": "JustinTrudeau",
          "day": "2020-04-13",
          "total": 732663,
          "tweet": 11774,
          "weight": 0.016070144118100683
         },
         {
          "account": "JustinTrudeau",
          "day": "2020-04-14",
          "total": 732663,
          "tweet": 12337,
          "weight": 0.016838573805419407
         },
         {
          "account": "JustinTrudeau",
          "day": "2020-04-15",
          "total": 732663,
          "tweet": 12976,
          "weight": 0.017710734676106205
         },
         {
          "account": "JustinTrudeau",
          "day": "2020-04-16",
          "total": 732663,
          "tweet": 10971,
          "weight": 0.014974142272777526
         },
         {
          "account": "JustinTrudeau",
          "day": "2020-04-17",
          "total": 732663,
          "tweet": 11347,
          "weight": 0.015487338653651133
         },
         {
          "account": "JustinTrudeau",
          "day": "2020-04-18",
          "total": 732663,
          "tweet": 10621,
          "weight": 0.01449643287568773
         },
         {
          "account": "JustinTrudeau",
          "day": "2020-04-19",
          "total": 732663,
          "tweet": 10501,
          "weight": 0.014332646796685515
         },
         {
          "account": "JustinTrudeau",
          "day": "2020-04-20",
          "total": 732663,
          "tweet": 10663,
          "weight": 0.014553758003338507
         },
         {
          "account": "JustinTrudeau",
          "day": "2020-04-21",
          "total": 732663,
          "tweet": 10587,
          "weight": 0.014450026819970437
         },
         {
          "account": "JustinTrudeau",
          "day": "2020-04-22",
          "total": 732663,
          "tweet": 11839,
          "weight": 0.016158861577560215
         },
         {
          "account": "JustinTrudeau",
          "day": "2020-04-23",
          "total": 732663,
          "tweet": 11460,
          "weight": 0.01564157054471155
         },
         {
          "account": "JustinTrudeau",
          "day": "2020-04-24",
          "total": 732663,
          "tweet": 10596,
          "weight": 0.014462310775895602
         },
         {
          "account": "JustinTrudeau",
          "day": "2020-04-25",
          "total": 732663,
          "tweet": 8499,
          "weight": 0.011600149045331892
         },
         {
          "account": "JustinTrudeau",
          "day": "2020-04-26",
          "total": 732663,
          "tweet": 6188,
          "weight": 0.008445902140547565
         },
         {
          "account": "JustinTrudeau",
          "day": "2020-04-27",
          "total": 732663,
          "tweet": 6954,
          "weight": 0.009491403278178372
         },
         {
          "account": "JustinTrudeau",
          "day": "2020-04-28",
          "total": 732663,
          "tweet": 10101,
          "weight": 0.013786693200011465
         },
         {
          "account": "JustinTrudeau",
          "day": "2020-04-29",
          "total": 732663,
          "tweet": 8597,
          "weight": 0.011733907676517035
         },
         {
          "account": "JustinTrudeau",
          "day": "2020-04-30",
          "total": 732663,
          "tweet": 7247,
          "weight": 0.009891314287742113
         }
        ]
       },
       "encoding": {
        "color": {
         "field": "tweet",
         "title": "# tweets",
         "type": "quantitative"
        },
        "x": {
         "field": "day",
         "title": "Day",
         "type": "ordinal"
        },
        "y": {
         "field": "account",
         "title": "",
         "type": "ordinal"
        }
       },
       "height": 150,
       "mark": "rect",
       "title": "Heatmap with the number of tweets by accout per day",
       "width": 800
      },
      "image/png": "[encoded data removed]",
      "text/plain": [
       "<VegaLite 4 object>\n",
       "\n",
       "If you see this message, it means the renderer has not been properly enabled\n",
       "for the frontend that you are using. For more information, see\n",
       "https://altair-viz.github.io/user_guide/troubleshooting.html\n"
      ]
     },
     "execution_count": 28,
     "metadata": {},
     "output_type": "execute_result"
    }
   ],
   "source": [
    "# heatmap with the number of tweets by accout, per day\n",
    "base = alt.Chart(df_aux).mark_rect().encode(\n",
    "    x=alt.X('day:O', title=\"Day\"),\n",
    "    y=alt.Y('account:O', title=\"\"),\n",
    "    color=alt.Color('tweet:Q', title=\"# tweets\")\n",
    ").properties(height=150, width=800)\n",
    "\n",
    "base.properties(title='Heatmap with the number of tweets by accout per day')"
   ]
  },
  {
   "cell_type": "markdown",
   "metadata": {},
   "source": [
    "With this heatmap we can identify the accounts with most tweets, but it is not as useful for identidying the days with more tweets for the accounts _CanadianPM_ and _GovCanHealth_."
   ]
  },
  {
   "cell_type": "code",
   "execution_count": 29,
   "metadata": {},
   "outputs": [
    {
     "data": {
      "application/vnd.vegalite.v4+json": {
       "$schema": "https://vega.github.io/schema/vega-lite/v4.8.1.json",
       "config": {
        "view": {
         "continuousHeight": 300,
         "continuousWidth": 400
        }
       },
       "data": {
        "name": "data-0e557b63be2110172bcc556738f0a725"
       },
       "datasets": {
        "data-0e557b63be2110172bcc556738f0a725": [
         {
          "account": "Canada",
          "day": "2020-03-01",
          "total": 2711168,
          "tweet": 30429,
          "weight": 0.011223575964307635
         },
         {
          "account": "Canada",
          "day": "2020-03-02",
          "total": 2711168,
          "tweet": 34689,
          "weight": 0.012794854468627544
         },
         {
          "account": "Canada",
          "day": "2020-03-03",
          "total": 2711168,
          "tweet": 36879,
          "weight": 0.013602624403946934
         },
         {
          "account": "Canada",
          "day": "2020-03-04",
          "total": 2711168,
          "tweet": 39812,
          "weight": 0.014684445965723998
         },
         {
          "account": "Canada",
          "day": "2020-03-05",
          "total": 2711168,
          "tweet": 38378,
          "weight": 0.014155522638213493
         },
         {
          "account": "Canada",
          "day": "2020-03-06",
          "total": 2711168,
          "tweet": 38261,
          "weight": 0.014112367806052595
         },
         {
          "account": "Canada",
          "day": "2020-03-07",
          "total": 2711168,
          "tweet": 29992,
          "weight": 0.01106239082196308
         },
         {
          "account": "Canada",
          "day": "2020-03-08",
          "total": 2711168,
          "tweet": 29162,
          "weight": 0.010756249704924224
         },
         {
          "account": "Canada",
          "day": "2020-03-09",
          "total": 2711168,
          "tweet": 36848,
          "weight": 0.013591190217647892
         },
         {
          "account": "Canada",
          "day": "2020-03-10",
          "total": 2711168,
          "tweet": 38821,
          "weight": 0.01431892084887399
         },
         {
          "account": "Canada",
          "day": "2020-03-11",
          "total": 2711168,
          "tweet": 40261,
          "weight": 0.014850057244700439
         },
         {
          "account": "Canada",
          "day": "2020-03-12",
          "total": 2711168,
          "tweet": 51318,
          "weight": 0.01892837330626505
         },
         {
          "account": "Canada",
          "day": "2020-03-13",
          "total": 2711168,
          "tweet": 62186,
          "weight": 0.022936977715877438
         },
         {
          "account": "Canada",
          "day": "2020-03-14",
          "total": 2711168,
          "tweet": 47167,
          "weight": 0.01739729887635145
         },
         {
          "account": "Canada",
          "day": "2020-03-15",
          "total": 2711168,
          "tweet": 44111,
          "weight": 0.01627010941409754
         },
         {
          "account": "Canada",
          "day": "2020-03-16",
          "total": 2711168,
          "tweet": 61410,
          "weight": 0.022650754213682074
         },
         {
          "account": "Canada",
          "day": "2020-03-17",
          "total": 2711168,
          "tweet": 49782,
          "weight": 0.018361827817383505
         },
         {
          "account": "Canada",
          "day": "2020-03-18",
          "total": 2711168,
          "tweet": 62388,
          "weight": 0.02301148434918087
         },
         {
          "account": "Canada",
          "day": "2020-03-19",
          "total": 2711168,
          "tweet": 49162,
          "weight": 0.01813314409140267
         },
         {
          "account": "Canada",
          "day": "2020-03-20",
          "total": 2711168,
          "tweet": 52218,
          "weight": 0.01926033355365658
         },
         {
          "account": "Canada",
          "day": "2020-03-21",
          "total": 2711168,
          "tweet": 42651,
          "weight": 0.015731596123884615
         },
         {
          "account": "Canada",
          "day": "2020-03-22",
          "total": 2711168,
          "tweet": 40552,
          "weight": 0.0149573910580237
         },
         {
          "account": "Canada",
          "day": "2020-03-23",
          "total": 2711168,
          "tweet": 57727,
          "weight": 0.021292299112412066
         },
         {
          "account": "Canada",
          "day": "2020-03-24",
          "total": 2711168,
          "tweet": 48550,
          "weight": 0.017907411123176432
         },
         {
          "account": "Canada",
          "day": "2020-03-25",
          "total": 2711168,
          "tweet": 51966,
          "weight": 0.01916738468438695
         },
         {
          "account": "Canada",
          "day": "2020-03-26",
          "total": 2711168,
          "tweet": 58306,
          "weight": 0.02150586020490062
         },
         {
          "account": "Canada",
          "day": "2020-03-27",
          "total": 2711168,
          "tweet": 56972,
          "weight": 0.021013821349322507
         },
         {
          "account": "Canada",
          "day": "2020-03-28",
          "total": 2711168,
          "tweet": 43101,
          "weight": 0.01589757624758038
         },
         {
          "account": "Canada",
          "day": "2020-03-29",
          "total": 2711168,
          "tweet": 42633,
          "weight": 0.015724956918936783
         },
         {
          "account": "Canada",
          "day": "2020-03-30",
          "total": 2711168,
          "tweet": 44248,
          "weight": 0.016320641140644916
         },
         {
          "account": "Canada",
          "day": "2020-03-31",
          "total": 2711168,
          "tweet": 47400,
          "weight": 0.01748323969595392
         },
         {
          "account": "Canada",
          "day": "2020-04-01",
          "total": 2711168,
          "tweet": 44880,
          "weight": 0.016553751003257636
         },
         {
          "account": "Canada",
          "day": "2020-04-02",
          "total": 2711168,
          "tweet": 47034,
          "weight": 0.017348242528681366
         },
         {
          "account": "Canada",
          "day": "2020-04-03",
          "total": 2711168,
          "tweet": 58112,
          "weight": 0.021434304329351776
         },
         {
          "account": "Canada",
          "day": "2020-04-04",
          "total": 2711168,
          "tweet": 53487,
          "weight": 0.019728397502478637
         },
         {
          "account": "Canada",
          "day": "2020-04-05",
          "total": 2711168,
          "tweet": 45404,
          "weight": 0.016747025636183372
         },
         {
          "account": "Canada",
          "day": "2020-04-06",
          "total": 2711168,
          "tweet": 47186,
          "weight": 0.0174043069260186
         },
         {
          "account": "Canada",
          "day": "2020-04-07",
          "total": 2711168,
          "tweet": 45285,
          "weight": 0.016703133114583824
         },
         {
          "account": "Canada",
          "day": "2020-04-08",
          "total": 2711168,
          "tweet": 46561,
          "weight": 0.01717377897644115
         },
         {
          "account": "Canada",
          "day": "2020-04-09",
          "total": 2711168,
          "tweet": 45205,
          "weight": 0.01667362553703791
         },
         {
          "account": "Canada",
          "day": "2020-04-10",
          "total": 2711168,
          "tweet": 41587,
          "weight": 0.01533914534252396
         },
         {
          "account": "Canada",
          "day": "2020-04-11",
          "total": 2711168,
          "tweet": 39495,
          "weight": 0.014567522189698314
         },
         {
          "account": "Canada",
          "day": "2020-04-12",
          "total": 2711168,
          "tweet": 34709,
          "weight": 0.012802231363014022
         },
         {
          "account": "Canada",
          "day": "2020-04-13",
          "total": 2711168,
          "tweet": 39327,
          "weight": 0.014505556276851895
         },
         {
          "account": "Canada",
          "day": "2020-04-14",
          "total": 2711168,
          "tweet": 42130,
          "weight": 0.01553942802511685
         },
         {
          "account": "Canada",
          "day": "2020-04-15",
          "total": 2711168,
          "tweet": 46216,
          "weight": 0.017046527548274397
         },
         {
          "account": "Canada",
          "day": "2020-04-16",
          "total": 2711168,
          "tweet": 46446,
          "weight": 0.0171313618337189
         },
         {
          "account": "Canada",
          "day": "2020-04-17",
          "total": 2711168,
          "tweet": 45727,
          "weight": 0.016866162480525
         },
         {
          "account": "Canada",
          "day": "2020-04-18",
          "total": 2711168,
          "tweet": 41058,
          "weight": 0.015144026486001605
         },
         {
          "account": "Canada",
          "day": "2020-04-19",
          "total": 2711168,
          "tweet": 41066,
          "weight": 0.015146977243756196
         },
         {
          "account": "Canada",
          "day": "2020-04-20",
          "total": 2711168,
          "tweet": 55672,
          "weight": 0.020534323214201407
         },
         {
          "account": "Canada",
          "day": "2020-04-21",
          "total": 2711168,
          "tweet": 46077,
          "weight": 0.01699525813228837
         },
         {
          "account": "Canada",
          "day": "2020-04-22",
          "total": 2711168,
          "tweet": 44670,
          "weight": 0.016476293612199613
         },
         {
          "account": "Canada",
          "day": "2020-04-23",
          "total": 2711168,
          "tweet": 43982,
          "weight": 0.016222528445304755
         },
         {
          "account": "Canada",
          "day": "2020-04-24",
          "total": 2711168,
          "tweet": 42381,
          "weight": 0.015632008049667155
         },
         {
          "account": "Canada",
          "day": "2020-04-25",
          "total": 2711168,
          "tweet": 34686,
          "weight": 0.012793747934469572
         },
         {
          "account": "Canada",
          "day": "2020-04-26",
          "total": 2711168,
          "tweet": 32171,
          "weight": 0.011866103465369907
         },
         {
          "account": "Canada",
          "day": "2020-04-27",
          "total": 2711168,
          "tweet": 36806,
          "weight": 0.013575698739436287
         },
         {
          "account": "Canada",
          "day": "2020-04-28",
          "total": 2711168,
          "tweet": 38449,
          "weight": 0.014181710613285492
         },
         {
          "account": "Canada",
          "day": "2020-04-29",
          "total": 2711168,
          "tweet": 38479,
          "weight": 0.014192775954865209
         },
         {
          "account": "Canada",
          "day": "2020-04-30",
          "total": 2711168,
          "tweet": 39500,
          "weight": 0.014569366413294935
         },
         {
          "account": "CanadianPM",
          "day": "2020-03-01",
          "total": 35495,
          "tweet": 158,
          "weight": 0.004451331173404705
         },
         {
          "account": "CanadianPM",
          "day": "2020-03-02",
          "total": 35495,
          "tweet": 189,
          "weight": 0.005324693618819552
         },
         {
          "account": "CanadianPM",
          "day": "2020-03-03",
          "total": 35495,
          "tweet": 219,
          "weight": 0.0061698830821242424
         },
         {
          "account": "CanadianPM",
          "day": "2020-03-04",
          "total": 35495,
          "tweet": 248,
          "weight": 0.0069868995633187774
         },
         {
          "account": "CanadianPM",
          "day": "2020-03-05",
          "total": 35495,
          "tweet": 296,
          "weight": 0.008339202704606282
         },
         {
          "account": "CanadianPM",
          "day": "2020-03-06",
          "total": 35495,
          "tweet": 189,
          "weight": 0.005324693618819552
         },
         {
          "account": "CanadianPM",
          "day": "2020-03-07",
          "total": 35495,
          "tweet": 149,
          "weight": 0.004197774334413298
         },
         {
          "account": "CanadianPM",
          "day": "2020-03-08",
          "total": 35495,
          "tweet": 131,
          "weight": 0.003690660656430483
         },
         {
          "account": "CanadianPM",
          "day": "2020-03-09",
          "total": 35495,
          "tweet": 261,
          "weight": 0.00735314833075081
         },
         {
          "account": "CanadianPM",
          "day": "2020-03-10",
          "total": 35495,
          "tweet": 171,
          "weight": 0.004817579940836737
         },
         {
          "account": "CanadianPM",
          "day": "2020-03-11",
          "total": 35495,
          "tweet": 264,
          "weight": 0.007437667277081279
         },
         {
          "account": "CanadianPM",
          "day": "2020-03-12",
          "total": 35495,
          "tweet": 632,
          "weight": 0.01780532469361882
         },
         {
          "account": "CanadianPM",
          "day": "2020-03-13",
          "total": 35495,
          "tweet": 493,
          "weight": 0.013889280180307086
         },
         {
          "account": "CanadianPM",
          "day": "2020-03-14",
          "total": 35495,
          "tweet": 645,
          "weight": 0.018171573461050854
         },
         {
          "account": "CanadianPM",
          "day": "2020-03-15",
          "total": 35495,
          "tweet": 672,
          "weight": 0.018932243978025075
         },
         {
          "account": "CanadianPM",
          "day": "2020-03-16",
          "total": 35495,
          "tweet": 895,
          "weight": 0.025214818988589943
         },
         {
          "account": "CanadianPM",
          "day": "2020-03-17",
          "total": 35495,
          "tweet": 1137,
          "weight": 0.03203268065924778
         },
         {
          "account": "CanadianPM",
          "day": "2020-03-18",
          "total": 35495,
          "tweet": 1029,
          "weight": 0.028989998591350895
         },
         {
          "account": "CanadianPM",
          "day": "2020-03-19",
          "total": 35495,
          "tweet": 705,
          "weight": 0.019861952387660232
         },
         {
          "account": "CanadianPM",
          "day": "2020-03-20",
          "total": 35495,
          "tweet": 585,
          "weight": 0.01648119453444147
         },
         {
          "account": "CanadianPM",
          "day": "2020-03-21",
          "total": 35495,
          "tweet": 614,
          "weight": 0.017298211015636004
         },
         {
          "account": "CanadianPM",
          "day": "2020-03-22",
          "total": 35495,
          "tweet": 954,
          "weight": 0.026877024933089168
         },
         {
          "account": "CanadianPM",
          "day": "2020-03-23",
          "total": 35495,
          "tweet": 825,
          "weight": 0.023242710240878997
         },
         {
          "account": "CanadianPM",
          "day": "2020-03-24",
          "total": 35495,
          "tweet": 777,
          "weight": 0.021890407099591492
         },
         {
          "account": "CanadianPM",
          "day": "2020-03-25",
          "total": 35495,
          "tweet": 887,
          "weight": 0.02498943513170869
         },
         {
          "account": "CanadianPM",
          "day": "2020-03-26",
          "total": 35495,
          "tweet": 1207,
          "weight": 0.034004789406958724
         },
         {
          "account": "CanadianPM",
          "day": "2020-03-27",
          "total": 35495,
          "tweet": 687,
          "weight": 0.01935483870967742
         },
         {
          "account": "CanadianPM",
          "day": "2020-03-28",
          "total": 35495,
          "tweet": 819,
          "weight": 0.02307367234821806
         },
         {
          "account": "CanadianPM",
          "day": "2020-03-29",
          "total": 35495,
          "tweet": 910,
          "weight": 0.025637413720242287
         },
         {
          "account": "CanadianPM",
          "day": "2020-03-30",
          "total": 35495,
          "tweet": 615,
          "weight": 0.01732638399774616
         },
         {
          "account": "CanadianPM",
          "day": "2020-03-31",
          "total": 35495,
          "tweet": 579,
          "weight": 0.016312156641780533
         },
         {
          "account": "CanadianPM",
          "day": "2020-04-01",
          "total": 35495,
          "tweet": 531,
          "weight": 0.014959853500493028
         },
         {
          "account": "CanadianPM",
          "day": "2020-04-02",
          "total": 35495,
          "tweet": 739,
          "weight": 0.02081983377940555
         },
         {
          "account": "CanadianPM",
          "day": "2020-04-03",
          "total": 35495,
          "tweet": 661,
          "weight": 0.018622341174813355
         },
         {
          "account": "CanadianPM",
          "day": "2020-04-04",
          "total": 35495,
          "tweet": 604,
          "weight": 0.01701648119453444
         },
         {
          "account": "CanadianPM",
          "day": "2020-04-05",
          "total": 35495,
          "tweet": 947,
          "weight": 0.026679814058318072
         },
         {
          "account": "CanadianPM",
          "day": "2020-04-06",
          "total": 35495,
          "tweet": 852,
          "weight": 0.02400338075785322
         },
         {
          "account": "CanadianPM",
          "day": "2020-04-07",
          "total": 35495,
          "tweet": 637,
          "weight": 0.0179461896041696
         },
         {
          "account": "CanadianPM",
          "day": "2020-04-08",
          "total": 35495,
          "tweet": 588,
          "weight": 0.01656571348077194
         },
         {
          "account": "CanadianPM",
          "day": "2020-04-09",
          "total": 35495,
          "tweet": 591,
          "weight": 0.01665023242710241
         },
         {
          "account": "CanadianPM",
          "day": "2020-04-10",
          "total": 35495,
          "tweet": 600,
          "weight": 0.016903789266093816
         },
         {
          "account": "CanadianPM",
          "day": "2020-04-11",
          "total": 35495,
          "tweet": 438,
          "weight": 0.012339766164248485
         },
         {
          "account": "CanadianPM",
          "day": "2020-04-12",
          "total": 35495,
          "tweet": 386,
          "weight": 0.010874771094520355
         },
         {
          "account": "CanadianPM",
          "day": "2020-04-13",
          "total": 35495,
          "tweet": 386,
          "weight": 0.010874771094520355
         },
         {
          "account": "CanadianPM",
          "day": "2020-04-14",
          "total": 35495,
          "tweet": 407,
          "weight": 0.011466403718833638
         },
         {
          "account": "CanadianPM",
          "day": "2020-04-15",
          "total": 35495,
          "tweet": 576,
          "weight": 0.016227637695450062
         },
         {
          "account": "CanadianPM",
          "day": "2020-04-16",
          "total": 35495,
          "tweet": 877,
          "weight": 0.024707705310607127
         },
         {
          "account": "CanadianPM",
          "day": "2020-04-17",
          "total": 35495,
          "tweet": 563,
          "weight": 0.01586138892801803
         },
         {
          "account": "CanadianPM",
          "day": "2020-04-18",
          "total": 35495,
          "tweet": 440,
          "weight": 0.012396112128468799
         },
         {
          "account": "CanadianPM",
          "day": "2020-04-19",
          "total": 35495,
          "tweet": 508,
          "weight": 0.01431187491195943
         },
         {
          "account": "CanadianPM",
          "day": "2020-04-20",
          "total": 35495,
          "tweet": 410,
          "weight": 0.011550922665164108
         },
         {
          "account": "CanadianPM",
          "day": "2020-04-21",
          "total": 35495,
          "tweet": 853,
          "weight": 0.024031553739963376
         },
         {
          "account": "CanadianPM",
          "day": "2020-04-22",
          "total": 35495,
          "tweet": 1079,
          "weight": 0.030398647696858714
         },
         {
          "account": "CanadianPM",
          "day": "2020-04-23",
          "total": 35495,
          "tweet": 652,
          "weight": 0.018368784335821946
         },
         {
          "account": "CanadianPM",
          "day": "2020-04-24",
          "total": 35495,
          "tweet": 750,
          "weight": 0.02112973658261727
         },
         {
          "account": "CanadianPM",
          "day": "2020-04-25",
          "total": 35495,
          "tweet": 393,
          "weight": 0.011071981969291449
         },
         {
          "account": "CanadianPM",
          "day": "2020-04-26",
          "total": 35495,
          "tweet": 394,
          "weight": 0.011100154951401606
         },
         {
          "account": "CanadianPM",
          "day": "2020-04-27",
          "total": 35495,
          "tweet": 434,
          "weight": 0.01222707423580786
         },
         {
          "account": "CanadianPM",
          "day": "2020-04-28",
          "total": 35495,
          "tweet": 533,
          "weight": 0.01501619946471334
         },
         {
          "account": "CanadianPM",
          "day": "2020-04-29",
          "total": 35495,
          "tweet": 362,
          "weight": 0.010198619523876603
         },
         {
          "account": "CanadianPM",
          "day": "2020-04-30",
          "total": 35495,
          "tweet": 362,
          "weight": 0.010198619523876603
         },
         {
          "account": "GovCanHealth",
          "day": "2020-03-01",
          "total": 24549,
          "tweet": 157,
          "weight": 0.006395372520265591
         },
         {
          "account": "GovCanHealth",
          "day": "2020-03-02",
          "total": 24549,
          "tweet": 220,
          "weight": 0.008961668499735223
         },
         {
          "account": "GovCanHealth",
          "day": "2020-03-03",
          "total": 24549,
          "tweet": 215,
          "weight": 0.008757994215650333
         },
         {
          "account": "GovCanHealth",
          "day": "2020-03-04",
          "total": 24549,
          "tweet": 216,
          "weight": 0.00879872907246731
         },
         {
          "account": "GovCanHealth",
          "day": "2020-03-05",
          "total": 24549,
          "tweet": 219,
          "weight": 0.008920933642918245
         },
         {
          "account": "GovCanHealth",
          "day": "2020-03-06",
          "total": 24549,
          "tweet": 205,
          "weight": 0.008350645647480549
         },
         {
          "account": "GovCanHealth",
          "day": "2020-03-07",
          "total": 24549,
          "tweet": 133,
          "weight": 0.005417735956658112
         },
         {
          "account": "GovCanHealth",
          "day": "2020-03-08",
          "total": 24549,
          "tweet": 135,
          "weight": 0.005499205670292069
         },
         {
          "account": "GovCanHealth",
          "day": "2020-03-09",
          "total": 24549,
          "tweet": 257,
          "weight": 0.01046885820196342
         },
         {
          "account": "GovCanHealth",
          "day": "2020-03-10",
          "total": 24549,
          "tweet": 297,
          "weight": 0.012098252474642551
         },
         {
          "account": "GovCanHealth",
          "day": "2020-03-11",
          "total": 24549,
          "tweet": 811,
          "weight": 0.03303596887856939
         },
         {
          "account": "GovCanHealth",
          "day": "2020-03-12",
          "total": 24549,
          "tweet": 532,
          "weight": 0.021670943826632448
         },
         {
          "account": "GovCanHealth",
          "day": "2020-03-13",
          "total": 24549,
          "tweet": 733,
          "weight": 0.029858650046845084
         },
         {
          "account": "GovCanHealth",
          "day": "2020-03-14",
          "total": 24549,
          "tweet": 470,
          "weight": 0.019145382703979797
         },
         {
          "account": "GovCanHealth",
          "day": "2020-03-15",
          "total": 24549,
          "tweet": 1188,
          "weight": 0.048393009898570205
         },
         {
          "account": "GovCanHealth",
          "day": "2020-03-16",
          "total": 24549,
          "tweet": 1015,
          "weight": 0.04134587966923296
         },
         {
          "account": "GovCanHealth",
          "day": "2020-03-17",
          "total": 24549,
          "tweet": 854,
          "weight": 0.034787567721699456
         },
         {
          "account": "GovCanHealth",
          "day": "2020-03-18",
          "total": 24549,
          "tweet": 625,
          "weight": 0.02545928551061143
         },
         {
          "account": "GovCanHealth",
          "day": "2020-03-19",
          "total": 24549,
          "tweet": 679,
          "weight": 0.02765896777872826
         },
         {
          "account": "GovCanHealth",
          "day": "2020-03-20",
          "total": 24549,
          "tweet": 880,
          "weight": 0.03584667399894089
         },
         {
          "account": "GovCanHealth",
          "day": "2020-03-21",
          "total": 24549,
          "tweet": 615,
          "weight": 0.025051936942441646
         },
         {
          "account": "GovCanHealth",
          "day": "2020-03-22",
          "total": 24549,
          "tweet": 743,
          "weight": 0.030265998615014868
         },
         {
          "account": "GovCanHealth",
          "day": "2020-03-23",
          "total": 24549,
          "tweet": 724,
          "weight": 0.02949203633549228
         },
         {
          "account": "GovCanHealth",
          "day": "2020-03-24",
          "total": 24549,
          "tweet": 540,
          "weight": 0.021996822681168277
         },
         {
          "account": "GovCanHealth",
          "day": "2020-03-25",
          "total": 24549,
          "tweet": 523,
          "weight": 0.021304330115279643
         },
         {
          "account": "GovCanHealth",
          "day": "2020-03-26",
          "total": 24549,
          "tweet": 498,
          "weight": 0.020285958694855187
         },
         {
          "account": "GovCanHealth",
          "day": "2020-03-27",
          "total": 24549,
          "tweet": 534,
          "weight": 0.021752413540266406
         },
         {
          "account": "GovCanHealth",
          "day": "2020-03-28",
          "total": 24549,
          "tweet": 502,
          "weight": 0.0204488981221231
         },
         {
          "account": "GovCanHealth",
          "day": "2020-03-29",
          "total": 24549,
          "tweet": 388,
          "weight": 0.015805124444987575
         },
         {
          "account": "GovCanHealth",
          "day": "2020-03-30",
          "total": 24549,
          "tweet": 462,
          "weight": 0.018819503849443968
         },
         {
          "account": "GovCanHealth",
          "day": "2020-03-31",
          "total": 24549,
          "tweet": 453,
          "weight": 0.018452890138091163
         },
         {
          "account": "GovCanHealth",
          "day": "2020-04-01",
          "total": 24549,
          "tweet": 328,
          "weight": 0.013361033035968879
         },
         {
          "account": "GovCanHealth",
          "day": "2020-04-02",
          "total": 24549,
          "tweet": 377,
          "weight": 0.015357041020000815
         },
         {
          "account": "GovCanHealth",
          "day": "2020-04-03",
          "total": 24549,
          "tweet": 402,
          "weight": 0.01637541244042527
         },
         {
          "account": "GovCanHealth",
          "day": "2020-04-04",
          "total": 24549,
          "tweet": 255,
          "weight": 0.010387388488329463
         },
         {
          "account": "GovCanHealth",
          "day": "2020-04-05",
          "total": 24549,
          "tweet": 320,
          "weight": 0.013035154181433053
         },
         {
          "account": "GovCanHealth",
          "day": "2020-04-06",
          "total": 24549,
          "tweet": 366,
          "weight": 0.014908957595014054
         },
         {
          "account": "GovCanHealth",
          "day": "2020-04-07",
          "total": 24549,
          "tweet": 277,
          "weight": 0.011283555338302985
         },
         {
          "account": "GovCanHealth",
          "day": "2020-04-08",
          "total": 24549,
          "tweet": 342,
          "weight": 0.013931321031406575
         },
         {
          "account": "GovCanHealth",
          "day": "2020-04-09",
          "total": 24549,
          "tweet": 373,
          "weight": 0.0151941015927329
         },
         {
          "account": "GovCanHealth",
          "day": "2020-04-10",
          "total": 24549,
          "tweet": 355,
          "weight": 0.014460874170027293
         },
         {
          "account": "GovCanHealth",
          "day": "2020-04-11",
          "total": 24549,
          "tweet": 220,
          "weight": 0.008961668499735223
         },
         {
          "account": "GovCanHealth",
          "day": "2020-04-12",
          "total": 24549,
          "tweet": 133,
          "weight": 0.005417735956658112
         },
         {
          "account": "GovCanHealth",
          "day": "2020-04-13",
          "total": 24549,
          "tweet": 247,
          "weight": 0.010061509633793637
         },
         {
          "account": "GovCanHealth",
          "day": "2020-04-14",
          "total": 24549,
          "tweet": 356,
          "weight": 0.01450160902684427
         },
         {
          "account": "GovCanHealth",
          "day": "2020-04-15",
          "total": 24549,
          "tweet": 555,
          "weight": 0.02260784553342295
         },
         {
          "account": "GovCanHealth",
          "day": "2020-04-16",
          "total": 24549,
          "tweet": 397,
          "weight": 0.01617173815634038
         },
         {
          "account": "GovCanHealth",
          "day": "2020-04-17",
          "total": 24549,
          "tweet": 335,
          "weight": 0.013646177033687727
         },
         {
          "account": "GovCanHealth",
          "day": "2020-04-18",
          "total": 24549,
          "tweet": 203,
          "weight": 0.008269175933846592
         },
         {
          "account": "GovCanHealth",
          "day": "2020-04-19",
          "total": 24549,
          "tweet": 203,
          "weight": 0.008269175933846592
         },
         {
          "account": "GovCanHealth",
          "day": "2020-04-20",
          "total": 24549,
          "tweet": 251,
          "weight": 0.01022444906106155
         },
         {
          "account": "GovCanHealth",
          "day": "2020-04-21",
          "total": 24549,
          "tweet": 188,
          "weight": 0.007658153081591918
         },
         {
          "account": "GovCanHealth",
          "day": "2020-04-22",
          "total": 24549,
          "tweet": 199,
          "weight": 0.00810623650657868
         },
         {
          "account": "GovCanHealth",
          "day": "2020-04-23",
          "total": 24549,
          "tweet": 294,
          "weight": 0.011976047904191617
         },
         {
          "account": "GovCanHealth",
          "day": "2020-04-24",
          "total": 24549,
          "tweet": 159,
          "weight": 0.006476842233899548
         },
         {
          "account": "GovCanHealth",
          "day": "2020-04-25",
          "total": 24549,
          "tweet": 105,
          "weight": 0.00427715996578272
         },
         {
          "account": "GovCanHealth",
          "day": "2020-04-26",
          "total": 24549,
          "tweet": 169,
          "weight": 0.00688419080206933
         },
         {
          "account": "GovCanHealth",
          "day": "2020-04-27",
          "total": 24549,
          "tweet": 357,
          "weight": 0.01454234388366125
         },
         {
          "account": "GovCanHealth",
          "day": "2020-04-28",
          "total": 24549,
          "tweet": 374,
          "weight": 0.01523483644954988
         },
         {
          "account": "GovCanHealth",
          "day": "2020-04-29",
          "total": 24549,
          "tweet": 261,
          "weight": 0.010631797629231334
         },
         {
          "account": "GovCanHealth",
          "day": "2020-04-30",
          "total": 24549,
          "tweet": 325,
          "weight": 0.013238828465517943
         },
         {
          "account": "JustinTrudeau",
          "day": "2020-03-01",
          "total": 732663,
          "tweet": 4556,
          "weight": 0.006218411466117437
         },
         {
          "account": "JustinTrudeau",
          "day": "2020-03-02",
          "total": 732663,
          "tweet": 3818,
          "weight": 0.0052111270802538134
         },
         {
          "account": "JustinTrudeau",
          "day": "2020-03-03",
          "total": 732663,
          "tweet": 4881,
          "weight": 0.006661998763415103
         },
         {
          "account": "JustinTrudeau",
          "day": "2020-03-04",
          "total": 732663,
          "tweet": 5766,
          "weight": 0.00786992109605644
         },
         {
          "account": "JustinTrudeau",
          "day": "2020-03-05",
          "total": 732663,
          "tweet": 5350,
          "weight": 0.007302129355515428
         },
         {
          "account": "JustinTrudeau",
          "day": "2020-03-06",
          "total": 732663,
          "tweet": 5506,
          "weight": 0.007515051258218308
         },
         {
          "account": "JustinTrudeau",
          "day": "2020-03-07",
          "total": 732663,
          "tweet": 3558,
          "weight": 0.0048562572424156805
         },
         {
          "account": "JustinTrudeau",
          "day": "2020-03-08",
          "total": 732663,
          "tweet": 4883,
          "weight": 0.006664728531398474
         },
         {
          "account": "JustinTrudeau",
          "day": "2020-03-09",
          "total": 732663,
          "tweet": 6156,
          "weight": 0.00840222585281364
         },
         {
          "account": "JustinTrudeau",
          "day": "2020-03-10",
          "total": 732663,
          "tweet": 5862,
          "weight": 0.008000949959258213
         },
         {
          "account": "JustinTrudeau",
          "day": "2020-03-11",
          "total": 732663,
          "tweet": 7046,
          "weight": 0.009616972605413403
         },
         {
          "account": "JustinTrudeau",
          "day": "2020-03-12",
          "total": 732663,
          "tweet": 16955,
          "weight": 0.023141608079021325
         },
         {
          "account": "JustinTrudeau",
          "day": "2020-03-13",
          "total": 732663,
          "tweet": 29712,
          "weight": 0.040553433160948484
         },
         {
          "account": "JustinTrudeau",
          "day": "2020-03-14",
          "total": 732663,
          "tweet": 18482,
          "weight": 0.02522578593432451
         },
         {
          "account": "JustinTrudeau",
          "day": "2020-03-15",
          "total": 732663,
          "tweet": 17140,
          "weight": 0.02339411161748307
         },
         {
          "account": "JustinTrudeau",
          "day": "2020-03-16",
          "total": 732663,
          "tweet": 25094,
          "weight": 0.03425039888734657
         },
         {
          "account": "JustinTrudeau",
          "day": "2020-03-17",
          "total": 732663,
          "tweet": 18088,
          "weight": 0.024688021641600572
         },
         {
          "account": "JustinTrudeau",
          "day": "2020-03-18",
          "total": 732663,
          "tweet": 16916,
          "weight": 0.023088377603345603
         },
         {
          "account": "JustinTrudeau",
          "day": "2020-03-19",
          "total": 732663,
          "tweet": 15719,
          "weight": 0.021454611465298506
         },
         {
          "account": "JustinTrudeau",
          "day": "2020-03-20",
          "total": 732663,
          "tweet": 17221,
          "weight": 0.02350466722080957
         },
         {
          "account": "JustinTrudeau",
          "day": "2020-03-21",
          "total": 732663,
          "tweet": 15052,
          "weight": 0.02054423384284453
         },
         {
          "account": "JustinTrudeau",
          "day": "2020-03-22",
          "total": 732663,
          "tweet": 15811,
          "weight": 0.02158018079253354
         },
         {
          "account": "JustinTrudeau",
          "day": "2020-03-23",
          "total": 732663,
          "tweet": 17472,
          "weight": 0.023847253102722534
         },
         {
          "account": "JustinTrudeau",
          "day": "2020-03-24",
          "total": 732663,
          "tweet": 23213,
          "weight": 0.03168305209898685
         },
         {
          "account": "JustinTrudeau",
          "day": "2020-03-25",
          "total": 732663,
          "tweet": 19716,
          "weight": 0.026910052780063958
         },
         {
          "account": "JustinTrudeau",
          "day": "2020-03-26",
          "total": 732663,
          "tweet": 15585,
          "weight": 0.0212717170104127
         },
         {
          "account": "JustinTrudeau",
          "day": "2020-03-27",
          "total": 732663,
          "tweet": 15225,
          "weight": 0.020780358773406053
         },
         {
          "account": "JustinTrudeau",
          "day": "2020-03-28",
          "total": 732663,
          "tweet": 12925,
          "weight": 0.01764112559253026
         },
         {
          "account": "JustinTrudeau",
          "day": "2020-03-29",
          "total": 732663,
          "tweet": 15729,
          "weight": 0.02146826030521536
         },
         {
          "account": "JustinTrudeau",
          "day": "2020-03-30",
          "total": 732663,
          "tweet": 12984,
          "weight": 0.017721653748039686
         },
         {
          "account": "JustinTrudeau",
          "day": "2020-03-31",
          "total": 732663,
          "tweet": 14578,
          "weight": 0.019897278830785778
         },
         {
          "account": "JustinTrudeau",
          "day": "2020-04-01",
          "total": 732663,
          "tweet": 13996,
          "weight": 0.019102916347625034
         },
         {
          "account": "JustinTrudeau",
          "day": "2020-04-02",
          "total": 732663,
          "tweet": 13335,
          "weight": 0.018200728029121163
         },
         {
          "account": "JustinTrudeau",
          "day": "2020-04-03",
          "total": 732663,
          "tweet": 13829,
          "weight": 0.018874980721013616
         },
         {
          "account": "JustinTrudeau",
          "day": "2020-04-04",
          "total": 732663,
          "tweet": 11413,
          "weight": 0.015577420997102352
         },
         {
          "account": "JustinTrudeau",
          "day": "2020-04-05",
          "total": 732663,
          "tweet": 10827,
          "weight": 0.014777598977974867
         },
         {
          "account": "JustinTrudeau",
          "day": "2020-04-06",
          "total": 732663,
          "tweet": 12439,
          "weight": 0.01697779197257129
         },
         {
          "account": "JustinTrudeau",
          "day": "2020-04-07",
          "total": 732663,
          "tweet": 12681,
          "weight": 0.017308093898559092
         },
         {
          "account": "JustinTrudeau",
          "day": "2020-04-08",
          "total": 732663,
          "tweet": 11142,
          "weight": 0.015207537435355682
         },
         {
          "account": "JustinTrudeau",
          "day": "2020-04-09",
          "total": 732663,
          "tweet": 10326,
          "weight": 0.014093792098140618
         },
         {
          "account": "JustinTrudeau",
          "day": "2020-04-10",
          "total": 732663,
          "tweet": 11424,
          "weight": 0.015592434721010887
         },
         {
          "account": "JustinTrudeau",
          "day": "2020-04-11",
          "total": 732663,
          "tweet": 8958,
          "weight": 0.012226630797515365
         },
         {
          "account": "JustinTrudeau",
          "day": "2020-04-12",
          "total": 732663,
          "tweet": 8036,
          "weight": 0.010968207757181679
         },
         {
          "account": "JustinTrudeau",
          "day": "2020-04-13",
          "total": 732663,
          "tweet": 11774,
          "weight": 0.016070144118100683
         },
         {
          "account": "JustinTrudeau",
          "day": "2020-04-14",
          "total": 732663,
          "tweet": 12337,
          "weight": 0.016838573805419407
         },
         {
          "account": "JustinTrudeau",
          "day": "2020-04-15",
          "total": 732663,
          "tweet": 12976,
          "weight": 0.017710734676106205
         },
         {
          "account": "JustinTrudeau",
          "day": "2020-04-16",
          "total": 732663,
          "tweet": 10971,
          "weight": 0.014974142272777526
         },
         {
          "account": "JustinTrudeau",
          "day": "2020-04-17",
          "total": 732663,
          "tweet": 11347,
          "weight": 0.015487338653651133
         },
         {
          "account": "JustinTrudeau",
          "day": "2020-04-18",
          "total": 732663,
          "tweet": 10621,
          "weight": 0.01449643287568773
         },
         {
          "account": "JustinTrudeau",
          "day": "2020-04-19",
          "total": 732663,
          "tweet": 10501,
          "weight": 0.014332646796685515
         },
         {
          "account": "JustinTrudeau",
          "day": "2020-04-20",
          "total": 732663,
          "tweet": 10663,
          "weight": 0.014553758003338507
         },
         {
          "account": "JustinTrudeau",
          "day": "2020-04-21",
          "total": 732663,
          "tweet": 10587,
          "weight": 0.014450026819970437
         },
         {
          "account": "JustinTrudeau",
          "day": "2020-04-22",
          "total": 732663,
          "tweet": 11839,
          "weight": 0.016158861577560215
         },
         {
          "account": "JustinTrudeau",
          "day": "2020-04-23",
          "total": 732663,
          "tweet": 11460,
          "weight": 0.01564157054471155
         },
         {
          "account": "JustinTrudeau",
          "day": "2020-04-24",
          "total": 732663,
          "tweet": 10596,
          "weight": 0.014462310775895602
         },
         {
          "account": "JustinTrudeau",
          "day": "2020-04-25",
          "total": 732663,
          "tweet": 8499,
          "weight": 0.011600149045331892
         },
         {
          "account": "JustinTrudeau",
          "day": "2020-04-26",
          "total": 732663,
          "tweet": 6188,
          "weight": 0.008445902140547565
         },
         {
          "account": "JustinTrudeau",
          "day": "2020-04-27",
          "total": 732663,
          "tweet": 6954,
          "weight": 0.009491403278178372
         },
         {
          "account": "JustinTrudeau",
          "day": "2020-04-28",
          "total": 732663,
          "tweet": 10101,
          "weight": 0.013786693200011465
         },
         {
          "account": "JustinTrudeau",
          "day": "2020-04-29",
          "total": 732663,
          "tweet": 8597,
          "weight": 0.011733907676517035
         },
         {
          "account": "JustinTrudeau",
          "day": "2020-04-30",
          "total": 732663,
          "tweet": 7247,
          "weight": 0.009891314287742113
         }
        ]
       },
       "encoding": {
        "color": {
         "field": "weight",
         "type": "quantitative"
        },
        "x": {
         "field": "day",
         "title": "Day",
         "type": "ordinal"
        },
        "y": {
         "field": "account",
         "title": "",
         "type": "ordinal"
        }
       },
       "height": 150,
       "mark": "rect",
       "title": "Heatmap with weights of tweets by twitter account",
       "width": 800
      },
      "image/png": "[encoded data removed]",
      "text/plain": [
       "<VegaLite 4 object>\n",
       "\n",
       "If you see this message, it means the renderer has not been properly enabled\n",
       "for the frontend that you are using. For more information, see\n",
       "https://altair-viz.github.io/user_guide/troubleshooting.html\n"
      ]
     },
     "execution_count": 29,
     "metadata": {},
     "output_type": "execute_result"
    }
   ],
   "source": [
    "# use a heatmap to show the number of tweets by accout, per day\n",
    "base.encode(color='weight').properties(title='Heatmap with weights of tweets by twitter account')"
   ]
  },
  {
   "cell_type": "markdown",
   "metadata": {},
   "source": [
    "In the previous heatmap we normalize the number of tweets by each Twitter account. With this plot, we can identify a higher number of tweets for all twitter accounts between March 12 and March 29, 2020.  "
   ]
  },
  {
   "cell_type": "code",
   "execution_count": null,
   "metadata": {},
   "outputs": [],
   "source": []
  },
  {
   "cell_type": "code",
   "execution_count": null,
   "metadata": {},
   "outputs": [],
   "source": [
    "df_tot.head(3)"
   ]
  },
  {
   "cell_type": "code",
   "execution_count": null,
   "metadata": {},
   "outputs": [],
   "source": []
  }
 ],
 "metadata": {
  "kernelspec": {
   "display_name": "Python 3",
   "language": "python",
   "name": "python3"
  },
  "language_info": {
   "codemirror_mode": {
    "name": "ipython",
    "version": 3
   },
   "file_extension": ".py",
   "mimetype": "text/x-python",
   "name": "python",
   "nbconvert_exporter": "python",
   "pygments_lexer": "ipython3",
   "version": "3.7.7"
  }
 },
 "nbformat": 4,
 "nbformat_minor": 4
}
