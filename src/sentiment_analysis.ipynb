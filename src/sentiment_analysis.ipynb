{
 "cells": [
  {
   "cell_type": "markdown",
   "metadata": {},
   "source": [
    "<br>\n",
    "<h1 style=\"font-family:sans-serif; text-align:center\"> \n",
    "<!--     <span style='color: pink'> Twitter analysis of </span> -->\n",
    "    <span style='color: white; font-size:50%; text-shadow: 0px 0px 15px black'> Twitter analysis of </span>\n",
    "<!--     <span style='color:#00acee'> Twitter analysis of </span> -->\n",
    "<!--     <span style=\"-webkit-text-stroke\"> Twitter analysis of</span> -->\n",
    "<!--     <span class=\"hr3\" style='color:#e40843; letter-spacing: 4px; font-size:105%'> Canada</span> -->\n",
    "    <span class=\"hr3\" style='color:#e40843; font-size:60%; text-shadow: 0px 0px 30px pink'>Canada </span> <span class=\"hr3\" style='color:gray; font-size:50%; text-shadow: 0px 0px 30px pink'>response to Covid-19</span><br>\n",
    "</h1>\n",
    "\n",
    "# Sentiment Analysis\n",
    "\n",
    "The aim of this notebook is to analyze the retrieved tweets obtained using *snscrape*, from March 1st to April 30th of 2020, from Government of Canada official Twitter accounts.\n",
    "\n",
    "_Authors: Leo Cuspinera ([cuspime](https://github.com/cuspime)) and Victor Cuspinera ([vcuspinera](https://github.com/vcuspinera))_"
   ]
  },
  {
   "cell_type": "markdown",
   "metadata": {},
   "source": [
    "## Import libraries"
   ]
  },
  {
   "cell_type": "code",
   "execution_count": 1,
   "metadata": {},
   "outputs": [],
   "source": [
    "# General libraries\n",
    "import pandas as pd\n",
    "import numpy as np\n",
    "# import os\n",
    "import time\n",
    "from datetime import datetime, timedelta, date\n",
    "# from pytz import timezone\n",
    "# import json\n",
    "\n",
    "# To plot\n",
    "import altair as alt\n",
    "alt.renderers.enable('mimetype')\n",
    "\n",
    "# Preprocess libraries\n",
    "import re\n",
    "import spacy\n",
    "import string\n",
    "import en_core_web_sm\n",
    "nlp = en_core_web_sm.load()\n",
    "\n",
    "# Ignore warnings\n",
    "import warnings\n",
    "warnings.filterwarnings(\"ignore\")"
   ]
  },
  {
   "cell_type": "markdown",
   "metadata": {},
   "source": [
    "## Open `json` file with all tweets"
   ]
  },
  {
   "cell_type": "code",
   "execution_count": 2,
   "metadata": {},
   "outputs": [],
   "source": [
    "# Parameters\n",
    "my_folder = \"../tweets/\"\n",
    "\n",
    "# Open `json` file with all tweets\n",
    "df_tot = pd.read_json(my_folder + 'tweets_db_clean.json')"
   ]
  },
  {
   "cell_type": "markdown",
   "metadata": {},
   "source": [
    "## Clean dataset"
   ]
  },
  {
   "cell_type": "markdown",
   "metadata": {},
   "source": [
    "### Select only tweets in English\n",
    "We keep 83.2% of the tweets, and we could use different packages for sentiment analysis and tokens."
   ]
  },
  {
   "cell_type": "code",
   "execution_count": 9,
   "metadata": {},
   "outputs": [
    {
     "data": {
      "text/html": [
       "<div>\n",
       "<style scoped>\n",
       "    .dataframe tbody tr th:only-of-type {\n",
       "        vertical-align: middle;\n",
       "    }\n",
       "\n",
       "    .dataframe tbody tr th {\n",
       "        vertical-align: top;\n",
       "    }\n",
       "\n",
       "    .dataframe thead th {\n",
       "        text-align: right;\n",
       "    }\n",
       "</style>\n",
       "<table border=\"1\" class=\"dataframe\">\n",
       "  <thead>\n",
       "    <tr style=\"text-align: right;\">\n",
       "      <th></th>\n",
       "      <th>account</th>\n",
       "      <th>date</th>\n",
       "      <th>replyCount</th>\n",
       "      <th>retweetCount</th>\n",
       "      <th>likeCount</th>\n",
       "      <th>quoteCount</th>\n",
       "      <th>lang</th>\n",
       "      <th>sourceLabel</th>\n",
       "      <th>username</th>\n",
       "      <th>followersCount</th>\n",
       "      <th>friendsCount</th>\n",
       "      <th>location</th>\n",
       "      <th>tweet</th>\n",
       "    </tr>\n",
       "  </thead>\n",
       "  <tbody>\n",
       "    <tr>\n",
       "      <th>0</th>\n",
       "      <td>Canada</td>\n",
       "      <td>2020-03-01 23:59:57</td>\n",
       "      <td>0</td>\n",
       "      <td>0</td>\n",
       "      <td>0</td>\n",
       "      <td>0</td>\n",
       "      <td>en</td>\n",
       "      <td>Twitter for Android</td>\n",
       "      <td>smithagog</td>\n",
       "      <td>39</td>\n",
       "      <td>73</td>\n",
       "      <td>Kelowna, British Columbia</td>\n",
       "      <td>just another traitor to canada ... hope he scr...</td>\n",
       "    </tr>\n",
       "    <tr>\n",
       "      <th>1</th>\n",
       "      <td>Canada</td>\n",
       "      <td>2020-03-01 23:59:52</td>\n",
       "      <td>0</td>\n",
       "      <td>0</td>\n",
       "      <td>0</td>\n",
       "      <td>0</td>\n",
       "      <td>en</td>\n",
       "      <td>Twitter Web App</td>\n",
       "      <td>David_Lee_Evans</td>\n",
       "      <td>116</td>\n",
       "      <td>631</td>\n",
       "      <td>Philadelphia, PA</td>\n",
       "      <td>exactly what i though, yet she has to make som...</td>\n",
       "    </tr>\n",
       "    <tr>\n",
       "      <th>2</th>\n",
       "      <td>Canada</td>\n",
       "      <td>2020-03-01 23:59:48</td>\n",
       "      <td>0</td>\n",
       "      <td>0</td>\n",
       "      <td>0</td>\n",
       "      <td>0</td>\n",
       "      <td>en</td>\n",
       "      <td>Twitter for iPhone</td>\n",
       "      <td>aggnelson</td>\n",
       "      <td>27</td>\n",
       "      <td>388</td>\n",
       "      <td></td>\n",
       "      <td>did n’t canada have 20 firefighting planes in ...</td>\n",
       "    </tr>\n",
       "  </tbody>\n",
       "</table>\n",
       "</div>"
      ],
      "text/plain": [
       "  account                date  replyCount  retweetCount  likeCount  \\\n",
       "0  Canada 2020-03-01 23:59:57           0             0          0   \n",
       "1  Canada 2020-03-01 23:59:52           0             0          0   \n",
       "2  Canada 2020-03-01 23:59:48           0             0          0   \n",
       "\n",
       "   quoteCount lang          sourceLabel         username  followersCount  \\\n",
       "0           0   en  Twitter for Android        smithagog              39   \n",
       "1           0   en      Twitter Web App  David_Lee_Evans             116   \n",
       "2           0   en   Twitter for iPhone        aggnelson              27   \n",
       "\n",
       "   friendsCount                   location  \\\n",
       "0            73  Kelowna, British Columbia   \n",
       "1           631           Philadelphia, PA   \n",
       "2           388                              \n",
       "\n",
       "                                               tweet  \n",
       "0  just another traitor to canada ... hope he scr...  \n",
       "1  exactly what i though, yet she has to make som...  \n",
       "2  did n’t canada have 20 firefighting planes in ...  "
      ]
     },
     "execution_count": 9,
     "metadata": {},
     "output_type": "execute_result"
    }
   ],
   "source": [
    "df = df_tot[df_tot['lang']=='en']\n",
    "df.head(3)"
   ]
  },
  {
   "cell_type": "markdown",
   "metadata": {},
   "source": [
    "## Analysis"
   ]
  },
  {
   "cell_type": "code",
   "execution_count": null,
   "metadata": {},
   "outputs": [],
   "source": [
    "\n"
   ]
  },
  {
   "cell_type": "code",
   "execution_count": 6,
   "metadata": {},
   "outputs": [
    {
     "data": {
      "text/plain": [
       "83.19774535335878"
      ]
     },
     "execution_count": 6,
     "metadata": {},
     "output_type": "execute_result"
    }
   ],
   "source": [
    "2915145 /3503875 *100\n"
   ]
  },
  {
   "cell_type": "code",
   "execution_count": null,
   "metadata": {},
   "outputs": [],
   "source": []
  }
 ],
 "metadata": {
  "kernelspec": {
   "display_name": "Python 3",
   "language": "python",
   "name": "python3"
  },
  "language_info": {
   "codemirror_mode": {
    "name": "ipython",
    "version": 3
   },
   "file_extension": ".py",
   "mimetype": "text/x-python",
   "name": "python",
   "nbconvert_exporter": "python",
   "pygments_lexer": "ipython3",
   "version": "3.7.7"
  }
 },
 "nbformat": 4,
 "nbformat_minor": 4
}
