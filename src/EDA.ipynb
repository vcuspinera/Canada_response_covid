{
 "cells": [
  {
   "cell_type": "markdown",
   "metadata": {},
   "source": [
    "# EDA"
   ]
  },
  {
   "cell_type": "markdown",
   "metadata": {},
   "source": [
    "### Import libraries"
   ]
  },
  {
   "cell_type": "code",
   "execution_count": 1,
   "metadata": {},
   "outputs": [],
   "source": [
    "import numpy as np\n",
    "import pandas as pd\n",
    "import collections\n",
    "import json"
   ]
  },
  {
   "cell_type": "markdown",
   "metadata": {},
   "source": [
    "### Load tweets"
   ]
  },
  {
   "cell_type": "code",
   "execution_count": 2,
   "metadata": {},
   "outputs": [],
   "source": [
    "# twitter accounts\n",
    "accounts = (\"CanadianPM\", \"Canada\", \"OpenGovCan\", \"GovCanHealth\")\n",
    "\n",
    "# Load \n",
    "tweets = collections.defaultdict(dict)\n",
    "for ac in accounts: \n",
    "    tweets[ac] = np.load('../tweets/tweets_' +ac+ '.npy',allow_pickle='TRUE').item()"
   ]
  },
  {
   "cell_type": "markdown",
   "metadata": {},
   "source": [
    "### Select useful information"
   ]
  },
  {
   "cell_type": "code",
   "execution_count": 3,
   "metadata": {},
   "outputs": [],
   "source": [
    "results = collections.defaultdict(list)\n",
    "\n",
    "for ac in accounts:\n",
    "    for dates, vec in tweets[ac].items():\n",
    "        aux_result = {}\n",
    "        for i in vec:\n",
    "            aux_hashtags = []\n",
    "            for j in i.hashtags:\n",
    "                aux_hashtags.append(j.text)\n",
    "                \n",
    "            aux_mentions = []\n",
    "            for k in i.user_mentions:\n",
    "                aux_mentions.append(k.screen_name)\n",
    "                \n",
    "            results['account'].append(ac)\n",
    "            results['date'].append(dates)\n",
    "            results['created_at'].append(i.created_at)\n",
    "            results['language'].append(i.lang)\n",
    "            results['tweet'].append(i.text)\n",
    "            results['mentions'].append(aux_mentions)\n",
    "            results['hashtags'].append(aux_hashtags)\n",
    "            results['user_followers_count'].append(i.user.followers_count) # proxy to measure impact 1\n",
    "            results['user_friends_count'].append(i.user.friends_count) # proxy to measure impact 2\n",
    "            results['user_favourites_count'].append(i.user.favourites_count)  # proxy to measure activity"
   ]
  },
  {
   "cell_type": "code",
   "execution_count": 4,
   "metadata": {},
   "outputs": [
    {
     "data": {
      "text/html": [
       "<div>\n",
       "<style scoped>\n",
       "    .dataframe tbody tr th:only-of-type {\n",
       "        vertical-align: middle;\n",
       "    }\n",
       "\n",
       "    .dataframe tbody tr th {\n",
       "        vertical-align: top;\n",
       "    }\n",
       "\n",
       "    .dataframe thead th {\n",
       "        text-align: right;\n",
       "    }\n",
       "</style>\n",
       "<table border=\"1\" class=\"dataframe\">\n",
       "  <thead>\n",
       "    <tr style=\"text-align: right;\">\n",
       "      <th></th>\n",
       "      <th>account</th>\n",
       "      <th>date</th>\n",
       "      <th>created_at</th>\n",
       "      <th>language</th>\n",
       "      <th>tweet</th>\n",
       "      <th>mentions</th>\n",
       "      <th>hashtags</th>\n",
       "      <th>user_followers_count</th>\n",
       "      <th>user_friends_count</th>\n",
       "      <th>user_favourites_count</th>\n",
       "    </tr>\n",
       "  </thead>\n",
       "  <tbody>\n",
       "    <tr>\n",
       "      <th>7444</th>\n",
       "      <td>GovCanHealth</td>\n",
       "      <td>2020-08-13</td>\n",
       "      <td>Thu Aug 13 00:40:48 +0000 2020</td>\n",
       "      <td>en</td>\n",
       "      <td>RT @mindingottawa: Pay now, verify later: reco...</td>\n",
       "      <td>[mindingottawa, GovCanHealth]</td>\n",
       "      <td>[Covid19Canada]</td>\n",
       "      <td>1332</td>\n",
       "      <td>1103</td>\n",
       "      <td>15018</td>\n",
       "    </tr>\n",
       "    <tr>\n",
       "      <th>7445</th>\n",
       "      <td>GovCanHealth</td>\n",
       "      <td>2020-08-13</td>\n",
       "      <td>Thu Aug 13 00:39:37 +0000 2020</td>\n",
       "      <td>en</td>\n",
       "      <td>RT @LindaUhrich: @MatthewHofer20 @StrongFree67...</td>\n",
       "      <td>[LindaUhrich, MatthewHofer20, StrongFree67, jd...</td>\n",
       "      <td>[]</td>\n",
       "      <td>1572</td>\n",
       "      <td>3547</td>\n",
       "      <td>25352</td>\n",
       "    </tr>\n",
       "    <tr>\n",
       "      <th>7446</th>\n",
       "      <td>GovCanHealth</td>\n",
       "      <td>2020-08-13</td>\n",
       "      <td>Thu Aug 13 00:34:28 +0000 2020</td>\n",
       "      <td>en</td>\n",
       "      <td>RT @mindingottawa: Q: “Its like there’s a rain...</td>\n",
       "      <td>[mindingottawa]</td>\n",
       "      <td>[]</td>\n",
       "      <td>1045</td>\n",
       "      <td>274</td>\n",
       "      <td>154813</td>\n",
       "    </tr>\n",
       "  </tbody>\n",
       "</table>\n",
       "</div>"
      ],
      "text/plain": [
       "           account        date                      created_at language  \\\n",
       "7444  GovCanHealth  2020-08-13  Thu Aug 13 00:40:48 +0000 2020       en   \n",
       "7445  GovCanHealth  2020-08-13  Thu Aug 13 00:39:37 +0000 2020       en   \n",
       "7446  GovCanHealth  2020-08-13  Thu Aug 13 00:34:28 +0000 2020       en   \n",
       "\n",
       "                                                  tweet  \\\n",
       "7444  RT @mindingottawa: Pay now, verify later: reco...   \n",
       "7445  RT @LindaUhrich: @MatthewHofer20 @StrongFree67...   \n",
       "7446  RT @mindingottawa: Q: “Its like there’s a rain...   \n",
       "\n",
       "                                               mentions         hashtags  \\\n",
       "7444                      [mindingottawa, GovCanHealth]  [Covid19Canada]   \n",
       "7445  [LindaUhrich, MatthewHofer20, StrongFree67, jd...               []   \n",
       "7446                                    [mindingottawa]               []   \n",
       "\n",
       "      user_followers_count  user_friends_count  user_favourites_count  \n",
       "7444                  1332                1103                  15018  \n",
       "7445                  1572                3547                  25352  \n",
       "7446                  1045                 274                 154813  "
      ]
     },
     "execution_count": 4,
     "metadata": {},
     "output_type": "execute_result"
    }
   ],
   "source": [
    "results_tweets = pd.DataFrame(results)\n",
    "results_tweets.tail(3)"
   ]
  },
  {
   "cell_type": "code",
   "execution_count": 5,
   "metadata": {},
   "outputs": [],
   "source": [
    "# save useful information as numpy file\n",
    "np.save('../data/tweets_data', results_tweets)"
   ]
  },
  {
   "cell_type": "code",
   "execution_count": 6,
   "metadata": {},
   "outputs": [
    {
     "data": {
      "text/plain": [
       "array(['2020-07-22', '2020-07-23', '2020-07-24', '2020-07-25',\n",
       "       '2020-07-26', '2020-07-27', '2020-07-28', '2020-07-29',\n",
       "       '2020-07-30', '2020-07-31', '2020-08-01', '2020-08-02',\n",
       "       '2020-08-03', '2020-08-04', '2020-08-05', '2020-08-06',\n",
       "       '2020-08-07', '2020-08-08', '2020-08-09', '2020-08-10',\n",
       "       '2020-08-11', '2020-08-12', '2020-08-13'], dtype=object)"
      ]
     },
     "execution_count": 6,
     "metadata": {},
     "output_type": "execute_result"
    }
   ],
   "source": [
    "results_tweets['date'].unique()"
   ]
  },
  {
   "cell_type": "code",
   "execution_count": null,
   "metadata": {},
   "outputs": [],
   "source": []
  }
 ],
 "metadata": {
  "kernelspec": {
   "display_name": "Python 3",
   "language": "python",
   "name": "python3"
  },
  "language_info": {
   "codemirror_mode": {
    "name": "ipython",
    "version": 3
   },
   "file_extension": ".py",
   "mimetype": "text/x-python",
   "name": "python",
   "nbconvert_exporter": "python",
   "pygments_lexer": "ipython3",
   "version": "3.7.7"
  }
 },
 "nbformat": 4,
 "nbformat_minor": 4
}
