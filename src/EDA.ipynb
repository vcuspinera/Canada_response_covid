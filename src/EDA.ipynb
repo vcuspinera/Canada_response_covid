{
 "cells": [
  {
   "cell_type": "markdown",
   "metadata": {},
   "source": [
    "<br>\n",
    "<h1 style=\"font-family:sans-serif; text-align:center\"> \n",
    "<!--     <span style='color: pink'> Twitter analysis of </span> -->\n",
    "    <span style='color: white; font-size:50%; text-shadow: 0px 0px 15px black'> Twitter analysis of </span>\n",
    "<!--     <span style='color:#00acee'> Twitter analysis of </span> -->\n",
    "<!--     <span style=\"-webkit-text-stroke\"> Twitter analysis of</span> -->\n",
    "<!--     <span class=\"hr3\" style='color:#e40843; letter-spacing: 4px; font-size:105%'> Canada</span> -->\n",
    "    <span class=\"hr3\" style='color:#e40843; font-size:60%; text-shadow: 0px 0px 30px pink'>Canada </span> <span class=\"hr3\" style='color:gray; font-size:50%; text-shadow: 0px 0px 30px pink'>response to Covid-19</span><br>\n",
    "</h1>\n",
    "\n",
    "# EDA\n",
    "\n",
    "The aim of this notebook is to make Exploratory Data Analysis (EDA) of retrieved tweets using **snscrape**, from March 1st to April 30th (2020), in order to analyze the difference in sentiment analysis of tweets from people befor and after Trudeau's [announcement of government policies facing impact of Covid-19](https://www.youtube.com/watch?v=1o-tV0A87l8&feature=youtu.be) to support small businesses and their employees.\n",
    "\n",
    "\n",
    "_Authors: [cuspime](https://github.com/cuspime) and [vcuspinera](https://github.com/vcuspinera)._"
   ]
  },
  {
   "cell_type": "markdown",
   "metadata": {},
   "source": [
    "## Import libraries"
   ]
  },
  {
   "cell_type": "code",
   "execution_count": 1,
   "metadata": {},
   "outputs": [],
   "source": [
    "# General libraries\n",
    "import pandas as pd\n",
    "import numpy as np\n",
    "import os\n",
    "import time\n",
    "from datetime import datetime, timedelta, date\n",
    "from pytz import timezone\n",
    "import altair as alt\n",
    "import json\n",
    "\n",
    "# Preprocess libraries\n",
    "import re\n",
    "import spacy\n",
    "import string\n",
    "import en_core_web_sm\n",
    "nlp = en_core_web_sm.load()\n",
    "\n",
    "# Ignore warnings\n",
    "import warnings\n",
    "warnings.filterwarnings(\"ignore\")"
   ]
  },
  {
   "cell_type": "markdown",
   "metadata": {},
   "source": [
    "## Parameters"
   ]
  },
  {
   "cell_type": "code",
   "execution_count": 2,
   "metadata": {},
   "outputs": [],
   "source": [
    "# dates\n",
    "today = datetime.now()\n",
    "init = date.fromisoformat('2020-03-01')\n",
    "\n",
    "my_dates = list()\n",
    "for d in range(0, 61, 1):\n",
    "# for d in range(0, 1, 1):\n",
    "    aux = init + timedelta(days=d)\n",
    "    my_dates.append(aux)\n",
    "\n",
    "# twitter accounts\n",
    "accounts = ('JustinTrudeau', 'CanadianPM', 'Canada', 'GovCanHealth')\n",
    "\n",
    "# max number of results\n",
    "max_results = 100_000\n",
    "\n",
    "#folder to save information\n",
    "my_folder = \"../tweets/\""
   ]
  },
  {
   "cell_type": "markdown",
   "metadata": {},
   "source": [
    "## Open `json` file with all tweets"
   ]
  },
  {
   "cell_type": "code",
   "execution_count": 3,
   "metadata": {},
   "outputs": [
    {
     "name": "stdout",
     "output_type": "stream",
     "text": [
      "CPU times: user 48.4 s, sys: 13.3 s, total: 1min 1s\n",
      "Wall time: 1min 4s\n"
     ]
    }
   ],
   "source": [
    "%%time\n",
    "\n",
    "# Open the file\n",
    "df_tot = pd.read_json(my_folder + 'tweets_db.json')"
   ]
  },
  {
   "cell_type": "markdown",
   "metadata": {},
   "source": [
    "## Basic analysis"
   ]
  },
  {
   "cell_type": "code",
   "execution_count": 4,
   "metadata": {},
   "outputs": [
    {
     "data": {
      "text/html": [
       "<div>\n",
       "<style scoped>\n",
       "    .dataframe tbody tr th:only-of-type {\n",
       "        vertical-align: middle;\n",
       "    }\n",
       "\n",
       "    .dataframe tbody tr th {\n",
       "        vertical-align: top;\n",
       "    }\n",
       "\n",
       "    .dataframe thead th {\n",
       "        text-align: right;\n",
       "    }\n",
       "</style>\n",
       "<table border=\"1\" class=\"dataframe\">\n",
       "  <thead>\n",
       "    <tr style=\"text-align: right;\">\n",
       "      <th></th>\n",
       "      <th>account</th>\n",
       "      <th>date</th>\n",
       "      <th>content</th>\n",
       "      <th>replyCount</th>\n",
       "      <th>retweetCount</th>\n",
       "      <th>likeCount</th>\n",
       "      <th>quoteCount</th>\n",
       "      <th>lang</th>\n",
       "      <th>sourceLabel</th>\n",
       "      <th>username</th>\n",
       "      <th>followersCount</th>\n",
       "      <th>friendsCount</th>\n",
       "      <th>location</th>\n",
       "    </tr>\n",
       "  </thead>\n",
       "  <tbody>\n",
       "    <tr>\n",
       "      <th>3503872</th>\n",
       "      <td>JustinTrudeau</td>\n",
       "      <td>2020-04-30 00:00:19</td>\n",
       "      <td>@RCAF_ARC @CFSnowbirds @CanadianForces @CFOper...</td>\n",
       "      <td>1</td>\n",
       "      <td>0</td>\n",
       "      <td>0</td>\n",
       "      <td>0</td>\n",
       "      <td>en</td>\n",
       "      <td>Twitter for iPhone</td>\n",
       "      <td>pffoote</td>\n",
       "      <td>356</td>\n",
       "      <td>1531</td>\n",
       "      <td>St. John's, NL, Canada</td>\n",
       "    </tr>\n",
       "    <tr>\n",
       "      <th>3503873</th>\n",
       "      <td>JustinTrudeau</td>\n",
       "      <td>2020-04-30 00:00:18</td>\n",
       "      <td>@narendramodi @JustinTrudeau WHO बौना होगा अगर...</td>\n",
       "      <td>0</td>\n",
       "      <td>0</td>\n",
       "      <td>0</td>\n",
       "      <td>0</td>\n",
       "      <td>hi</td>\n",
       "      <td>Twitter for Android</td>\n",
       "      <td>chandan24513630</td>\n",
       "      <td>1</td>\n",
       "      <td>40</td>\n",
       "      <td></td>\n",
       "    </tr>\n",
       "    <tr>\n",
       "      <th>3503874</th>\n",
       "      <td>JustinTrudeau</td>\n",
       "      <td>2020-04-30 00:00:08</td>\n",
       "      <td>@CBCNews @CTVNews @JustinTrudeau @celliottabil...</td>\n",
       "      <td>0</td>\n",
       "      <td>0</td>\n",
       "      <td>0</td>\n",
       "      <td>0</td>\n",
       "      <td>en</td>\n",
       "      <td>Twitter Web App</td>\n",
       "      <td>DavidCBarron</td>\n",
       "      <td>231</td>\n",
       "      <td>331</td>\n",
       "      <td>Brampton Ontario</td>\n",
       "    </tr>\n",
       "  </tbody>\n",
       "</table>\n",
       "</div>"
      ],
      "text/plain": [
       "               account                date  \\\n",
       "3503872  JustinTrudeau 2020-04-30 00:00:19   \n",
       "3503873  JustinTrudeau 2020-04-30 00:00:18   \n",
       "3503874  JustinTrudeau 2020-04-30 00:00:08   \n",
       "\n",
       "                                                   content  replyCount  \\\n",
       "3503872  @RCAF_ARC @CFSnowbirds @CanadianForces @CFOper...           1   \n",
       "3503873  @narendramodi @JustinTrudeau WHO बौना होगा अगर...           0   \n",
       "3503874  @CBCNews @CTVNews @JustinTrudeau @celliottabil...           0   \n",
       "\n",
       "         retweetCount  likeCount  quoteCount lang          sourceLabel  \\\n",
       "3503872             0          0           0   en   Twitter for iPhone   \n",
       "3503873             0          0           0   hi  Twitter for Android   \n",
       "3503874             0          0           0   en      Twitter Web App   \n",
       "\n",
       "                username  followersCount  friendsCount                location  \n",
       "3503872          pffoote             356          1531  St. John's, NL, Canada  \n",
       "3503873  chandan24513630               1            40                          \n",
       "3503874     DavidCBarron             231           331        Brampton Ontario  "
      ]
     },
     "execution_count": 4,
     "metadata": {},
     "output_type": "execute_result"
    }
   ],
   "source": [
    "# A first view of the data frame\n",
    "df_tot.tail(3)"
   ]
  },
  {
   "cell_type": "code",
   "execution_count": 5,
   "metadata": {},
   "outputs": [
    {
     "data": {
      "text/plain": [
       "3503875"
      ]
     },
     "execution_count": 5,
     "metadata": {},
     "output_type": "execute_result"
    }
   ],
   "source": [
    "# number of tweets\n",
    "len(df_tot)"
   ]
  },
  {
   "cell_type": "code",
   "execution_count": 6,
   "metadata": {},
   "outputs": [
    {
     "name": "stdout",
     "output_type": "stream",
     "text": [
      "CPU times: user 1.56 s, sys: 105 ms, total: 1.66 s\n",
      "Wall time: 1.66 s\n"
     ]
    },
    {
     "data": {
      "text/html": [
       "<div>\n",
       "<style scoped>\n",
       "    .dataframe tbody tr th:only-of-type {\n",
       "        vertical-align: middle;\n",
       "    }\n",
       "\n",
       "    .dataframe tbody tr th {\n",
       "        vertical-align: top;\n",
       "    }\n",
       "\n",
       "    .dataframe thead th {\n",
       "        text-align: right;\n",
       "    }\n",
       "</style>\n",
       "<table border=\"1\" class=\"dataframe\">\n",
       "  <thead>\n",
       "    <tr style=\"text-align: right;\">\n",
       "      <th></th>\n",
       "      <th>date</th>\n",
       "      <th>content</th>\n",
       "      <th>replyCount</th>\n",
       "      <th>retweetCount</th>\n",
       "      <th>likeCount</th>\n",
       "      <th>quoteCount</th>\n",
       "      <th>lang</th>\n",
       "      <th>sourceLabel</th>\n",
       "      <th>username</th>\n",
       "      <th>followersCount</th>\n",
       "      <th>friendsCount</th>\n",
       "      <th>location</th>\n",
       "    </tr>\n",
       "    <tr>\n",
       "      <th>account</th>\n",
       "      <th></th>\n",
       "      <th></th>\n",
       "      <th></th>\n",
       "      <th></th>\n",
       "      <th></th>\n",
       "      <th></th>\n",
       "      <th></th>\n",
       "      <th></th>\n",
       "      <th></th>\n",
       "      <th></th>\n",
       "      <th></th>\n",
       "      <th></th>\n",
       "    </tr>\n",
       "  </thead>\n",
       "  <tbody>\n",
       "    <tr>\n",
       "      <th>Canada</th>\n",
       "      <td>2711168</td>\n",
       "      <td>2711168</td>\n",
       "      <td>2711168</td>\n",
       "      <td>2711168</td>\n",
       "      <td>2711168</td>\n",
       "      <td>2711168</td>\n",
       "      <td>2711168</td>\n",
       "      <td>2711153</td>\n",
       "      <td>2711168</td>\n",
       "      <td>2711168</td>\n",
       "      <td>2711168</td>\n",
       "      <td>2711168</td>\n",
       "    </tr>\n",
       "    <tr>\n",
       "      <th>CanadianPM</th>\n",
       "      <td>35495</td>\n",
       "      <td>35495</td>\n",
       "      <td>35495</td>\n",
       "      <td>35495</td>\n",
       "      <td>35495</td>\n",
       "      <td>35495</td>\n",
       "      <td>35495</td>\n",
       "      <td>35495</td>\n",
       "      <td>35495</td>\n",
       "      <td>35495</td>\n",
       "      <td>35495</td>\n",
       "      <td>35495</td>\n",
       "    </tr>\n",
       "    <tr>\n",
       "      <th>GovCanHealth</th>\n",
       "      <td>24549</td>\n",
       "      <td>24549</td>\n",
       "      <td>24549</td>\n",
       "      <td>24549</td>\n",
       "      <td>24549</td>\n",
       "      <td>24549</td>\n",
       "      <td>24549</td>\n",
       "      <td>24549</td>\n",
       "      <td>24549</td>\n",
       "      <td>24549</td>\n",
       "      <td>24549</td>\n",
       "      <td>24549</td>\n",
       "    </tr>\n",
       "    <tr>\n",
       "      <th>JustinTrudeau</th>\n",
       "      <td>732663</td>\n",
       "      <td>732663</td>\n",
       "      <td>732663</td>\n",
       "      <td>732663</td>\n",
       "      <td>732663</td>\n",
       "      <td>732663</td>\n",
       "      <td>732663</td>\n",
       "      <td>732663</td>\n",
       "      <td>732663</td>\n",
       "      <td>732663</td>\n",
       "      <td>732663</td>\n",
       "      <td>732663</td>\n",
       "    </tr>\n",
       "  </tbody>\n",
       "</table>\n",
       "</div>"
      ],
      "text/plain": [
       "                  date  content  replyCount  retweetCount  likeCount  \\\n",
       "account                                                                \n",
       "Canada         2711168  2711168     2711168       2711168    2711168   \n",
       "CanadianPM       35495    35495       35495         35495      35495   \n",
       "GovCanHealth     24549    24549       24549         24549      24549   \n",
       "JustinTrudeau   732663   732663      732663        732663     732663   \n",
       "\n",
       "               quoteCount     lang  sourceLabel  username  followersCount  \\\n",
       "account                                                                     \n",
       "Canada            2711168  2711168      2711153   2711168         2711168   \n",
       "CanadianPM          35495    35495        35495     35495           35495   \n",
       "GovCanHealth        24549    24549        24549     24549           24549   \n",
       "JustinTrudeau      732663   732663       732663    732663          732663   \n",
       "\n",
       "               friendsCount  location  \n",
       "account                                \n",
       "Canada              2711168   2711168  \n",
       "CanadianPM            35495     35495  \n",
       "GovCanHealth          24549     24549  \n",
       "JustinTrudeau        732663    732663  "
      ]
     },
     "execution_count": 6,
     "metadata": {},
     "output_type": "execute_result"
    }
   ],
   "source": [
    "# Check if it contains the rigth tweets\n",
    "%time df_tot.groupby(['account']).count()"
   ]
  },
  {
   "cell_type": "code",
   "execution_count": 7,
   "metadata": {},
   "outputs": [
    {
     "data": {
      "text/html": [
       "<div>\n",
       "<style scoped>\n",
       "    .dataframe tbody tr th:only-of-type {\n",
       "        vertical-align: middle;\n",
       "    }\n",
       "\n",
       "    .dataframe tbody tr th {\n",
       "        vertical-align: top;\n",
       "    }\n",
       "\n",
       "    .dataframe thead th {\n",
       "        text-align: right;\n",
       "    }\n",
       "</style>\n",
       "<table border=\"1\" class=\"dataframe\">\n",
       "  <thead>\n",
       "    <tr style=\"text-align: right;\">\n",
       "      <th></th>\n",
       "      <th>replyCount</th>\n",
       "      <th>retweetCount</th>\n",
       "      <th>likeCount</th>\n",
       "      <th>quoteCount</th>\n",
       "      <th>followersCount</th>\n",
       "      <th>friendsCount</th>\n",
       "    </tr>\n",
       "  </thead>\n",
       "  <tbody>\n",
       "    <tr>\n",
       "      <th>count</th>\n",
       "      <td>3.503875e+06</td>\n",
       "      <td>3.503875e+06</td>\n",
       "      <td>3.503875e+06</td>\n",
       "      <td>3.503875e+06</td>\n",
       "      <td>3.503875e+06</td>\n",
       "      <td>3.503875e+06</td>\n",
       "    </tr>\n",
       "    <tr>\n",
       "      <th>mean</th>\n",
       "      <td>7.788797e-01</td>\n",
       "      <td>2.055384e+00</td>\n",
       "      <td>7.387272e+00</td>\n",
       "      <td>2.483151e-01</td>\n",
       "      <td>1.964345e+04</td>\n",
       "      <td>1.606954e+03</td>\n",
       "    </tr>\n",
       "    <tr>\n",
       "      <th>std</th>\n",
       "      <td>1.424193e+01</td>\n",
       "      <td>9.179367e+01</td>\n",
       "      <td>3.873542e+02</td>\n",
       "      <td>1.508036e+01</td>\n",
       "      <td>4.094871e+05</td>\n",
       "      <td>7.620145e+03</td>\n",
       "    </tr>\n",
       "    <tr>\n",
       "      <th>min</th>\n",
       "      <td>0.000000e+00</td>\n",
       "      <td>0.000000e+00</td>\n",
       "      <td>0.000000e+00</td>\n",
       "      <td>0.000000e+00</td>\n",
       "      <td>0.000000e+00</td>\n",
       "      <td>0.000000e+00</td>\n",
       "    </tr>\n",
       "    <tr>\n",
       "      <th>25%</th>\n",
       "      <td>0.000000e+00</td>\n",
       "      <td>0.000000e+00</td>\n",
       "      <td>0.000000e+00</td>\n",
       "      <td>0.000000e+00</td>\n",
       "      <td>9.900000e+01</td>\n",
       "      <td>1.710000e+02</td>\n",
       "    </tr>\n",
       "    <tr>\n",
       "      <th>50%</th>\n",
       "      <td>0.000000e+00</td>\n",
       "      <td>0.000000e+00</td>\n",
       "      <td>0.000000e+00</td>\n",
       "      <td>0.000000e+00</td>\n",
       "      <td>4.550000e+02</td>\n",
       "      <td>5.230000e+02</td>\n",
       "    </tr>\n",
       "    <tr>\n",
       "      <th>75%</th>\n",
       "      <td>1.000000e+00</td>\n",
       "      <td>0.000000e+00</td>\n",
       "      <td>1.000000e+00</td>\n",
       "      <td>0.000000e+00</td>\n",
       "      <td>1.835000e+03</td>\n",
       "      <td>1.450000e+03</td>\n",
       "    </tr>\n",
       "    <tr>\n",
       "      <th>max</th>\n",
       "      <td>7.498000e+03</td>\n",
       "      <td>9.977500e+04</td>\n",
       "      <td>4.676340e+05</td>\n",
       "      <td>1.500900e+04</td>\n",
       "      <td>8.380480e+07</td>\n",
       "      <td>1.441770e+06</td>\n",
       "    </tr>\n",
       "  </tbody>\n",
       "</table>\n",
       "</div>"
      ],
      "text/plain": [
       "         replyCount  retweetCount     likeCount    quoteCount  followersCount  \\\n",
       "count  3.503875e+06  3.503875e+06  3.503875e+06  3.503875e+06    3.503875e+06   \n",
       "mean   7.788797e-01  2.055384e+00  7.387272e+00  2.483151e-01    1.964345e+04   \n",
       "std    1.424193e+01  9.179367e+01  3.873542e+02  1.508036e+01    4.094871e+05   \n",
       "min    0.000000e+00  0.000000e+00  0.000000e+00  0.000000e+00    0.000000e+00   \n",
       "25%    0.000000e+00  0.000000e+00  0.000000e+00  0.000000e+00    9.900000e+01   \n",
       "50%    0.000000e+00  0.000000e+00  0.000000e+00  0.000000e+00    4.550000e+02   \n",
       "75%    1.000000e+00  0.000000e+00  1.000000e+00  0.000000e+00    1.835000e+03   \n",
       "max    7.498000e+03  9.977500e+04  4.676340e+05  1.500900e+04    8.380480e+07   \n",
       "\n",
       "       friendsCount  \n",
       "count  3.503875e+06  \n",
       "mean   1.606954e+03  \n",
       "std    7.620145e+03  \n",
       "min    0.000000e+00  \n",
       "25%    1.710000e+02  \n",
       "50%    5.230000e+02  \n",
       "75%    1.450000e+03  \n",
       "max    1.441770e+06  "
      ]
     },
     "execution_count": 7,
     "metadata": {},
     "output_type": "execute_result"
    }
   ],
   "source": [
    "df_tot.describe()"
   ]
  },
  {
   "cell_type": "code",
   "execution_count": 8,
   "metadata": {},
   "outputs": [
    {
     "data": {
      "text/plain": [
       "account                 4\n",
       "date              2338472\n",
       "content           3306846\n",
       "replyCount            681\n",
       "retweetCount         1391\n",
       "likeCount            2759\n",
       "quoteCount            444\n",
       "lang                   62\n",
       "sourceLabel          6264\n",
       "username          1069132\n",
       "followersCount      65596\n",
       "friendsCount        21186\n",
       "location           223513\n",
       "dtype: int64"
      ]
     },
     "execution_count": 8,
     "metadata": {},
     "output_type": "execute_result"
    }
   ],
   "source": [
    "# See the number of unique terms per each variable\n",
    "df_tot.nunique()"
   ]
  },
  {
   "cell_type": "code",
   "execution_count": 9,
   "metadata": {},
   "outputs": [
    {
     "name": "stdout",
     "output_type": "stream",
     "text": [
      "Number of tweets by Account:\n",
      "\n"
     ]
    },
    {
     "data": {
      "text/html": [
       "<div>\n",
       "<style scoped>\n",
       "    .dataframe tbody tr th:only-of-type {\n",
       "        vertical-align: middle;\n",
       "    }\n",
       "\n",
       "    .dataframe tbody tr th {\n",
       "        vertical-align: top;\n",
       "    }\n",
       "\n",
       "    .dataframe thead th {\n",
       "        text-align: right;\n",
       "    }\n",
       "</style>\n",
       "<table border=\"1\" class=\"dataframe\">\n",
       "  <thead>\n",
       "    <tr style=\"text-align: right;\">\n",
       "      <th></th>\n",
       "      <th>account</th>\n",
       "    </tr>\n",
       "  </thead>\n",
       "  <tbody>\n",
       "    <tr>\n",
       "      <th>Canada</th>\n",
       "      <td>2711168</td>\n",
       "    </tr>\n",
       "    <tr>\n",
       "      <th>JustinTrudeau</th>\n",
       "      <td>732663</td>\n",
       "    </tr>\n",
       "    <tr>\n",
       "      <th>CanadianPM</th>\n",
       "      <td>35495</td>\n",
       "    </tr>\n",
       "    <tr>\n",
       "      <th>GovCanHealth</th>\n",
       "      <td>24549</td>\n",
       "    </tr>\n",
       "  </tbody>\n",
       "</table>\n",
       "</div>"
      ],
      "text/plain": [
       "               account\n",
       "Canada         2711168\n",
       "JustinTrudeau   732663\n",
       "CanadianPM       35495\n",
       "GovCanHealth     24549"
      ]
     },
     "execution_count": 9,
     "metadata": {},
     "output_type": "execute_result"
    }
   ],
   "source": [
    "# tweets by `Account`\n",
    "print(\"Number of tweets by Account:\\n\")\n",
    "pd.DataFrame(df_tot['account'].value_counts())"
   ]
  },
  {
   "cell_type": "code",
   "execution_count": 10,
   "metadata": {},
   "outputs": [
    {
     "name": "stdout",
     "output_type": "stream",
     "text": [
      "Number of tweets by Languages:\n",
      "  -- the most used ones --\n",
      "\n"
     ]
    },
    {
     "data": {
      "text/html": [
       "<div>\n",
       "<style scoped>\n",
       "    .dataframe tbody tr th:only-of-type {\n",
       "        vertical-align: middle;\n",
       "    }\n",
       "\n",
       "    .dataframe tbody tr th {\n",
       "        vertical-align: top;\n",
       "    }\n",
       "\n",
       "    .dataframe thead th {\n",
       "        text-align: right;\n",
       "    }\n",
       "</style>\n",
       "<table border=\"1\" class=\"dataframe\">\n",
       "  <thead>\n",
       "    <tr style=\"text-align: right;\">\n",
       "      <th></th>\n",
       "      <th>Language_code</th>\n",
       "      <th>Name</th>\n",
       "      <th>tweets</th>\n",
       "    </tr>\n",
       "  </thead>\n",
       "  <tbody>\n",
       "    <tr>\n",
       "      <th>0</th>\n",
       "      <td>en</td>\n",
       "      <td>English (default)</td>\n",
       "      <td>2915145</td>\n",
       "    </tr>\n",
       "    <tr>\n",
       "      <th>1</th>\n",
       "      <td>es</td>\n",
       "      <td>Spanish</td>\n",
       "      <td>212901</td>\n",
       "    </tr>\n",
       "    <tr>\n",
       "      <th>2</th>\n",
       "      <td>fr</td>\n",
       "      <td>French</td>\n",
       "      <td>135014</td>\n",
       "    </tr>\n",
       "    <tr>\n",
       "      <th>3</th>\n",
       "      <td>und</td>\n",
       "      <td>NaN</td>\n",
       "      <td>91355</td>\n",
       "    </tr>\n",
       "    <tr>\n",
       "      <th>4</th>\n",
       "      <td>pt</td>\n",
       "      <td>Portuguese</td>\n",
       "      <td>48713</td>\n",
       "    </tr>\n",
       "  </tbody>\n",
       "</table>\n",
       "</div>"
      ],
      "text/plain": [
       "  Language_code               Name   tweets\n",
       "0            en  English (default)  2915145\n",
       "1            es            Spanish   212901\n",
       "2            fr             French   135014\n",
       "3           und                NaN    91355\n",
       "4            pt         Portuguese    48713"
      ]
     },
     "execution_count": 10,
     "metadata": {},
     "output_type": "execute_result"
    }
   ],
   "source": [
    "# tweets by `language`\n",
    "languages_twitter = pd.read_csv(my_folder + \"twitter_supported_languages.csv\", skiprows=5)\n",
    "languages_twitter\n",
    "\n",
    "print(\"Number of tweets by Languages:\")\n",
    "print(\"  -- the most used ones --\\n\")\n",
    "data_langs = pd.DataFrame(df_tot['lang'].value_counts().head()).\\\n",
    "            reset_index().rename(columns={'index':'Language_code', 'lang':'tweets'})\n",
    "\n",
    "# languages_twitter\n",
    "pd.merge(languages_twitter, data_langs, how=\"right\", on=[\"Language_code\", \"Language_code\"])\n"
   ]
  },
  {
   "cell_type": "markdown",
   "metadata": {},
   "source": [
    "## EDA Plots"
   ]
  },
  {
   "cell_type": "code",
   "execution_count": 11,
   "metadata": {},
   "outputs": [
    {
     "name": "stdout",
     "output_type": "stream",
     "text": [
      "CPU times: user 1min 25s, sys: 68.4 ms, total: 1min 25s\n",
      "Wall time: 1min 25s\n"
     ]
    }
   ],
   "source": [
    "%%time\n",
    "\n",
    "# add column with day\n",
    "df_tot['day'] = [df_tot['date'][i].strftime(\"%Y-%m-%d\") for i in range(len(df_tot))]"
   ]
  },
  {
   "cell_type": "code",
   "execution_count": 12,
   "metadata": {},
   "outputs": [
    {
     "data": {
      "application/vnd.vegalite.v4+json": {
       "$schema": "https://vega.github.io/schema/vega-lite/v4.8.1.json",
       "config": {
        "view": {
         "continuousHeight": 300,
         "continuousWidth": 400
        }
       },
       "datasets": {
        "data-9b1a518d0e1aee36a8d6b9d861e8a5e0": [
         {
          "color": "orchid",
          "day": "2020-03-29",
          "y": 30000
         }
        ],
        "data-daf439ad112062105ec1009affdc5e0f": [
         {
          "color": "orchid",
          "day": "2020-03-27"
         }
        ],
        "data-fbdfd6108d0fc638eab474b5ed13280f": [
         {
          "account": "Canada",
          "content": 30429,
          "day": "2020-03-01"
         },
         {
          "account": "Canada",
          "content": 34689,
          "day": "2020-03-02"
         },
         {
          "account": "Canada",
          "content": 36879,
          "day": "2020-03-03"
         },
         {
          "account": "Canada",
          "content": 39812,
          "day": "2020-03-04"
         },
         {
          "account": "Canada",
          "content": 38378,
          "day": "2020-03-05"
         },
         {
          "account": "Canada",
          "content": 38261,
          "day": "2020-03-06"
         },
         {
          "account": "Canada",
          "content": 29992,
          "day": "2020-03-07"
         },
         {
          "account": "Canada",
          "content": 29162,
          "day": "2020-03-08"
         },
         {
          "account": "Canada",
          "content": 36848,
          "day": "2020-03-09"
         },
         {
          "account": "Canada",
          "content": 38821,
          "day": "2020-03-10"
         },
         {
          "account": "Canada",
          "content": 40261,
          "day": "2020-03-11"
         },
         {
          "account": "Canada",
          "content": 51318,
          "day": "2020-03-12"
         },
         {
          "account": "Canada",
          "content": 62186,
          "day": "2020-03-13"
         },
         {
          "account": "Canada",
          "content": 47167,
          "day": "2020-03-14"
         },
         {
          "account": "Canada",
          "content": 44111,
          "day": "2020-03-15"
         },
         {
          "account": "Canada",
          "content": 61410,
          "day": "2020-03-16"
         },
         {
          "account": "Canada",
          "content": 49782,
          "day": "2020-03-17"
         },
         {
          "account": "Canada",
          "content": 62388,
          "day": "2020-03-18"
         },
         {
          "account": "Canada",
          "content": 49162,
          "day": "2020-03-19"
         },
         {
          "account": "Canada",
          "content": 52218,
          "day": "2020-03-20"
         },
         {
          "account": "Canada",
          "content": 42651,
          "day": "2020-03-21"
         },
         {
          "account": "Canada",
          "content": 40552,
          "day": "2020-03-22"
         },
         {
          "account": "Canada",
          "content": 57727,
          "day": "2020-03-23"
         },
         {
          "account": "Canada",
          "content": 48550,
          "day": "2020-03-24"
         },
         {
          "account": "Canada",
          "content": 51966,
          "day": "2020-03-25"
         },
         {
          "account": "Canada",
          "content": 58306,
          "day": "2020-03-26"
         },
         {
          "account": "Canada",
          "content": 56972,
          "day": "2020-03-27"
         },
         {
          "account": "Canada",
          "content": 43101,
          "day": "2020-03-28"
         },
         {
          "account": "Canada",
          "content": 42633,
          "day": "2020-03-29"
         },
         {
          "account": "Canada",
          "content": 44248,
          "day": "2020-03-30"
         },
         {
          "account": "Canada",
          "content": 47400,
          "day": "2020-03-31"
         },
         {
          "account": "Canada",
          "content": 44880,
          "day": "2020-04-01"
         },
         {
          "account": "Canada",
          "content": 47034,
          "day": "2020-04-02"
         },
         {
          "account": "Canada",
          "content": 58112,
          "day": "2020-04-03"
         },
         {
          "account": "Canada",
          "content": 53487,
          "day": "2020-04-04"
         },
         {
          "account": "Canada",
          "content": 45404,
          "day": "2020-04-05"
         },
         {
          "account": "Canada",
          "content": 47186,
          "day": "2020-04-06"
         },
         {
          "account": "Canada",
          "content": 45285,
          "day": "2020-04-07"
         },
         {
          "account": "Canada",
          "content": 46561,
          "day": "2020-04-08"
         },
         {
          "account": "Canada",
          "content": 45205,
          "day": "2020-04-09"
         },
         {
          "account": "Canada",
          "content": 41587,
          "day": "2020-04-10"
         },
         {
          "account": "Canada",
          "content": 39495,
          "day": "2020-04-11"
         },
         {
          "account": "Canada",
          "content": 34709,
          "day": "2020-04-12"
         },
         {
          "account": "Canada",
          "content": 39327,
          "day": "2020-04-13"
         },
         {
          "account": "Canada",
          "content": 42130,
          "day": "2020-04-14"
         },
         {
          "account": "Canada",
          "content": 46216,
          "day": "2020-04-15"
         },
         {
          "account": "Canada",
          "content": 46446,
          "day": "2020-04-16"
         },
         {
          "account": "Canada",
          "content": 45727,
          "day": "2020-04-17"
         },
         {
          "account": "Canada",
          "content": 41058,
          "day": "2020-04-18"
         },
         {
          "account": "Canada",
          "content": 41066,
          "day": "2020-04-19"
         },
         {
          "account": "Canada",
          "content": 55672,
          "day": "2020-04-20"
         },
         {
          "account": "Canada",
          "content": 46077,
          "day": "2020-04-21"
         },
         {
          "account": "Canada",
          "content": 44670,
          "day": "2020-04-22"
         },
         {
          "account": "Canada",
          "content": 43982,
          "day": "2020-04-23"
         },
         {
          "account": "Canada",
          "content": 42381,
          "day": "2020-04-24"
         },
         {
          "account": "Canada",
          "content": 34686,
          "day": "2020-04-25"
         },
         {
          "account": "Canada",
          "content": 32171,
          "day": "2020-04-26"
         },
         {
          "account": "Canada",
          "content": 36806,
          "day": "2020-04-27"
         },
         {
          "account": "Canada",
          "content": 38449,
          "day": "2020-04-28"
         },
         {
          "account": "Canada",
          "content": 38479,
          "day": "2020-04-29"
         },
         {
          "account": "Canada",
          "content": 39500,
          "day": "2020-04-30"
         },
         {
          "account": "CanadianPM",
          "content": 158,
          "day": "2020-03-01"
         },
         {
          "account": "CanadianPM",
          "content": 189,
          "day": "2020-03-02"
         },
         {
          "account": "CanadianPM",
          "content": 219,
          "day": "2020-03-03"
         },
         {
          "account": "CanadianPM",
          "content": 248,
          "day": "2020-03-04"
         },
         {
          "account": "CanadianPM",
          "content": 296,
          "day": "2020-03-05"
         },
         {
          "account": "CanadianPM",
          "content": 189,
          "day": "2020-03-06"
         },
         {
          "account": "CanadianPM",
          "content": 149,
          "day": "2020-03-07"
         },
         {
          "account": "CanadianPM",
          "content": 131,
          "day": "2020-03-08"
         },
         {
          "account": "CanadianPM",
          "content": 261,
          "day": "2020-03-09"
         },
         {
          "account": "CanadianPM",
          "content": 171,
          "day": "2020-03-10"
         },
         {
          "account": "CanadianPM",
          "content": 264,
          "day": "2020-03-11"
         },
         {
          "account": "CanadianPM",
          "content": 632,
          "day": "2020-03-12"
         },
         {
          "account": "CanadianPM",
          "content": 493,
          "day": "2020-03-13"
         },
         {
          "account": "CanadianPM",
          "content": 645,
          "day": "2020-03-14"
         },
         {
          "account": "CanadianPM",
          "content": 672,
          "day": "2020-03-15"
         },
         {
          "account": "CanadianPM",
          "content": 895,
          "day": "2020-03-16"
         },
         {
          "account": "CanadianPM",
          "content": 1137,
          "day": "2020-03-17"
         },
         {
          "account": "CanadianPM",
          "content": 1029,
          "day": "2020-03-18"
         },
         {
          "account": "CanadianPM",
          "content": 705,
          "day": "2020-03-19"
         },
         {
          "account": "CanadianPM",
          "content": 585,
          "day": "2020-03-20"
         },
         {
          "account": "CanadianPM",
          "content": 614,
          "day": "2020-03-21"
         },
         {
          "account": "CanadianPM",
          "content": 954,
          "day": "2020-03-22"
         },
         {
          "account": "CanadianPM",
          "content": 825,
          "day": "2020-03-23"
         },
         {
          "account": "CanadianPM",
          "content": 777,
          "day": "2020-03-24"
         },
         {
          "account": "CanadianPM",
          "content": 887,
          "day": "2020-03-25"
         },
         {
          "account": "CanadianPM",
          "content": 1207,
          "day": "2020-03-26"
         },
         {
          "account": "CanadianPM",
          "content": 687,
          "day": "2020-03-27"
         },
         {
          "account": "CanadianPM",
          "content": 819,
          "day": "2020-03-28"
         },
         {
          "account": "CanadianPM",
          "content": 910,
          "day": "2020-03-29"
         },
         {
          "account": "CanadianPM",
          "content": 615,
          "day": "2020-03-30"
         },
         {
          "account": "CanadianPM",
          "content": 579,
          "day": "2020-03-31"
         },
         {
          "account": "CanadianPM",
          "content": 531,
          "day": "2020-04-01"
         },
         {
          "account": "CanadianPM",
          "content": 739,
          "day": "2020-04-02"
         },
         {
          "account": "CanadianPM",
          "content": 661,
          "day": "2020-04-03"
         },
         {
          "account": "CanadianPM",
          "content": 604,
          "day": "2020-04-04"
         },
         {
          "account": "CanadianPM",
          "content": 947,
          "day": "2020-04-05"
         },
         {
          "account": "CanadianPM",
          "content": 852,
          "day": "2020-04-06"
         },
         {
          "account": "CanadianPM",
          "content": 637,
          "day": "2020-04-07"
         },
         {
          "account": "CanadianPM",
          "content": 588,
          "day": "2020-04-08"
         },
         {
          "account": "CanadianPM",
          "content": 591,
          "day": "2020-04-09"
         },
         {
          "account": "CanadianPM",
          "content": 600,
          "day": "2020-04-10"
         },
         {
          "account": "CanadianPM",
          "content": 438,
          "day": "2020-04-11"
         },
         {
          "account": "CanadianPM",
          "content": 386,
          "day": "2020-04-12"
         },
         {
          "account": "CanadianPM",
          "content": 386,
          "day": "2020-04-13"
         },
         {
          "account": "CanadianPM",
          "content": 407,
          "day": "2020-04-14"
         },
         {
          "account": "CanadianPM",
          "content": 576,
          "day": "2020-04-15"
         },
         {
          "account": "CanadianPM",
          "content": 877,
          "day": "2020-04-16"
         },
         {
          "account": "CanadianPM",
          "content": 563,
          "day": "2020-04-17"
         },
         {
          "account": "CanadianPM",
          "content": 440,
          "day": "2020-04-18"
         },
         {
          "account": "CanadianPM",
          "content": 508,
          "day": "2020-04-19"
         },
         {
          "account": "CanadianPM",
          "content": 410,
          "day": "2020-04-20"
         },
         {
          "account": "CanadianPM",
          "content": 853,
          "day": "2020-04-21"
         },
         {
          "account": "CanadianPM",
          "content": 1079,
          "day": "2020-04-22"
         },
         {
          "account": "CanadianPM",
          "content": 652,
          "day": "2020-04-23"
         },
         {
          "account": "CanadianPM",
          "content": 750,
          "day": "2020-04-24"
         },
         {
          "account": "CanadianPM",
          "content": 393,
          "day": "2020-04-25"
         },
         {
          "account": "CanadianPM",
          "content": 394,
          "day": "2020-04-26"
         },
         {
          "account": "CanadianPM",
          "content": 434,
          "day": "2020-04-27"
         },
         {
          "account": "CanadianPM",
          "content": 533,
          "day": "2020-04-28"
         },
         {
          "account": "CanadianPM",
          "content": 362,
          "day": "2020-04-29"
         },
         {
          "account": "CanadianPM",
          "content": 362,
          "day": "2020-04-30"
         },
         {
          "account": "GovCanHealth",
          "content": 157,
          "day": "2020-03-01"
         },
         {
          "account": "GovCanHealth",
          "content": 220,
          "day": "2020-03-02"
         },
         {
          "account": "GovCanHealth",
          "content": 215,
          "day": "2020-03-03"
         },
         {
          "account": "GovCanHealth",
          "content": 216,
          "day": "2020-03-04"
         },
         {
          "account": "GovCanHealth",
          "content": 219,
          "day": "2020-03-05"
         },
         {
          "account": "GovCanHealth",
          "content": 205,
          "day": "2020-03-06"
         },
         {
          "account": "GovCanHealth",
          "content": 133,
          "day": "2020-03-07"
         },
         {
          "account": "GovCanHealth",
          "content": 135,
          "day": "2020-03-08"
         },
         {
          "account": "GovCanHealth",
          "content": 257,
          "day": "2020-03-09"
         },
         {
          "account": "GovCanHealth",
          "content": 297,
          "day": "2020-03-10"
         },
         {
          "account": "GovCanHealth",
          "content": 811,
          "day": "2020-03-11"
         },
         {
          "account": "GovCanHealth",
          "content": 532,
          "day": "2020-03-12"
         },
         {
          "account": "GovCanHealth",
          "content": 733,
          "day": "2020-03-13"
         },
         {
          "account": "GovCanHealth",
          "content": 470,
          "day": "2020-03-14"
         },
         {
          "account": "GovCanHealth",
          "content": 1188,
          "day": "2020-03-15"
         },
         {
          "account": "GovCanHealth",
          "content": 1015,
          "day": "2020-03-16"
         },
         {
          "account": "GovCanHealth",
          "content": 854,
          "day": "2020-03-17"
         },
         {
          "account": "GovCanHealth",
          "content": 625,
          "day": "2020-03-18"
         },
         {
          "account": "GovCanHealth",
          "content": 679,
          "day": "2020-03-19"
         },
         {
          "account": "GovCanHealth",
          "content": 880,
          "day": "2020-03-20"
         },
         {
          "account": "GovCanHealth",
          "content": 615,
          "day": "2020-03-21"
         },
         {
          "account": "GovCanHealth",
          "content": 743,
          "day": "2020-03-22"
         },
         {
          "account": "GovCanHealth",
          "content": 724,
          "day": "2020-03-23"
         },
         {
          "account": "GovCanHealth",
          "content": 540,
          "day": "2020-03-24"
         },
         {
          "account": "GovCanHealth",
          "content": 523,
          "day": "2020-03-25"
         },
         {
          "account": "GovCanHealth",
          "content": 498,
          "day": "2020-03-26"
         },
         {
          "account": "GovCanHealth",
          "content": 534,
          "day": "2020-03-27"
         },
         {
          "account": "GovCanHealth",
          "content": 502,
          "day": "2020-03-28"
         },
         {
          "account": "GovCanHealth",
          "content": 388,
          "day": "2020-03-29"
         },
         {
          "account": "GovCanHealth",
          "content": 462,
          "day": "2020-03-30"
         },
         {
          "account": "GovCanHealth",
          "content": 453,
          "day": "2020-03-31"
         },
         {
          "account": "GovCanHealth",
          "content": 328,
          "day": "2020-04-01"
         },
         {
          "account": "GovCanHealth",
          "content": 377,
          "day": "2020-04-02"
         },
         {
          "account": "GovCanHealth",
          "content": 402,
          "day": "2020-04-03"
         },
         {
          "account": "GovCanHealth",
          "content": 255,
          "day": "2020-04-04"
         },
         {
          "account": "GovCanHealth",
          "content": 320,
          "day": "2020-04-05"
         },
         {
          "account": "GovCanHealth",
          "content": 366,
          "day": "2020-04-06"
         },
         {
          "account": "GovCanHealth",
          "content": 277,
          "day": "2020-04-07"
         },
         {
          "account": "GovCanHealth",
          "content": 342,
          "day": "2020-04-08"
         },
         {
          "account": "GovCanHealth",
          "content": 373,
          "day": "2020-04-09"
         },
         {
          "account": "GovCanHealth",
          "content": 355,
          "day": "2020-04-10"
         },
         {
          "account": "GovCanHealth",
          "content": 220,
          "day": "2020-04-11"
         },
         {
          "account": "GovCanHealth",
          "content": 133,
          "day": "2020-04-12"
         },
         {
          "account": "GovCanHealth",
          "content": 247,
          "day": "2020-04-13"
         },
         {
          "account": "GovCanHealth",
          "content": 356,
          "day": "2020-04-14"
         },
         {
          "account": "GovCanHealth",
          "content": 555,
          "day": "2020-04-15"
         },
         {
          "account": "GovCanHealth",
          "content": 397,
          "day": "2020-04-16"
         },
         {
          "account": "GovCanHealth",
          "content": 335,
          "day": "2020-04-17"
         },
         {
          "account": "GovCanHealth",
          "content": 203,
          "day": "2020-04-18"
         },
         {
          "account": "GovCanHealth",
          "content": 203,
          "day": "2020-04-19"
         },
         {
          "account": "GovCanHealth",
          "content": 251,
          "day": "2020-04-20"
         },
         {
          "account": "GovCanHealth",
          "content": 188,
          "day": "2020-04-21"
         },
         {
          "account": "GovCanHealth",
          "content": 199,
          "day": "2020-04-22"
         },
         {
          "account": "GovCanHealth",
          "content": 294,
          "day": "2020-04-23"
         },
         {
          "account": "GovCanHealth",
          "content": 159,
          "day": "2020-04-24"
         },
         {
          "account": "GovCanHealth",
          "content": 105,
          "day": "2020-04-25"
         },
         {
          "account": "GovCanHealth",
          "content": 169,
          "day": "2020-04-26"
         },
         {
          "account": "GovCanHealth",
          "content": 357,
          "day": "2020-04-27"
         },
         {
          "account": "GovCanHealth",
          "content": 374,
          "day": "2020-04-28"
         },
         {
          "account": "GovCanHealth",
          "content": 261,
          "day": "2020-04-29"
         },
         {
          "account": "GovCanHealth",
          "content": 325,
          "day": "2020-04-30"
         },
         {
          "account": "JustinTrudeau",
          "content": 4556,
          "day": "2020-03-01"
         },
         {
          "account": "JustinTrudeau",
          "content": 3818,
          "day": "2020-03-02"
         },
         {
          "account": "JustinTrudeau",
          "content": 4881,
          "day": "2020-03-03"
         },
         {
          "account": "JustinTrudeau",
          "content": 5766,
          "day": "2020-03-04"
         },
         {
          "account": "JustinTrudeau",
          "content": 5350,
          "day": "2020-03-05"
         },
         {
          "account": "JustinTrudeau",
          "content": 5506,
          "day": "2020-03-06"
         },
         {
          "account": "JustinTrudeau",
          "content": 3558,
          "day": "2020-03-07"
         },
         {
          "account": "JustinTrudeau",
          "content": 4883,
          "day": "2020-03-08"
         },
         {
          "account": "JustinTrudeau",
          "content": 6156,
          "day": "2020-03-09"
         },
         {
          "account": "JustinTrudeau",
          "content": 5862,
          "day": "2020-03-10"
         },
         {
          "account": "JustinTrudeau",
          "content": 7046,
          "day": "2020-03-11"
         },
         {
          "account": "JustinTrudeau",
          "content": 16955,
          "day": "2020-03-12"
         },
         {
          "account": "JustinTrudeau",
          "content": 29712,
          "day": "2020-03-13"
         },
         {
          "account": "JustinTrudeau",
          "content": 18482,
          "day": "2020-03-14"
         },
         {
          "account": "JustinTrudeau",
          "content": 17140,
          "day": "2020-03-15"
         },
         {
          "account": "JustinTrudeau",
          "content": 25094,
          "day": "2020-03-16"
         },
         {
          "account": "JustinTrudeau",
          "content": 18088,
          "day": "2020-03-17"
         },
         {
          "account": "JustinTrudeau",
          "content": 16916,
          "day": "2020-03-18"
         },
         {
          "account": "JustinTrudeau",
          "content": 15719,
          "day": "2020-03-19"
         },
         {
          "account": "JustinTrudeau",
          "content": 17221,
          "day": "2020-03-20"
         },
         {
          "account": "JustinTrudeau",
          "content": 15052,
          "day": "2020-03-21"
         },
         {
          "account": "JustinTrudeau",
          "content": 15811,
          "day": "2020-03-22"
         },
         {
          "account": "JustinTrudeau",
          "content": 17472,
          "day": "2020-03-23"
         },
         {
          "account": "JustinTrudeau",
          "content": 23213,
          "day": "2020-03-24"
         },
         {
          "account": "JustinTrudeau",
          "content": 19716,
          "day": "2020-03-25"
         },
         {
          "account": "JustinTrudeau",
          "content": 15585,
          "day": "2020-03-26"
         },
         {
          "account": "JustinTrudeau",
          "content": 15225,
          "day": "2020-03-27"
         },
         {
          "account": "JustinTrudeau",
          "content": 12925,
          "day": "2020-03-28"
         },
         {
          "account": "JustinTrudeau",
          "content": 15729,
          "day": "2020-03-29"
         },
         {
          "account": "JustinTrudeau",
          "content": 12984,
          "day": "2020-03-30"
         },
         {
          "account": "JustinTrudeau",
          "content": 14578,
          "day": "2020-03-31"
         },
         {
          "account": "JustinTrudeau",
          "content": 13996,
          "day": "2020-04-01"
         },
         {
          "account": "JustinTrudeau",
          "content": 13335,
          "day": "2020-04-02"
         },
         {
          "account": "JustinTrudeau",
          "content": 13829,
          "day": "2020-04-03"
         },
         {
          "account": "JustinTrudeau",
          "content": 11413,
          "day": "2020-04-04"
         },
         {
          "account": "JustinTrudeau",
          "content": 10827,
          "day": "2020-04-05"
         },
         {
          "account": "JustinTrudeau",
          "content": 12439,
          "day": "2020-04-06"
         },
         {
          "account": "JustinTrudeau",
          "content": 12681,
          "day": "2020-04-07"
         },
         {
          "account": "JustinTrudeau",
          "content": 11142,
          "day": "2020-04-08"
         },
         {
          "account": "JustinTrudeau",
          "content": 10326,
          "day": "2020-04-09"
         },
         {
          "account": "JustinTrudeau",
          "content": 11424,
          "day": "2020-04-10"
         },
         {
          "account": "JustinTrudeau",
          "content": 8958,
          "day": "2020-04-11"
         },
         {
          "account": "JustinTrudeau",
          "content": 8036,
          "day": "2020-04-12"
         },
         {
          "account": "JustinTrudeau",
          "content": 11774,
          "day": "2020-04-13"
         },
         {
          "account": "JustinTrudeau",
          "content": 12337,
          "day": "2020-04-14"
         },
         {
          "account": "JustinTrudeau",
          "content": 12976,
          "day": "2020-04-15"
         },
         {
          "account": "JustinTrudeau",
          "content": 10971,
          "day": "2020-04-16"
         },
         {
          "account": "JustinTrudeau",
          "content": 11347,
          "day": "2020-04-17"
         },
         {
          "account": "JustinTrudeau",
          "content": 10621,
          "day": "2020-04-18"
         },
         {
          "account": "JustinTrudeau",
          "content": 10501,
          "day": "2020-04-19"
         },
         {
          "account": "JustinTrudeau",
          "content": 10663,
          "day": "2020-04-20"
         },
         {
          "account": "JustinTrudeau",
          "content": 10587,
          "day": "2020-04-21"
         },
         {
          "account": "JustinTrudeau",
          "content": 11839,
          "day": "2020-04-22"
         },
         {
          "account": "JustinTrudeau",
          "content": 11460,
          "day": "2020-04-23"
         },
         {
          "account": "JustinTrudeau",
          "content": 10596,
          "day": "2020-04-24"
         },
         {
          "account": "JustinTrudeau",
          "content": 8499,
          "day": "2020-04-25"
         },
         {
          "account": "JustinTrudeau",
          "content": 6188,
          "day": "2020-04-26"
         },
         {
          "account": "JustinTrudeau",
          "content": 6954,
          "day": "2020-04-27"
         },
         {
          "account": "JustinTrudeau",
          "content": 10101,
          "day": "2020-04-28"
         },
         {
          "account": "JustinTrudeau",
          "content": 8597,
          "day": "2020-04-29"
         },
         {
          "account": "JustinTrudeau",
          "content": 7247,
          "day": "2020-04-30"
         }
        ]
       },
       "layer": [
        {
         "data": {
          "name": "data-daf439ad112062105ec1009affdc5e0f"
         },
         "encoding": {
          "color": {
           "field": "color",
           "scale": null,
           "title": "",
           "type": "nominal"
          },
          "x": {
           "field": "day",
           "type": "temporal"
          }
         },
         "mark": {
          "size": 3,
          "strokeDash": [
           6,
           3
          ],
          "type": "rule"
         }
        },
        {
         "data": {
          "name": "data-fbdfd6108d0fc638eab474b5ed13280f"
         },
         "encoding": {
          "color": {
           "field": "account",
           "type": "nominal"
          },
          "x": {
           "field": "day",
           "title": "Day",
           "type": "temporal"
          },
          "y": {
           "field": "content",
           "title": "Number of tweets",
           "type": "quantitative"
          }
         },
         "mark": "line",
         "title": "Tweets per Day by Account"
        },
        {
         "data": {
          "name": "data-9b1a518d0e1aee36a8d6b9d861e8a5e0"
         },
         "encoding": {
          "color": {
           "field": "color",
           "scale": null,
           "title": "",
           "type": "nominal"
          },
          "x": {
           "field": "day",
           "type": "temporal"
          },
          "y": {
           "field": "y",
           "type": "quantitative"
          }
         },
         "mark": {
          "angle": 270,
          "size": 12,
          "text": "Announcement",
          "type": "text"
         }
        }
       ]
      },
      "image/png": "[encoded data removed]",
      "text/plain": [
       "<VegaLite 4 object>\n",
       "\n",
       "If you see this message, it means the renderer has not been properly enabled\n",
       "for the frontend that you are using. For more information, see\n",
       "https://altair-viz.github.io/user_guide/troubleshooting.html\n"
      ]
     },
     "execution_count": 12,
     "metadata": {},
     "output_type": "execute_result"
    }
   ],
   "source": [
    "# tweets per day by account\n",
    "\n",
    "alt.renderers.enable('mimetype')\n",
    "\n",
    "\n",
    "df_aux = pd.DataFrame(df_tot.groupby(['account', 'day'])['content'].count()).reset_index()\n",
    "\n",
    "base = alt.Chart(df_aux)\n",
    "\n",
    "lines = base.mark_line().encode(\n",
    "    x = alt.X('day:T', title=\"Day\"),\n",
    "    y = alt.Y('content:Q', title=\"Number of tweets\"),\n",
    "    color = alt.Color('account')#, title=\"Account\")\n",
    ").properties(\n",
    "    title='Tweets per Day by Account'\n",
    ")\n",
    "\n",
    "rule = alt.Chart(pd.DataFrame({\n",
    "    'day': ['2020-03-27'],\n",
    "    'color': ['orchid']\n",
    "})).mark_rule(size=3, strokeDash=[6,3]).encode(\n",
    "  x='day:T',\n",
    "  color=alt.Color('color:N', scale=None, title = \"\")\n",
    ")\n",
    "\n",
    "text = alt.Chart(pd.DataFrame({\n",
    "    'day': ['2020-03-29'],\n",
    "    'color': ['orchid'],\n",
    "    'y': [30000]\n",
    "})).mark_text(\n",
    "    text='Announcement', angle=270, size=12\n",
    ").encode(\n",
    "    x='day:T', y='y',\n",
    "    color=alt.Color('color:N', scale=None, title = \"\")\n",
    ")\n",
    "\n",
    "rule + lines + text"
   ]
  },
  {
   "cell_type": "code",
   "execution_count": 13,
   "metadata": {},
   "outputs": [
    {
     "data": {
      "application/vnd.vegalite.v4+json": {
       "$schema": "https://vega.github.io/schema/vega-lite/v4.8.1.json",
       "config": {
        "view": {
         "continuousHeight": 300,
         "continuousWidth": 400
        }
       },
       "data": {
        "name": "data-e5c3f4c5967022af31f38f4afefc6933"
       },
       "datasets": {
        "data-e5c3f4c5967022af31f38f4afefc6933": [
         {
          "account": "Canada",
          "content": 11,
          "lang": "am"
         },
         {
          "account": "Canada",
          "content": 649,
          "lang": "ar"
         },
         {
          "account": "Canada",
          "content": 4,
          "lang": "bg"
         },
         {
          "account": "Canada",
          "content": 38,
          "lang": "bn"
         },
         {
          "account": "Canada",
          "content": 9730,
          "lang": "ca"
         },
         {
          "account": "Canada",
          "content": 4,
          "lang": "ckb"
         },
         {
          "account": "Canada",
          "content": 470,
          "lang": "cs"
         },
         {
          "account": "Canada",
          "content": 1506,
          "lang": "cy"
         },
         {
          "account": "Canada",
          "content": 623,
          "lang": "da"
         },
         {
          "account": "Canada",
          "content": 1894,
          "lang": "de"
         },
         {
          "account": "Canada",
          "content": 1,
          "lang": "dv"
         },
         {
          "account": "Canada",
          "content": 77,
          "lang": "el"
         },
         {
          "account": "Canada",
          "content": 2241754,
          "lang": "en"
         },
         {
          "account": "Canada",
          "content": 199514,
          "lang": "es"
         },
         {
          "account": "Canada",
          "content": 3600,
          "lang": "et"
         },
         {
          "account": "Canada",
          "content": 131,
          "lang": "eu"
         },
         {
          "account": "Canada",
          "content": 314,
          "lang": "fa"
         },
         {
          "account": "Canada",
          "content": 872,
          "lang": "fi"
         },
         {
          "account": "Canada",
          "content": 100748,
          "lang": "fr"
         },
         {
          "account": "Canada",
          "content": 49,
          "lang": "gu"
         },
         {
          "account": "Canada",
          "content": 3868,
          "lang": "hi"
         },
         {
          "account": "Canada",
          "content": 1689,
          "lang": "ht"
         },
         {
          "account": "Canada",
          "content": 83,
          "lang": "hu"
         },
         {
          "account": "Canada",
          "content": 1,
          "lang": "hy"
         },
         {
          "account": "Canada",
          "content": 11929,
          "lang": "in"
         },
         {
          "account": "Canada",
          "content": 34,
          "lang": "is"
         },
         {
          "account": "Canada",
          "content": 6893,
          "lang": "it"
         },
         {
          "account": "Canada",
          "content": 5,
          "lang": "iw"
         },
         {
          "account": "Canada",
          "content": 10266,
          "lang": "ja"
         },
         {
          "account": "Canada",
          "content": 29,
          "lang": "kn"
         },
         {
          "account": "Canada",
          "content": 1150,
          "lang": "ko"
         },
         {
          "account": "Canada",
          "content": 128,
          "lang": "lt"
         },
         {
          "account": "Canada",
          "content": 42,
          "lang": "lv"
         },
         {
          "account": "Canada",
          "content": 53,
          "lang": "ml"
         },
         {
          "account": "Canada",
          "content": 25,
          "lang": "mr"
         },
         {
          "account": "Canada",
          "content": 1,
          "lang": "my"
         },
         {
          "account": "Canada",
          "content": 45,
          "lang": "ne"
         },
         {
          "account": "Canada",
          "content": 4359,
          "lang": "nl"
         },
         {
          "account": "Canada",
          "content": 1000,
          "lang": "no"
         },
         {
          "account": "Canada",
          "content": 4,
          "lang": "or"
         },
         {
          "account": "Canada",
          "content": 735,
          "lang": "pa"
         },
         {
          "account": "Canada",
          "content": 700,
          "lang": "pl"
         },
         {
          "account": "Canada",
          "content": 7,
          "lang": "ps"
         },
         {
          "account": "Canada",
          "content": 47497,
          "lang": "pt"
         },
         {
          "account": "Canada",
          "content": 2054,
          "lang": "ro"
         },
         {
          "account": "Canada",
          "content": 553,
          "lang": "ru"
         },
         {
          "account": "Canada",
          "content": 1,
          "lang": "sd"
         },
         {
          "account": "Canada",
          "content": 12,
          "lang": "si"
         },
         {
          "account": "Canada",
          "content": 130,
          "lang": "sl"
         },
         {
          "account": "Canada",
          "content": 1,
          "lang": "sr"
         },
         {
          "account": "Canada",
          "content": 739,
          "lang": "sv"
         },
         {
          "account": "Canada",
          "content": 224,
          "lang": "ta"
         },
         {
          "account": "Canada",
          "content": 36,
          "lang": "te"
         },
         {
          "account": "Canada",
          "content": 587,
          "lang": "th"
         },
         {
          "account": "Canada",
          "content": 12667,
          "lang": "tl"
         },
         {
          "account": "Canada",
          "content": 3432,
          "lang": "tr"
         },
         {
          "account": "Canada",
          "content": 42,
          "lang": "uk"
         },
         {
          "account": "Canada",
          "content": 34734,
          "lang": "und"
         },
         {
          "account": "Canada",
          "content": 541,
          "lang": "ur"
         },
         {
          "account": "Canada",
          "content": 1022,
          "lang": "vi"
         },
         {
          "account": "Canada",
          "content": 1861,
          "lang": "zh"
         },
         {
          "account": "CanadianPM",
          "content": 2,
          "lang": "am"
         },
         {
          "account": "CanadianPM",
          "content": 35,
          "lang": "ar"
         },
         {
          "account": "CanadianPM",
          "content": 1,
          "lang": "bn"
         },
         {
          "account": "CanadianPM",
          "content": 8,
          "lang": "ca"
         },
         {
          "account": "CanadianPM",
          "content": 1,
          "lang": "cs"
         },
         {
          "account": "CanadianPM",
          "content": 3,
          "lang": "cy"
         },
         {
          "account": "CanadianPM",
          "content": 4,
          "lang": "da"
         },
         {
          "account": "CanadianPM",
          "content": 4,
          "lang": "de"
         },
         {
          "account": "CanadianPM",
          "content": 30429,
          "lang": "en"
         },
         {
          "account": "CanadianPM",
          "content": 117,
          "lang": "es"
         },
         {
          "account": "CanadianPM",
          "content": 13,
          "lang": "et"
         },
         {
          "account": "CanadianPM",
          "content": 4,
          "lang": "eu"
         },
         {
          "account": "CanadianPM",
          "content": 6,
          "lang": "fa"
         },
         {
          "account": "CanadianPM",
          "content": 2,
          "lang": "fi"
         },
         {
          "account": "CanadianPM",
          "content": 307,
          "lang": "fr"
         },
         {
          "account": "CanadianPM",
          "content": 1,
          "lang": "gu"
         },
         {
          "account": "CanadianPM",
          "content": 211,
          "lang": "hi"
         },
         {
          "account": "CanadianPM",
          "content": 15,
          "lang": "ht"
         },
         {
          "account": "CanadianPM",
          "content": 1,
          "lang": "hu"
         },
         {
          "account": "CanadianPM",
          "content": 81,
          "lang": "in"
         },
         {
          "account": "CanadianPM",
          "content": 2,
          "lang": "is"
         },
         {
          "account": "CanadianPM",
          "content": 26,
          "lang": "it"
         },
         {
          "account": "CanadianPM",
          "content": 128,
          "lang": "ja"
         },
         {
          "account": "CanadianPM",
          "content": 2,
          "lang": "kn"
         },
         {
          "account": "CanadianPM",
          "content": 3,
          "lang": "lt"
         },
         {
          "account": "CanadianPM",
          "content": 2,
          "lang": "lv"
         },
         {
          "account": "CanadianPM",
          "content": 1,
          "lang": "ml"
         },
         {
          "account": "CanadianPM",
          "content": 6,
          "lang": "nl"
         },
         {
          "account": "CanadianPM",
          "content": 4,
          "lang": "no"
         },
         {
          "account": "CanadianPM",
          "content": 2,
          "lang": "or"
         },
         {
          "account": "CanadianPM",
          "content": 1,
          "lang": "pa"
         },
         {
          "account": "CanadianPM",
          "content": 8,
          "lang": "pl"
         },
         {
          "account": "CanadianPM",
          "content": 21,
          "lang": "pt"
         },
         {
          "account": "CanadianPM",
          "content": 5,
          "lang": "ro"
         },
         {
          "account": "CanadianPM",
          "content": 1,
          "lang": "ru"
         },
         {
          "account": "CanadianPM",
          "content": 8,
          "lang": "sv"
         },
         {
          "account": "CanadianPM",
          "content": 10,
          "lang": "ta"
         },
         {
          "account": "CanadianPM",
          "content": 47,
          "lang": "tl"
         },
         {
          "account": "CanadianPM",
          "content": 27,
          "lang": "tr"
         },
         {
          "account": "CanadianPM",
          "content": 2,
          "lang": "uk"
         },
         {
          "account": "CanadianPM",
          "content": 3922,
          "lang": "und"
         },
         {
          "account": "CanadianPM",
          "content": 12,
          "lang": "ur"
         },
         {
          "account": "CanadianPM",
          "content": 2,
          "lang": "vi"
         },
         {
          "account": "CanadianPM",
          "content": 8,
          "lang": "zh"
         },
         {
          "account": "GovCanHealth",
          "content": 21,
          "lang": "ar"
         },
         {
          "account": "GovCanHealth",
          "content": 13,
          "lang": "ca"
         },
         {
          "account": "GovCanHealth",
          "content": 2,
          "lang": "ckb"
         },
         {
          "account": "GovCanHealth",
          "content": 2,
          "lang": "cs"
         },
         {
          "account": "GovCanHealth",
          "content": 5,
          "lang": "cy"
         },
         {
          "account": "GovCanHealth",
          "content": 3,
          "lang": "da"
         },
         {
          "account": "GovCanHealth",
          "content": 2,
          "lang": "de"
         },
         {
          "account": "GovCanHealth",
          "content": 22144,
          "lang": "en"
         },
         {
          "account": "GovCanHealth",
          "content": 62,
          "lang": "es"
         },
         {
          "account": "GovCanHealth",
          "content": 9,
          "lang": "et"
         },
         {
          "account": "GovCanHealth",
          "content": 3,
          "lang": "eu"
         },
         {
          "account": "GovCanHealth",
          "content": 4,
          "lang": "fa"
         },
         {
          "account": "GovCanHealth",
          "content": 116,
          "lang": "fr"
         },
         {
          "account": "GovCanHealth",
          "content": 180,
          "lang": "hi"
         },
         {
          "account": "GovCanHealth",
          "content": 7,
          "lang": "ht"
         },
         {
          "account": "GovCanHealth",
          "content": 1,
          "lang": "hu"
         },
         {
          "account": "GovCanHealth",
          "content": 23,
          "lang": "in"
         },
         {
          "account": "GovCanHealth",
          "content": 2,
          "lang": "is"
         },
         {
          "account": "GovCanHealth",
          "content": 10,
          "lang": "it"
         },
         {
          "account": "GovCanHealth",
          "content": 8,
          "lang": "ja"
         },
         {
          "account": "GovCanHealth",
          "content": 1,
          "lang": "lt"
         },
         {
          "account": "GovCanHealth",
          "content": 4,
          "lang": "nl"
         },
         {
          "account": "GovCanHealth",
          "content": 4,
          "lang": "no"
         },
         {
          "account": "GovCanHealth",
          "content": 5,
          "lang": "pl"
         },
         {
          "account": "GovCanHealth",
          "content": 14,
          "lang": "pt"
         },
         {
          "account": "GovCanHealth",
          "content": 5,
          "lang": "ro"
         },
         {
          "account": "GovCanHealth",
          "content": 3,
          "lang": "ru"
         },
         {
          "account": "GovCanHealth",
          "content": 6,
          "lang": "sv"
         },
         {
          "account": "GovCanHealth",
          "content": 3,
          "lang": "ta"
         },
         {
          "account": "GovCanHealth",
          "content": 15,
          "lang": "tl"
         },
         {
          "account": "GovCanHealth",
          "content": 6,
          "lang": "tr"
         },
         {
          "account": "GovCanHealth",
          "content": 2,
          "lang": "uk"
         },
         {
          "account": "GovCanHealth",
          "content": 1834,
          "lang": "und"
         },
         {
          "account": "GovCanHealth",
          "content": 30,
          "lang": "zh"
         },
         {
          "account": "JustinTrudeau",
          "content": 10,
          "lang": "am"
         },
         {
          "account": "JustinTrudeau",
          "content": 441,
          "lang": "ar"
         },
         {
          "account": "JustinTrudeau",
          "content": 2,
          "lang": "bg"
         },
         {
          "account": "JustinTrudeau",
          "content": 53,
          "lang": "bn"
         },
         {
          "account": "JustinTrudeau",
          "content": 643,
          "lang": "ca"
         },
         {
          "account": "JustinTrudeau",
          "content": 86,
          "lang": "ckb"
         },
         {
          "account": "JustinTrudeau",
          "content": 61,
          "lang": "cs"
         },
         {
          "account": "JustinTrudeau",
          "content": 91,
          "lang": "cy"
         },
         {
          "account": "JustinTrudeau",
          "content": 109,
          "lang": "da"
         },
         {
          "account": "JustinTrudeau",
          "content": 473,
          "lang": "de"
         },
         {
          "account": "JustinTrudeau",
          "content": 22,
          "lang": "el"
         },
         {
          "account": "JustinTrudeau",
          "content": 620818,
          "lang": "en"
         },
         {
          "account": "JustinTrudeau",
          "content": 13208,
          "lang": "es"
         },
         {
          "account": "JustinTrudeau",
          "content": 276,
          "lang": "et"
         },
         {
          "account": "JustinTrudeau",
          "content": 57,
          "lang": "eu"
         },
         {
          "account": "JustinTrudeau",
          "content": 308,
          "lang": "fa"
         },
         {
          "account": "JustinTrudeau",
          "content": 52,
          "lang": "fi"
         },
         {
          "account": "JustinTrudeau",
          "content": 33843,
          "lang": "fr"
         },
         {
          "account": "JustinTrudeau",
          "content": 29,
          "lang": "gu"
         },
         {
          "account": "JustinTrudeau",
          "content": 1548,
          "lang": "hi"
         },
         {
          "account": "JustinTrudeau",
          "content": 478,
          "lang": "ht"
         },
         {
          "account": "JustinTrudeau",
          "content": 72,
          "lang": "hu"
         },
         {
          "account": "JustinTrudeau",
          "content": 1256,
          "lang": "in"
         },
         {
          "account": "JustinTrudeau",
          "content": 42,
          "lang": "is"
         },
         {
          "account": "JustinTrudeau",
          "content": 462,
          "lang": "it"
         },
         {
          "account": "JustinTrudeau",
          "content": 10,
          "lang": "iw"
         },
         {
          "account": "JustinTrudeau",
          "content": 229,
          "lang": "ja"
         },
         {
          "account": "JustinTrudeau",
          "content": 1,
          "lang": "km"
         },
         {
          "account": "JustinTrudeau",
          "content": 8,
          "lang": "kn"
         },
         {
          "account": "JustinTrudeau",
          "content": 17,
          "lang": "ko"
         },
         {
          "account": "JustinTrudeau",
          "content": 44,
          "lang": "lt"
         },
         {
          "account": "JustinTrudeau",
          "content": 22,
          "lang": "lv"
         },
         {
          "account": "JustinTrudeau",
          "content": 14,
          "lang": "ml"
         },
         {
          "account": "JustinTrudeau",
          "content": 27,
          "lang": "mr"
         },
         {
          "account": "JustinTrudeau",
          "content": 1,
          "lang": "my"
         },
         {
          "account": "JustinTrudeau",
          "content": 21,
          "lang": "ne"
         },
         {
          "account": "JustinTrudeau",
          "content": 260,
          "lang": "nl"
         },
         {
          "account": "JustinTrudeau",
          "content": 97,
          "lang": "no"
         },
         {
          "account": "JustinTrudeau",
          "content": 44,
          "lang": "pa"
         },
         {
          "account": "JustinTrudeau",
          "content": 185,
          "lang": "pl"
         },
         {
          "account": "JustinTrudeau",
          "content": 3,
          "lang": "ps"
         },
         {
          "account": "JustinTrudeau",
          "content": 1181,
          "lang": "pt"
         },
         {
          "account": "JustinTrudeau",
          "content": 283,
          "lang": "ro"
         },
         {
          "account": "JustinTrudeau",
          "content": 250,
          "lang": "ru"
         },
         {
          "account": "JustinTrudeau",
          "content": 6,
          "lang": "si"
         },
         {
          "account": "JustinTrudeau",
          "content": 21,
          "lang": "sl"
         },
         {
          "account": "JustinTrudeau",
          "content": 317,
          "lang": "sv"
         },
         {
          "account": "JustinTrudeau",
          "content": 279,
          "lang": "ta"
         },
         {
          "account": "JustinTrudeau",
          "content": 13,
          "lang": "te"
         },
         {
          "account": "JustinTrudeau",
          "content": 29,
          "lang": "th"
         },
         {
          "account": "JustinTrudeau",
          "content": 998,
          "lang": "tl"
         },
         {
          "account": "JustinTrudeau",
          "content": 2149,
          "lang": "tr"
         },
         {
          "account": "JustinTrudeau",
          "content": 186,
          "lang": "uk"
         },
         {
          "account": "JustinTrudeau",
          "content": 50865,
          "lang": "und"
         },
         {
          "account": "JustinTrudeau",
          "content": 172,
          "lang": "ur"
         },
         {
          "account": "JustinTrudeau",
          "content": 34,
          "lang": "vi"
         },
         {
          "account": "JustinTrudeau",
          "content": 457,
          "lang": "zh"
         }
        ]
       },
       "encoding": {
        "color": {
         "field": "lang",
         "legend": {
          "orient": "bottom"
         },
         "sort": [
          "en",
          "es",
          "fr",
          "und",
          "pt",
          "tl",
          "in",
          "ja",
          "ca",
          "it",
          "hi",
          "tr",
          "nl",
          "et",
          "de",
          "zh",
          "ro",
          "ht",
          "cy",
          "ko",
          "ar",
          "no",
          "sv",
          "vi",
          "fi",
          "pl",
          "ru",
          "pa",
          "da",
          "ur",
          "fa",
          "th",
          "cs",
          "ta",
          "uk",
          "eu",
          "lt",
          "hu",
          "sl",
          "el",
          "ckb",
          "bn",
          "is",
          "gu",
          "ml",
          "lv",
          "ne",
          "mr",
          "te",
          "kn",
          "am",
          "si",
          "iw",
          "ps",
          "or",
          "bg",
          "my",
          "sr",
          "sd",
          "dv",
          "km",
          "hy"
         ],
         "title": "Language code",
         "type": "nominal"
        },
        "tooltip": [
         {
          "field": "account",
          "type": "nominal"
         },
         {
          "field": "lang",
          "type": "nominal"
         }
        ],
        "x": {
         "aggregate": "sum",
         "field": "content",
         "stack": "normalize",
         "title": "Percentage",
         "type": "quantitative"
        },
        "y": {
         "field": "account",
         "title": "Account",
         "type": "nominal"
        }
       },
       "mark": "bar",
       "title": "Proportion of tweets for each Account by Language"
      },
      "image/png": "[encoded data removed]",
      "text/plain": [
       "<VegaLite 4 object>\n",
       "\n",
       "If you see this message, it means the renderer has not been properly enabled\n",
       "for the frontend that you are using. For more information, see\n",
       "https://altair-viz.github.io/user_guide/troubleshooting.html\n"
      ]
     },
     "execution_count": 13,
     "metadata": {},
     "output_type": "execute_result"
    }
   ],
   "source": [
    "df_aux = pd.DataFrame(df_tot.groupby(['account', 'lang'])['content'].count()).reset_index()\n",
    "sort_lang = pd.DataFrame(df_aux.groupby(['lang'])['content'].sum()).reset_index().sort_values(by=['content'], ascending=False).reset_index()['lang']\n",
    "\n",
    "\n",
    "alt.Chart(df_aux).mark_bar().encode(\n",
    "    x=alt.X('sum(content)', stack=\"normalize\", title=\"Percentage\"),\n",
    "    y=alt.Y('account', title=\"Account\"),\n",
    "    color=alt.Color('lang', sort=sort_lang.to_list(), title=\"Language code\", legend=alt.Legend(orient=\"bottom\")),\n",
    "    tooltip=['account' , 'lang']\n",
    ").properties(\n",
    "    title='Proportion of tweets for each Account by Language'\n",
    ")\n",
    "\n",
    "\n"
   ]
  },
  {
   "cell_type": "code",
   "execution_count": null,
   "metadata": {},
   "outputs": [],
   "source": []
  }
 ],
 "metadata": {
  "kernelspec": {
   "display_name": "Python 3",
   "language": "python",
   "name": "python3"
  },
  "language_info": {
   "codemirror_mode": {
    "name": "ipython",
    "version": 3
   },
   "file_extension": ".py",
   "mimetype": "text/x-python",
   "name": "python",
   "nbconvert_exporter": "python",
   "pygments_lexer": "ipython3",
   "version": "3.7.7"
  }
 },
 "nbformat": 4,
 "nbformat_minor": 4
}
