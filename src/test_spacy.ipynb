{
 "cells": [
  {
   "cell_type": "code",
   "execution_count": 1,
   "metadata": {},
   "outputs": [],
   "source": [
    "import pandas as pd\n",
    "import numpy as np\n",
    "import spacy\n",
    "from spacytextblob.spacytextblob import SpacyTextBlob"
   ]
  },
  {
   "cell_type": "code",
   "execution_count": 3,
   "metadata": {},
   "outputs": [],
   "source": [
    "nlp = spacy.load('en_core_web_sm')\n",
    "spacy_text_blob = SpacyTextBlob()\n",
    "nlp.add_pipe(spacy_text_blob)"
   ]
  },
  {
   "cell_type": "code",
   "execution_count": 14,
   "metadata": {},
   "outputs": [],
   "source": [
    "text = \"I had a really horrible day. It was the worst day ever! But every now and then I have a really good day that makes me happy.\""
   ]
  },
  {
   "cell_type": "code",
   "execution_count": 15,
   "metadata": {},
   "outputs": [
    {
     "name": "stdout",
     "output_type": "stream",
     "text": [
      "Polarity: -0.125\n",
      "Sujectivity: 0.9\n",
      "Assessments: [(['really', 'horrible'], -1.0, 1.0, None), (['worst', '!'], -1.0, 1.0, None), (['really', 'good'], 0.7, 0.6000000000000001, None), (['happy'], 0.8, 1.0, None)]\n"
     ]
    }
   ],
   "source": [
    "doc = nlp(text)\n",
    "print('Polarity:', doc._.sentiment.polarity)\n",
    "print('Sujectivity:', doc._.sentiment.subjectivity)\n",
    "print('Assessments:', doc._.sentiment.assessments)\n"
   ]
  },
  {
   "cell_type": "code",
   "execution_count": 16,
   "metadata": {},
   "outputs": [],
   "source": [
    "text = [\"This is the best time of my life, ever and ever and forever.\",\n",
    "        \"I had a really horrible day. It was the worst day ever!\",\n",
    "        \"But every now and then I have a really good day that makes me happy.\"]"
   ]
  },
  {
   "cell_type": "code",
   "execution_count": 17,
   "metadata": {},
   "outputs": [],
   "source": [
    "nlp = spacy.load('en_core_web_sm')\n",
    "spacy_text_blob = SpacyTextBlob()\n",
    "nlp.add_pipe(spacy_text_blob)"
   ]
  },
  {
   "cell_type": "code",
   "execution_count": 18,
   "metadata": {},
   "outputs": [
    {
     "data": {
      "text/html": [
       "<div>\n",
       "<style scoped>\n",
       "    .dataframe tbody tr th:only-of-type {\n",
       "        vertical-align: middle;\n",
       "    }\n",
       "\n",
       "    .dataframe tbody tr th {\n",
       "        vertical-align: top;\n",
       "    }\n",
       "\n",
       "    .dataframe thead th {\n",
       "        text-align: right;\n",
       "    }\n",
       "</style>\n",
       "<table border=\"1\" class=\"dataframe\">\n",
       "  <thead>\n",
       "    <tr style=\"text-align: right;\">\n",
       "      <th></th>\n",
       "      <th>polarity</th>\n",
       "      <th>subjectivity</th>\n",
       "    </tr>\n",
       "  </thead>\n",
       "  <tbody>\n",
       "    <tr>\n",
       "      <th>0</th>\n",
       "      <td>1.00</td>\n",
       "      <td>0.3</td>\n",
       "    </tr>\n",
       "    <tr>\n",
       "      <th>1</th>\n",
       "      <td>-1.00</td>\n",
       "      <td>1.0</td>\n",
       "    </tr>\n",
       "    <tr>\n",
       "      <th>2</th>\n",
       "      <td>0.75</td>\n",
       "      <td>0.8</td>\n",
       "    </tr>\n",
       "  </tbody>\n",
       "</table>\n",
       "</div>"
      ],
      "text/plain": [
       "   polarity  subjectivity\n",
       "0      1.00           0.3\n",
       "1     -1.00           1.0\n",
       "2      0.75           0.8"
      ]
     },
     "execution_count": 18,
     "metadata": {},
     "output_type": "execute_result"
    }
   ],
   "source": [
    "result = [[nlp(tw)._.sentiment.polarity, nlp(tw)._.sentiment.subjectivity] for tw in text]\n",
    "result = pd.DataFrame(result).rename(columns={0:'polarity', 1:'subjectivity'})\n",
    "result"
   ]
  },
  {
   "cell_type": "code",
   "execution_count": null,
   "metadata": {},
   "outputs": [],
   "source": []
  },
  {
   "cell_type": "code",
   "execution_count": null,
   "metadata": {},
   "outputs": [],
   "source": []
  },
  {
   "cell_type": "code",
   "execution_count": 36,
   "metadata": {},
   "outputs": [
    {
     "name": "stdout",
     "output_type": "stream",
     "text": [
      "batch  0 :  300000\n",
      "batch  1 :  300000\n",
      "batch  2 :  300000\n",
      "batch  3 :  300000\n",
      "batch  4 :  300000\n",
      "batch  5 :  300000\n",
      "batch  6 :  300000\n",
      "batch  7 :  300000\n",
      "batch  8 :  300000\n",
      "batch  9 :  215145\n"
     ]
    }
   ],
   "source": [
    "# Parameters\n",
    "my_folder = \"../tweets/\"\n",
    "\n",
    "# Open `json` file with all tweets\n",
    "for i in range(0,16):\n",
    "    try:\n",
    "        df = pd.read_json(my_folder + 'tweets_sentiment_' + str(i) + '.json')\n",
    "        print(\"batch \", str(i), \": \", len(df))\n",
    "    except:\n",
    "        break"
   ]
  },
  {
   "cell_type": "code",
   "execution_count": 17,
   "metadata": {},
   "outputs": [
    {
     "data": {
      "text/plain": [
       "2915145"
      ]
     },
     "execution_count": 17,
     "metadata": {},
     "output_type": "execute_result"
    }
   ],
   "source": [
    "300000*9+215145"
   ]
  },
  {
   "cell_type": "code",
   "execution_count": 45,
   "metadata": {},
   "outputs": [
    {
     "data": {
      "text/html": [
       "<div>\n",
       "<style scoped>\n",
       "    .dataframe tbody tr th:only-of-type {\n",
       "        vertical-align: middle;\n",
       "    }\n",
       "\n",
       "    .dataframe tbody tr th {\n",
       "        vertical-align: top;\n",
       "    }\n",
       "\n",
       "    .dataframe thead th {\n",
       "        text-align: right;\n",
       "    }\n",
       "</style>\n",
       "<table border=\"1\" class=\"dataframe\">\n",
       "  <thead>\n",
       "    <tr style=\"text-align: right;\">\n",
       "      <th></th>\n",
       "      <th>account</th>\n",
       "      <th>date</th>\n",
       "      <th>replyCount</th>\n",
       "      <th>retweetCount</th>\n",
       "      <th>likeCount</th>\n",
       "      <th>quoteCount</th>\n",
       "      <th>lang</th>\n",
       "      <th>sourceLabel</th>\n",
       "      <th>username</th>\n",
       "      <th>followersCount</th>\n",
       "      <th>friendsCount</th>\n",
       "      <th>location</th>\n",
       "      <th>tweet</th>\n",
       "      <th>day</th>\n",
       "      <th>announcement</th>\n",
       "      <th>polarity</th>\n",
       "      <th>subjectivity</th>\n",
       "      <th>account_2</th>\n",
       "      <th>tweet_2</th>\n",
       "    </tr>\n",
       "  </thead>\n",
       "  <tbody>\n",
       "    <tr>\n",
       "      <th>0</th>\n",
       "      <td>JustinTrudeau</td>\n",
       "      <td>2020-04-06 16:21:04</td>\n",
       "      <td>0</td>\n",
       "      <td>0</td>\n",
       "      <td>0</td>\n",
       "      <td>0</td>\n",
       "      <td>en</td>\n",
       "      <td>Twitter for iPhone</td>\n",
       "      <td>avantiverdi</td>\n",
       "      <td>175</td>\n",
       "      <td>685</td>\n",
       "      <td>Greater Vancouver, British Columbia</td>\n",
       "      <td>federal covid-19 benefits program portal opens...</td>\n",
       "      <td>2020-04-06</td>\n",
       "      <td>True</td>\n",
       "      <td>0.000000</td>\n",
       "      <td>0.000000</td>\n",
       "      <td>JustinTrudeau</td>\n",
       "      <td>federal covid-19 benefits program portal opens...</td>\n",
       "    </tr>\n",
       "    <tr>\n",
       "      <th>1</th>\n",
       "      <td>JustinTrudeau</td>\n",
       "      <td>2020-04-06 16:21:02</td>\n",
       "      <td>0</td>\n",
       "      <td>6</td>\n",
       "      <td>32</td>\n",
       "      <td>1</td>\n",
       "      <td>en</td>\n",
       "      <td>Twitter Web App</td>\n",
       "      <td>gary_feltham</td>\n",
       "      <td>2825</td>\n",
       "      <td>882</td>\n",
       "      <td>Calgary, Alberta</td>\n",
       "      <td>@swiftie01 @justintrudeau there have been so m...</td>\n",
       "      <td>2020-04-06</td>\n",
       "      <td>True</td>\n",
       "      <td>0.500000</td>\n",
       "      <td>0.500000</td>\n",
       "      <td>JustinTrudeau</td>\n",
       "      <td>@swiftie01 @justintrudeau there have been so m...</td>\n",
       "    </tr>\n",
       "    <tr>\n",
       "      <th>2</th>\n",
       "      <td>JustinTrudeau</td>\n",
       "      <td>2020-04-06 16:20:59</td>\n",
       "      <td>0</td>\n",
       "      <td>0</td>\n",
       "      <td>1</td>\n",
       "      <td>0</td>\n",
       "      <td>en</td>\n",
       "      <td>Twitter Web App</td>\n",
       "      <td>GJacques2008</td>\n",
       "      <td>1489</td>\n",
       "      <td>548</td>\n",
       "      <td></td>\n",
       "      <td>@thdarkjedi_ @justintrudeau he 's waiting for ...</td>\n",
       "      <td>2020-04-06</td>\n",
       "      <td>True</td>\n",
       "      <td>0.000000</td>\n",
       "      <td>0.000000</td>\n",
       "      <td>JustinTrudeau</td>\n",
       "      <td>@thdarkjedi_ @justintrudeau he 's waiting for ...</td>\n",
       "    </tr>\n",
       "    <tr>\n",
       "      <th>3</th>\n",
       "      <td>JustinTrudeau</td>\n",
       "      <td>2020-04-06 16:20:57</td>\n",
       "      <td>0</td>\n",
       "      <td>0</td>\n",
       "      <td>1</td>\n",
       "      <td>0</td>\n",
       "      <td>en</td>\n",
       "      <td>Twitter Web App</td>\n",
       "      <td>Chad14513688</td>\n",
       "      <td>28</td>\n",
       "      <td>394</td>\n",
       "      <td></td>\n",
       "      <td>@liviofilice @justintrudeau @realdonaldtrump i...</td>\n",
       "      <td>2020-04-06</td>\n",
       "      <td>True</td>\n",
       "      <td>-0.250000</td>\n",
       "      <td>0.600000</td>\n",
       "      <td>JustinTrudeau</td>\n",
       "      <td>@liviofilice @justintrudeau @realdonaldtrump i...</td>\n",
       "    </tr>\n",
       "    <tr>\n",
       "      <th>4</th>\n",
       "      <td>JustinTrudeau</td>\n",
       "      <td>2020-04-06 16:20:54</td>\n",
       "      <td>0</td>\n",
       "      <td>0</td>\n",
       "      <td>0</td>\n",
       "      <td>0</td>\n",
       "      <td>en</td>\n",
       "      <td>Twitter for Android</td>\n",
       "      <td>MRobs68</td>\n",
       "      <td>5</td>\n",
       "      <td>8</td>\n",
       "      <td></td>\n",
       "      <td>@justintrudeau thanks trudy, i qualify for not...</td>\n",
       "      <td>2020-04-06</td>\n",
       "      <td>True</td>\n",
       "      <td>0.200000</td>\n",
       "      <td>0.200000</td>\n",
       "      <td>JustinTrudeau</td>\n",
       "      <td>@justintrudeau thanks trudy, i qualify for not...</td>\n",
       "    </tr>\n",
       "    <tr>\n",
       "      <th>...</th>\n",
       "      <td>...</td>\n",
       "      <td>...</td>\n",
       "      <td>...</td>\n",
       "      <td>...</td>\n",
       "      <td>...</td>\n",
       "      <td>...</td>\n",
       "      <td>...</td>\n",
       "      <td>...</td>\n",
       "      <td>...</td>\n",
       "      <td>...</td>\n",
       "      <td>...</td>\n",
       "      <td>...</td>\n",
       "      <td>...</td>\n",
       "      <td>...</td>\n",
       "      <td>...</td>\n",
       "      <td>...</td>\n",
       "      <td>...</td>\n",
       "      <td>...</td>\n",
       "      <td>...</td>\n",
       "    </tr>\n",
       "    <tr>\n",
       "      <th>215140</th>\n",
       "      <td>JustinTrudeau</td>\n",
       "      <td>2020-04-30 00:00:44</td>\n",
       "      <td>0</td>\n",
       "      <td>0</td>\n",
       "      <td>0</td>\n",
       "      <td>0</td>\n",
       "      <td>en</td>\n",
       "      <td>Twitter for iPhone</td>\n",
       "      <td>MLK20182</td>\n",
       "      <td>654</td>\n",
       "      <td>241</td>\n",
       "      <td>Ontario, Canada</td>\n",
       "      <td>investigate justin trudeau for financial crime...</td>\n",
       "      <td>2020-04-30</td>\n",
       "      <td>True</td>\n",
       "      <td>0.000000</td>\n",
       "      <td>0.000000</td>\n",
       "      <td>JustinTrudeau</td>\n",
       "      <td>investigate justin trudeau for financial crime...</td>\n",
       "    </tr>\n",
       "    <tr>\n",
       "      <th>215141</th>\n",
       "      <td>JustinTrudeau</td>\n",
       "      <td>2020-04-30 00:00:33</td>\n",
       "      <td>0</td>\n",
       "      <td>0</td>\n",
       "      <td>0</td>\n",
       "      <td>0</td>\n",
       "      <td>en</td>\n",
       "      <td>Twitter for iPhone</td>\n",
       "      <td>rfguerrini</td>\n",
       "      <td>1007</td>\n",
       "      <td>2657</td>\n",
       "      <td>The World 🇮🇹 🇨🇦 🇺🇸 🚓</td>\n",
       "      <td>@northerndrums @kingofdaddys @justintrudeau th...</td>\n",
       "      <td>2020-04-30</td>\n",
       "      <td>True</td>\n",
       "      <td>0.366667</td>\n",
       "      <td>0.662963</td>\n",
       "      <td>JustinTrudeau</td>\n",
       "      <td>@northerndrums @kingofdaddys @justintrudeau th...</td>\n",
       "    </tr>\n",
       "    <tr>\n",
       "      <th>215142</th>\n",
       "      <td>JustinTrudeau</td>\n",
       "      <td>2020-04-30 00:00:27</td>\n",
       "      <td>1</td>\n",
       "      <td>0</td>\n",
       "      <td>2</td>\n",
       "      <td>0</td>\n",
       "      <td>en</td>\n",
       "      <td>Twitter for iPhone</td>\n",
       "      <td>SRodrigues52</td>\n",
       "      <td>219</td>\n",
       "      <td>412</td>\n",
       "      <td>London, On</td>\n",
       "      <td>@shelbzzzzy @justintrudeau quit your job 🧐</td>\n",
       "      <td>2020-04-30</td>\n",
       "      <td>True</td>\n",
       "      <td>0.000000</td>\n",
       "      <td>0.000000</td>\n",
       "      <td>JustinTrudeau</td>\n",
       "      <td>@shelbzzzzy @justintrudeau quit your job 🧐</td>\n",
       "    </tr>\n",
       "    <tr>\n",
       "      <th>215143</th>\n",
       "      <td>JustinTrudeau</td>\n",
       "      <td>2020-04-30 00:00:19</td>\n",
       "      <td>1</td>\n",
       "      <td>0</td>\n",
       "      <td>0</td>\n",
       "      <td>0</td>\n",
       "      <td>en</td>\n",
       "      <td>Twitter for iPhone</td>\n",
       "      <td>pffoote</td>\n",
       "      <td>356</td>\n",
       "      <td>1531</td>\n",
       "      <td>St. John's, NL, Canada</td>\n",
       "      <td>@rcaf_arc @cfsnowbirds @canadianforces @cfoper...</td>\n",
       "      <td>2020-04-30</td>\n",
       "      <td>True</td>\n",
       "      <td>0.392857</td>\n",
       "      <td>0.517857</td>\n",
       "      <td>JustinTrudeau</td>\n",
       "      <td>@rcaf_arc @cfsnowbirds @canadianforces @cfoper...</td>\n",
       "    </tr>\n",
       "    <tr>\n",
       "      <th>215144</th>\n",
       "      <td>JustinTrudeau</td>\n",
       "      <td>2020-04-30 00:00:08</td>\n",
       "      <td>0</td>\n",
       "      <td>0</td>\n",
       "      <td>0</td>\n",
       "      <td>0</td>\n",
       "      <td>en</td>\n",
       "      <td>Twitter Web App</td>\n",
       "      <td>DavidCBarron</td>\n",
       "      <td>231</td>\n",
       "      <td>331</td>\n",
       "      <td>Brampton Ontario</td>\n",
       "      <td>@cbcnews @ctvnews @justintrudeau @celliottabil...</td>\n",
       "      <td>2020-04-30</td>\n",
       "      <td>True</td>\n",
       "      <td>-1.000000</td>\n",
       "      <td>1.000000</td>\n",
       "      <td>JustinTrudeau</td>\n",
       "      <td>@cbcnews @ctvnews @justintrudeau @celliottabil...</td>\n",
       "    </tr>\n",
       "  </tbody>\n",
       "</table>\n",
       "<p>215145 rows × 19 columns</p>\n",
       "</div>"
      ],
      "text/plain": [
       "              account                date  replyCount  retweetCount  \\\n",
       "0       JustinTrudeau 2020-04-06 16:21:04           0             0   \n",
       "1       JustinTrudeau 2020-04-06 16:21:02           0             6   \n",
       "2       JustinTrudeau 2020-04-06 16:20:59           0             0   \n",
       "3       JustinTrudeau 2020-04-06 16:20:57           0             0   \n",
       "4       JustinTrudeau 2020-04-06 16:20:54           0             0   \n",
       "...               ...                 ...         ...           ...   \n",
       "215140  JustinTrudeau 2020-04-30 00:00:44           0             0   \n",
       "215141  JustinTrudeau 2020-04-30 00:00:33           0             0   \n",
       "215142  JustinTrudeau 2020-04-30 00:00:27           1             0   \n",
       "215143  JustinTrudeau 2020-04-30 00:00:19           1             0   \n",
       "215144  JustinTrudeau 2020-04-30 00:00:08           0             0   \n",
       "\n",
       "        likeCount  quoteCount lang          sourceLabel      username  \\\n",
       "0               0           0   en   Twitter for iPhone   avantiverdi   \n",
       "1              32           1   en      Twitter Web App  gary_feltham   \n",
       "2               1           0   en      Twitter Web App  GJacques2008   \n",
       "3               1           0   en      Twitter Web App  Chad14513688   \n",
       "4               0           0   en  Twitter for Android       MRobs68   \n",
       "...           ...         ...  ...                  ...           ...   \n",
       "215140          0           0   en   Twitter for iPhone      MLK20182   \n",
       "215141          0           0   en   Twitter for iPhone    rfguerrini   \n",
       "215142          2           0   en   Twitter for iPhone  SRodrigues52   \n",
       "215143          0           0   en   Twitter for iPhone       pffoote   \n",
       "215144          0           0   en      Twitter Web App  DavidCBarron   \n",
       "\n",
       "        followersCount  friendsCount                             location  \\\n",
       "0                  175           685  Greater Vancouver, British Columbia   \n",
       "1                 2825           882                     Calgary, Alberta   \n",
       "2                 1489           548                                        \n",
       "3                   28           394                                        \n",
       "4                    5             8                                        \n",
       "...                ...           ...                                  ...   \n",
       "215140             654           241                      Ontario, Canada   \n",
       "215141            1007          2657                 The World 🇮🇹 🇨🇦 🇺🇸 🚓   \n",
       "215142             219           412                           London, On   \n",
       "215143             356          1531               St. John's, NL, Canada   \n",
       "215144             231           331                     Brampton Ontario   \n",
       "\n",
       "                                                    tweet         day  \\\n",
       "0       federal covid-19 benefits program portal opens...  2020-04-06   \n",
       "1       @swiftie01 @justintrudeau there have been so m...  2020-04-06   \n",
       "2       @thdarkjedi_ @justintrudeau he 's waiting for ...  2020-04-06   \n",
       "3       @liviofilice @justintrudeau @realdonaldtrump i...  2020-04-06   \n",
       "4       @justintrudeau thanks trudy, i qualify for not...  2020-04-06   \n",
       "...                                                   ...         ...   \n",
       "215140  investigate justin trudeau for financial crime...  2020-04-30   \n",
       "215141  @northerndrums @kingofdaddys @justintrudeau th...  2020-04-30   \n",
       "215142         @shelbzzzzy @justintrudeau quit your job 🧐  2020-04-30   \n",
       "215143  @rcaf_arc @cfsnowbirds @canadianforces @cfoper...  2020-04-30   \n",
       "215144  @cbcnews @ctvnews @justintrudeau @celliottabil...  2020-04-30   \n",
       "\n",
       "        announcement  polarity  subjectivity      account_2  \\\n",
       "0               True  0.000000      0.000000  JustinTrudeau   \n",
       "1               True  0.500000      0.500000  JustinTrudeau   \n",
       "2               True  0.000000      0.000000  JustinTrudeau   \n",
       "3               True -0.250000      0.600000  JustinTrudeau   \n",
       "4               True  0.200000      0.200000  JustinTrudeau   \n",
       "...              ...       ...           ...            ...   \n",
       "215140          True  0.000000      0.000000  JustinTrudeau   \n",
       "215141          True  0.366667      0.662963  JustinTrudeau   \n",
       "215142          True  0.000000      0.000000  JustinTrudeau   \n",
       "215143          True  0.392857      0.517857  JustinTrudeau   \n",
       "215144          True -1.000000      1.000000  JustinTrudeau   \n",
       "\n",
       "                                                  tweet_2  \n",
       "0       federal covid-19 benefits program portal opens...  \n",
       "1       @swiftie01 @justintrudeau there have been so m...  \n",
       "2       @thdarkjedi_ @justintrudeau he 's waiting for ...  \n",
       "3       @liviofilice @justintrudeau @realdonaldtrump i...  \n",
       "4       @justintrudeau thanks trudy, i qualify for not...  \n",
       "...                                                   ...  \n",
       "215140  investigate justin trudeau for financial crime...  \n",
       "215141  @northerndrums @kingofdaddys @justintrudeau th...  \n",
       "215142         @shelbzzzzy @justintrudeau quit your job 🧐  \n",
       "215143  @rcaf_arc @cfsnowbirds @canadianforces @cfoper...  \n",
       "215144  @cbcnews @ctvnews @justintrudeau @celliottabil...  \n",
       "\n",
       "[215145 rows x 19 columns]"
      ]
     },
     "execution_count": 45,
     "metadata": {},
     "output_type": "execute_result"
    }
   ],
   "source": [
    "aux = df[[\"account\", \"tweet\"]].rename(columns={\"account\":\"account_2\", \"tweet\":\"tweet_2\"})\n",
    "\n",
    "result = pd.concat([df, aux], axis=1)\n",
    "\n",
    "result"
   ]
  },
  {
   "cell_type": "code",
   "execution_count": null,
   "metadata": {},
   "outputs": [],
   "source": []
  },
  {
   "cell_type": "code",
   "execution_count": null,
   "metadata": {},
   "outputs": [],
   "source": []
  },
  {
   "cell_type": "code",
   "execution_count": null,
   "metadata": {},
   "outputs": [],
   "source": []
  },
  {
   "cell_type": "code",
   "execution_count": 2,
   "metadata": {},
   "outputs": [],
   "source": [
    "# Parameters\n",
    "my_folder = \"../tweets/\"\n",
    "df = pd.read_json(my_folder + 'tweets_db_clean.json')"
   ]
  },
  {
   "cell_type": "code",
   "execution_count": 3,
   "metadata": {},
   "outputs": [
    {
     "name": "stdout",
     "output_type": "stream",
     "text": [
      "Variables: add date, announcement, and select only english tweets.\n"
     ]
    }
   ],
   "source": [
    "print(\"Variables: add date, announcement, and select only english tweets.\") \n",
    "df['day'] = [df['date'][i].strftime(\"%Y-%m-%d\") for i in range(len(df))] # add day\n",
    "df['announcement'] = df['day'] >= \"2020-03-27\" # boolean variable of the Accouncement\n",
    "df2 = df[df['lang']=='en'].reset_index(drop=True) # select only tweets in English"
   ]
  },
  {
   "cell_type": "code",
   "execution_count": 4,
   "metadata": {},
   "outputs": [
    {
     "name": "stdout",
     "output_type": "stream",
     "text": [
      "3503875\n",
      "2915145\n"
     ]
    }
   ],
   "source": [
    "my_size = len(df)\n",
    "print(len(df))\n",
    "print(len(df2))"
   ]
  },
  {
   "cell_type": "code",
   "execution_count": 5,
   "metadata": {},
   "outputs": [
    {
     "data": {
      "text/plain": [
       "3503875"
      ]
     },
     "execution_count": 5,
     "metadata": {},
     "output_type": "execute_result"
    }
   ],
   "source": [
    "my_size"
   ]
  },
  {
   "cell_type": "code",
   "execution_count": 6,
   "metadata": {},
   "outputs": [],
   "source": [
    "i = 0\n",
    "n = 300_000"
   ]
  },
  {
   "cell_type": "code",
   "execution_count": 7,
   "metadata": {},
   "outputs": [
    {
     "name": "stdout",
     "output_type": "stream",
     "text": [
      "0\n",
      "1\n",
      "2\n",
      "3\n",
      "4\n",
      "5\n",
      "6\n",
      "7\n",
      "8\n",
      "9\n",
      "10\n",
      "11\n"
     ]
    }
   ],
   "source": [
    "for i in range(int(my_size / n) + 1):\n",
    "    print(i)"
   ]
  },
  {
   "cell_type": "code",
   "execution_count": null,
   "metadata": {},
   "outputs": [],
   "source": []
  }
 ],
 "metadata": {
  "kernelspec": {
   "display_name": "Python 3",
   "language": "python",
   "name": "python3"
  },
  "language_info": {
   "codemirror_mode": {
    "name": "ipython",
    "version": 3
   },
   "file_extension": ".py",
   "mimetype": "text/x-python",
   "name": "python",
   "nbconvert_exporter": "python",
   "pygments_lexer": "ipython3",
   "version": "3.7.7"
  }
 },
 "nbformat": 4,
 "nbformat_minor": 4
}
